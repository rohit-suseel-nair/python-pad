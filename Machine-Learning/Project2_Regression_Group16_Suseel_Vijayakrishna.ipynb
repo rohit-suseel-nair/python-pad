{
 "cells": [
  {
   "cell_type": "markdown",
   "metadata": {},
   "source": [
    "# Project - 2 Group 16 - Rohit Suseel, Madhumitha Vijayakrishna\n",
    "\n",
    "<font size=\"5\">Predicting Housing Prices in King County, USA using Regression Analysis</font>"
   ]
  },
  {
   "cell_type": "markdown",
   "metadata": {},
   "source": [
    "Regression\n",
    "Abstratct: This dataset contains house sale prices for King County, which includes Seattle. It includes homes sold between May 2014 and May 2015.\n",
    "\n",
    "Source Link: https://www.kaggle.com/harlfoxem/housesalesprediction\n",
    "\n",
    "MinMaxScaler is used for both the tasks because StandardScaler cannot guarantee balanced feature scales in the presence of outliers.\n",
    "\n",
    "\n",
    "There are no missing values in the original datasets, values are manually removed."
   ]
  },
  {
   "cell_type": "code",
   "execution_count": 4,
   "metadata": {},
   "outputs": [
    {
     "name": "stdout",
     "output_type": "stream",
     "text": [
      "<class 'pandas.core.frame.DataFrame'>\n",
      "RangeIndex: 21613 entries, 0 to 21612\n",
      "Data columns (total 21 columns):\n",
      " #   Column         Non-Null Count  Dtype  \n",
      "---  ------         --------------  -----  \n",
      " 0   id             21613 non-null  int64  \n",
      " 1   date           21613 non-null  object \n",
      " 2   SalePrice      21613 non-null  float64\n",
      " 3   bedrooms       21613 non-null  int64  \n",
      " 4   bathrooms      21613 non-null  float64\n",
      " 5   sqft_living    21613 non-null  int64  \n",
      " 6   sqft_lot       21613 non-null  int64  \n",
      " 7   floors         21613 non-null  float64\n",
      " 8   waterfront     21613 non-null  int64  \n",
      " 9   view           21613 non-null  int64  \n",
      " 10  condition      21613 non-null  int64  \n",
      " 11  grade          21613 non-null  int64  \n",
      " 12  sqft_above     21613 non-null  int64  \n",
      " 13  sqft_basement  21613 non-null  int64  \n",
      " 14  yr_built       21613 non-null  int64  \n",
      " 15  yr_renovated   21613 non-null  int64  \n",
      " 16  zipcode        21613 non-null  int64  \n",
      " 17  lat            21613 non-null  float64\n",
      " 18  long           21613 non-null  float64\n",
      " 19  sqft_living15  21613 non-null  int64  \n",
      " 20  sqft_lot15     21613 non-null  int64  \n",
      "dtypes: float64(5), int64(15), object(1)\n",
      "memory usage: 3.5+ MB\n"
     ]
    }
   ],
   "source": [
    "import numpy as np #handling numbers\n",
    "import pandas as pd #handling the dataset\n",
    "import matplotlib as mpl \n",
    "import matplotlib.pyplot as plt \n",
    "from sklearn.impute import SimpleImputer # handling missing data\n",
    "from sklearn.preprocessing import LabelEncoder, OneHotEncoder # encoding categorical data\n",
    "from sklearn.model_selection import train_test_split # splitting training and testing data\n",
    "from sklearn.preprocessing import StandardScaler #feature scaling\n",
    "%matplotlib inline\n",
    "import seaborn as sns\n",
    "import matplotlib.pyplot as plt\n",
    "\n",
    "df = pd.read_csv('D:/UTD Fall 2020/AML/Project 1/Project1_Group16/kc_house_data.csv') \n",
    "df.rename(columns ={'price': 'SalePrice'}, inplace =True)\n",
    "df.info()"
   ]
  },
  {
   "cell_type": "code",
   "execution_count": 22,
   "metadata": {},
   "outputs": [
    {
     "data": {
      "text/html": [
       "<div>\n",
       "<style scoped>\n",
       "    .dataframe tbody tr th:only-of-type {\n",
       "        vertical-align: middle;\n",
       "    }\n",
       "\n",
       "    .dataframe tbody tr th {\n",
       "        vertical-align: top;\n",
       "    }\n",
       "\n",
       "    .dataframe thead th {\n",
       "        text-align: right;\n",
       "    }\n",
       "</style>\n",
       "<table border=\"1\" class=\"dataframe\">\n",
       "  <thead>\n",
       "    <tr style=\"text-align: right;\">\n",
       "      <th></th>\n",
       "      <th>id</th>\n",
       "      <th>SalePrice</th>\n",
       "      <th>bedrooms</th>\n",
       "      <th>bathrooms</th>\n",
       "      <th>sqft_living</th>\n",
       "      <th>sqft_lot</th>\n",
       "      <th>floors</th>\n",
       "      <th>waterfront</th>\n",
       "      <th>view</th>\n",
       "      <th>condition</th>\n",
       "      <th>grade</th>\n",
       "      <th>sqft_above</th>\n",
       "      <th>sqft_basement</th>\n",
       "      <th>yr_built</th>\n",
       "      <th>yr_renovated</th>\n",
       "      <th>zipcode</th>\n",
       "      <th>lat</th>\n",
       "      <th>long</th>\n",
       "      <th>sqft_living15</th>\n",
       "      <th>sqft_lot15</th>\n",
       "    </tr>\n",
       "  </thead>\n",
       "  <tbody>\n",
       "    <tr>\n",
       "      <th>count</th>\n",
       "      <td>2.161300e+04</td>\n",
       "      <td>2.161300e+04</td>\n",
       "      <td>21613.000000</td>\n",
       "      <td>21613.000000</td>\n",
       "      <td>21613.000000</td>\n",
       "      <td>2.161300e+04</td>\n",
       "      <td>21613.000000</td>\n",
       "      <td>21613.000000</td>\n",
       "      <td>21613.000000</td>\n",
       "      <td>21613.000000</td>\n",
       "      <td>21613.000000</td>\n",
       "      <td>21613.000000</td>\n",
       "      <td>21613.000000</td>\n",
       "      <td>21613.000000</td>\n",
       "      <td>21613.000000</td>\n",
       "      <td>21613.000000</td>\n",
       "      <td>21613.000000</td>\n",
       "      <td>21613.000000</td>\n",
       "      <td>21613.000000</td>\n",
       "      <td>21613.000000</td>\n",
       "    </tr>\n",
       "    <tr>\n",
       "      <th>mean</th>\n",
       "      <td>4.580302e+09</td>\n",
       "      <td>5.400881e+05</td>\n",
       "      <td>3.370842</td>\n",
       "      <td>2.114757</td>\n",
       "      <td>2079.899736</td>\n",
       "      <td>1.510697e+04</td>\n",
       "      <td>1.494309</td>\n",
       "      <td>0.007542</td>\n",
       "      <td>0.234303</td>\n",
       "      <td>3.409430</td>\n",
       "      <td>7.656873</td>\n",
       "      <td>1788.390691</td>\n",
       "      <td>291.509045</td>\n",
       "      <td>1971.005136</td>\n",
       "      <td>84.402258</td>\n",
       "      <td>98077.939805</td>\n",
       "      <td>47.560053</td>\n",
       "      <td>-122.213896</td>\n",
       "      <td>1986.552492</td>\n",
       "      <td>12768.455652</td>\n",
       "    </tr>\n",
       "    <tr>\n",
       "      <th>std</th>\n",
       "      <td>2.876566e+09</td>\n",
       "      <td>3.671272e+05</td>\n",
       "      <td>0.930062</td>\n",
       "      <td>0.770163</td>\n",
       "      <td>918.440897</td>\n",
       "      <td>4.142051e+04</td>\n",
       "      <td>0.539989</td>\n",
       "      <td>0.086517</td>\n",
       "      <td>0.766318</td>\n",
       "      <td>0.650743</td>\n",
       "      <td>1.175459</td>\n",
       "      <td>828.090978</td>\n",
       "      <td>442.575043</td>\n",
       "      <td>29.373411</td>\n",
       "      <td>401.679240</td>\n",
       "      <td>53.505026</td>\n",
       "      <td>0.138564</td>\n",
       "      <td>0.140828</td>\n",
       "      <td>685.391304</td>\n",
       "      <td>27304.179631</td>\n",
       "    </tr>\n",
       "    <tr>\n",
       "      <th>min</th>\n",
       "      <td>1.000102e+06</td>\n",
       "      <td>7.500000e+04</td>\n",
       "      <td>0.000000</td>\n",
       "      <td>0.000000</td>\n",
       "      <td>290.000000</td>\n",
       "      <td>5.200000e+02</td>\n",
       "      <td>1.000000</td>\n",
       "      <td>0.000000</td>\n",
       "      <td>0.000000</td>\n",
       "      <td>1.000000</td>\n",
       "      <td>1.000000</td>\n",
       "      <td>290.000000</td>\n",
       "      <td>0.000000</td>\n",
       "      <td>1900.000000</td>\n",
       "      <td>0.000000</td>\n",
       "      <td>98001.000000</td>\n",
       "      <td>47.155900</td>\n",
       "      <td>-122.519000</td>\n",
       "      <td>399.000000</td>\n",
       "      <td>651.000000</td>\n",
       "    </tr>\n",
       "    <tr>\n",
       "      <th>25%</th>\n",
       "      <td>2.123049e+09</td>\n",
       "      <td>3.219500e+05</td>\n",
       "      <td>3.000000</td>\n",
       "      <td>1.750000</td>\n",
       "      <td>1427.000000</td>\n",
       "      <td>5.040000e+03</td>\n",
       "      <td>1.000000</td>\n",
       "      <td>0.000000</td>\n",
       "      <td>0.000000</td>\n",
       "      <td>3.000000</td>\n",
       "      <td>7.000000</td>\n",
       "      <td>1190.000000</td>\n",
       "      <td>0.000000</td>\n",
       "      <td>1951.000000</td>\n",
       "      <td>0.000000</td>\n",
       "      <td>98033.000000</td>\n",
       "      <td>47.471000</td>\n",
       "      <td>-122.328000</td>\n",
       "      <td>1490.000000</td>\n",
       "      <td>5100.000000</td>\n",
       "    </tr>\n",
       "    <tr>\n",
       "      <th>50%</th>\n",
       "      <td>3.904930e+09</td>\n",
       "      <td>4.500000e+05</td>\n",
       "      <td>3.000000</td>\n",
       "      <td>2.250000</td>\n",
       "      <td>1910.000000</td>\n",
       "      <td>7.618000e+03</td>\n",
       "      <td>1.500000</td>\n",
       "      <td>0.000000</td>\n",
       "      <td>0.000000</td>\n",
       "      <td>3.000000</td>\n",
       "      <td>7.000000</td>\n",
       "      <td>1560.000000</td>\n",
       "      <td>0.000000</td>\n",
       "      <td>1975.000000</td>\n",
       "      <td>0.000000</td>\n",
       "      <td>98065.000000</td>\n",
       "      <td>47.571800</td>\n",
       "      <td>-122.230000</td>\n",
       "      <td>1840.000000</td>\n",
       "      <td>7620.000000</td>\n",
       "    </tr>\n",
       "    <tr>\n",
       "      <th>75%</th>\n",
       "      <td>7.308900e+09</td>\n",
       "      <td>6.450000e+05</td>\n",
       "      <td>4.000000</td>\n",
       "      <td>2.500000</td>\n",
       "      <td>2550.000000</td>\n",
       "      <td>1.068800e+04</td>\n",
       "      <td>2.000000</td>\n",
       "      <td>0.000000</td>\n",
       "      <td>0.000000</td>\n",
       "      <td>4.000000</td>\n",
       "      <td>8.000000</td>\n",
       "      <td>2210.000000</td>\n",
       "      <td>560.000000</td>\n",
       "      <td>1997.000000</td>\n",
       "      <td>0.000000</td>\n",
       "      <td>98118.000000</td>\n",
       "      <td>47.678000</td>\n",
       "      <td>-122.125000</td>\n",
       "      <td>2360.000000</td>\n",
       "      <td>10083.000000</td>\n",
       "    </tr>\n",
       "    <tr>\n",
       "      <th>max</th>\n",
       "      <td>9.900000e+09</td>\n",
       "      <td>7.700000e+06</td>\n",
       "      <td>33.000000</td>\n",
       "      <td>8.000000</td>\n",
       "      <td>13540.000000</td>\n",
       "      <td>1.651359e+06</td>\n",
       "      <td>3.500000</td>\n",
       "      <td>1.000000</td>\n",
       "      <td>4.000000</td>\n",
       "      <td>5.000000</td>\n",
       "      <td>13.000000</td>\n",
       "      <td>9410.000000</td>\n",
       "      <td>4820.000000</td>\n",
       "      <td>2015.000000</td>\n",
       "      <td>2015.000000</td>\n",
       "      <td>98199.000000</td>\n",
       "      <td>47.777600</td>\n",
       "      <td>-121.315000</td>\n",
       "      <td>6210.000000</td>\n",
       "      <td>871200.000000</td>\n",
       "    </tr>\n",
       "  </tbody>\n",
       "</table>\n",
       "</div>"
      ],
      "text/plain": [
       "                 id     SalePrice      bedrooms     bathrooms   sqft_living  \\\n",
       "count  2.161300e+04  2.161300e+04  21613.000000  21613.000000  21613.000000   \n",
       "mean   4.580302e+09  5.400881e+05      3.370842      2.114757   2079.899736   \n",
       "std    2.876566e+09  3.671272e+05      0.930062      0.770163    918.440897   \n",
       "min    1.000102e+06  7.500000e+04      0.000000      0.000000    290.000000   \n",
       "25%    2.123049e+09  3.219500e+05      3.000000      1.750000   1427.000000   \n",
       "50%    3.904930e+09  4.500000e+05      3.000000      2.250000   1910.000000   \n",
       "75%    7.308900e+09  6.450000e+05      4.000000      2.500000   2550.000000   \n",
       "max    9.900000e+09  7.700000e+06     33.000000      8.000000  13540.000000   \n",
       "\n",
       "           sqft_lot        floors    waterfront          view     condition  \\\n",
       "count  2.161300e+04  21613.000000  21613.000000  21613.000000  21613.000000   \n",
       "mean   1.510697e+04      1.494309      0.007542      0.234303      3.409430   \n",
       "std    4.142051e+04      0.539989      0.086517      0.766318      0.650743   \n",
       "min    5.200000e+02      1.000000      0.000000      0.000000      1.000000   \n",
       "25%    5.040000e+03      1.000000      0.000000      0.000000      3.000000   \n",
       "50%    7.618000e+03      1.500000      0.000000      0.000000      3.000000   \n",
       "75%    1.068800e+04      2.000000      0.000000      0.000000      4.000000   \n",
       "max    1.651359e+06      3.500000      1.000000      4.000000      5.000000   \n",
       "\n",
       "              grade    sqft_above  sqft_basement      yr_built  yr_renovated  \\\n",
       "count  21613.000000  21613.000000   21613.000000  21613.000000  21613.000000   \n",
       "mean       7.656873   1788.390691     291.509045   1971.005136     84.402258   \n",
       "std        1.175459    828.090978     442.575043     29.373411    401.679240   \n",
       "min        1.000000    290.000000       0.000000   1900.000000      0.000000   \n",
       "25%        7.000000   1190.000000       0.000000   1951.000000      0.000000   \n",
       "50%        7.000000   1560.000000       0.000000   1975.000000      0.000000   \n",
       "75%        8.000000   2210.000000     560.000000   1997.000000      0.000000   \n",
       "max       13.000000   9410.000000    4820.000000   2015.000000   2015.000000   \n",
       "\n",
       "            zipcode           lat          long  sqft_living15     sqft_lot15  \n",
       "count  21613.000000  21613.000000  21613.000000   21613.000000   21613.000000  \n",
       "mean   98077.939805     47.560053   -122.213896    1986.552492   12768.455652  \n",
       "std       53.505026      0.138564      0.140828     685.391304   27304.179631  \n",
       "min    98001.000000     47.155900   -122.519000     399.000000     651.000000  \n",
       "25%    98033.000000     47.471000   -122.328000    1490.000000    5100.000000  \n",
       "50%    98065.000000     47.571800   -122.230000    1840.000000    7620.000000  \n",
       "75%    98118.000000     47.678000   -122.125000    2360.000000   10083.000000  \n",
       "max    98199.000000     47.777600   -121.315000    6210.000000  871200.000000  "
      ]
     },
     "execution_count": 22,
     "metadata": {},
     "output_type": "execute_result"
    }
   ],
   "source": [
    "df.describe()"
   ]
  },
  {
   "cell_type": "code",
   "execution_count": 23,
   "metadata": {},
   "outputs": [
    {
     "data": {
      "text/html": [
       "<div>\n",
       "<style scoped>\n",
       "    .dataframe tbody tr th:only-of-type {\n",
       "        vertical-align: middle;\n",
       "    }\n",
       "\n",
       "    .dataframe tbody tr th {\n",
       "        vertical-align: top;\n",
       "    }\n",
       "\n",
       "    .dataframe thead th {\n",
       "        text-align: right;\n",
       "    }\n",
       "</style>\n",
       "<table border=\"1\" class=\"dataframe\">\n",
       "  <thead>\n",
       "    <tr style=\"text-align: right;\">\n",
       "      <th></th>\n",
       "      <th>id</th>\n",
       "      <th>date</th>\n",
       "      <th>SalePrice</th>\n",
       "      <th>bedrooms</th>\n",
       "      <th>bathrooms</th>\n",
       "      <th>sqft_living</th>\n",
       "      <th>sqft_lot</th>\n",
       "      <th>floors</th>\n",
       "      <th>waterfront</th>\n",
       "      <th>view</th>\n",
       "      <th>...</th>\n",
       "      <th>grade</th>\n",
       "      <th>sqft_above</th>\n",
       "      <th>sqft_basement</th>\n",
       "      <th>yr_built</th>\n",
       "      <th>yr_renovated</th>\n",
       "      <th>zipcode</th>\n",
       "      <th>lat</th>\n",
       "      <th>long</th>\n",
       "      <th>sqft_living15</th>\n",
       "      <th>sqft_lot15</th>\n",
       "    </tr>\n",
       "  </thead>\n",
       "  <tbody>\n",
       "    <tr>\n",
       "      <th>0</th>\n",
       "      <td>7129300520</td>\n",
       "      <td>20141013T000000</td>\n",
       "      <td>221900.0</td>\n",
       "      <td>3</td>\n",
       "      <td>1.00</td>\n",
       "      <td>1180</td>\n",
       "      <td>5650</td>\n",
       "      <td>1.0</td>\n",
       "      <td>0</td>\n",
       "      <td>0</td>\n",
       "      <td>...</td>\n",
       "      <td>7</td>\n",
       "      <td>1180</td>\n",
       "      <td>0</td>\n",
       "      <td>1955</td>\n",
       "      <td>0</td>\n",
       "      <td>98178</td>\n",
       "      <td>47.5112</td>\n",
       "      <td>-122.257</td>\n",
       "      <td>1340</td>\n",
       "      <td>5650</td>\n",
       "    </tr>\n",
       "    <tr>\n",
       "      <th>1</th>\n",
       "      <td>6414100192</td>\n",
       "      <td>20141209T000000</td>\n",
       "      <td>538000.0</td>\n",
       "      <td>3</td>\n",
       "      <td>2.25</td>\n",
       "      <td>2570</td>\n",
       "      <td>7242</td>\n",
       "      <td>2.0</td>\n",
       "      <td>0</td>\n",
       "      <td>0</td>\n",
       "      <td>...</td>\n",
       "      <td>7</td>\n",
       "      <td>2170</td>\n",
       "      <td>400</td>\n",
       "      <td>1951</td>\n",
       "      <td>1991</td>\n",
       "      <td>98125</td>\n",
       "      <td>47.7210</td>\n",
       "      <td>-122.319</td>\n",
       "      <td>1690</td>\n",
       "      <td>7639</td>\n",
       "    </tr>\n",
       "    <tr>\n",
       "      <th>2</th>\n",
       "      <td>5631500400</td>\n",
       "      <td>20150225T000000</td>\n",
       "      <td>180000.0</td>\n",
       "      <td>2</td>\n",
       "      <td>1.00</td>\n",
       "      <td>770</td>\n",
       "      <td>10000</td>\n",
       "      <td>1.0</td>\n",
       "      <td>0</td>\n",
       "      <td>0</td>\n",
       "      <td>...</td>\n",
       "      <td>6</td>\n",
       "      <td>770</td>\n",
       "      <td>0</td>\n",
       "      <td>1933</td>\n",
       "      <td>0</td>\n",
       "      <td>98028</td>\n",
       "      <td>47.7379</td>\n",
       "      <td>-122.233</td>\n",
       "      <td>2720</td>\n",
       "      <td>8062</td>\n",
       "    </tr>\n",
       "    <tr>\n",
       "      <th>3</th>\n",
       "      <td>2487200875</td>\n",
       "      <td>20141209T000000</td>\n",
       "      <td>604000.0</td>\n",
       "      <td>4</td>\n",
       "      <td>3.00</td>\n",
       "      <td>1960</td>\n",
       "      <td>5000</td>\n",
       "      <td>1.0</td>\n",
       "      <td>0</td>\n",
       "      <td>0</td>\n",
       "      <td>...</td>\n",
       "      <td>7</td>\n",
       "      <td>1050</td>\n",
       "      <td>910</td>\n",
       "      <td>1965</td>\n",
       "      <td>0</td>\n",
       "      <td>98136</td>\n",
       "      <td>47.5208</td>\n",
       "      <td>-122.393</td>\n",
       "      <td>1360</td>\n",
       "      <td>5000</td>\n",
       "    </tr>\n",
       "    <tr>\n",
       "      <th>4</th>\n",
       "      <td>1954400510</td>\n",
       "      <td>20150218T000000</td>\n",
       "      <td>510000.0</td>\n",
       "      <td>3</td>\n",
       "      <td>2.00</td>\n",
       "      <td>1680</td>\n",
       "      <td>8080</td>\n",
       "      <td>1.0</td>\n",
       "      <td>0</td>\n",
       "      <td>0</td>\n",
       "      <td>...</td>\n",
       "      <td>8</td>\n",
       "      <td>1680</td>\n",
       "      <td>0</td>\n",
       "      <td>1987</td>\n",
       "      <td>0</td>\n",
       "      <td>98074</td>\n",
       "      <td>47.6168</td>\n",
       "      <td>-122.045</td>\n",
       "      <td>1800</td>\n",
       "      <td>7503</td>\n",
       "    </tr>\n",
       "  </tbody>\n",
       "</table>\n",
       "<p>5 rows × 21 columns</p>\n",
       "</div>"
      ],
      "text/plain": [
       "           id             date  SalePrice  bedrooms  bathrooms  sqft_living  \\\n",
       "0  7129300520  20141013T000000   221900.0         3       1.00         1180   \n",
       "1  6414100192  20141209T000000   538000.0         3       2.25         2570   \n",
       "2  5631500400  20150225T000000   180000.0         2       1.00          770   \n",
       "3  2487200875  20141209T000000   604000.0         4       3.00         1960   \n",
       "4  1954400510  20150218T000000   510000.0         3       2.00         1680   \n",
       "\n",
       "   sqft_lot  floors  waterfront  view  ...  grade  sqft_above  sqft_basement  \\\n",
       "0      5650     1.0           0     0  ...      7        1180              0   \n",
       "1      7242     2.0           0     0  ...      7        2170            400   \n",
       "2     10000     1.0           0     0  ...      6         770              0   \n",
       "3      5000     1.0           0     0  ...      7        1050            910   \n",
       "4      8080     1.0           0     0  ...      8        1680              0   \n",
       "\n",
       "   yr_built  yr_renovated  zipcode      lat     long  sqft_living15  \\\n",
       "0      1955             0    98178  47.5112 -122.257           1340   \n",
       "1      1951          1991    98125  47.7210 -122.319           1690   \n",
       "2      1933             0    98028  47.7379 -122.233           2720   \n",
       "3      1965             0    98136  47.5208 -122.393           1360   \n",
       "4      1987             0    98074  47.6168 -122.045           1800   \n",
       "\n",
       "   sqft_lot15  \n",
       "0        5650  \n",
       "1        7639  \n",
       "2        8062  \n",
       "3        5000  \n",
       "4        7503  \n",
       "\n",
       "[5 rows x 21 columns]"
      ]
     },
     "execution_count": 23,
     "metadata": {},
     "output_type": "execute_result"
    }
   ],
   "source": [
    "df.head()"
   ]
  },
  {
   "cell_type": "code",
   "execution_count": 24,
   "metadata": {},
   "outputs": [
    {
     "data": {
      "text/plain": [
       "id               False\n",
       "date             False\n",
       "SalePrice        False\n",
       "bedrooms         False\n",
       "bathrooms        False\n",
       "sqft_living      False\n",
       "sqft_lot         False\n",
       "floors           False\n",
       "waterfront       False\n",
       "view             False\n",
       "condition        False\n",
       "grade            False\n",
       "sqft_above       False\n",
       "sqft_basement    False\n",
       "yr_built         False\n",
       "yr_renovated     False\n",
       "zipcode          False\n",
       "lat              False\n",
       "long             False\n",
       "sqft_living15    False\n",
       "sqft_lot15       False\n",
       "dtype: bool"
      ]
     },
     "execution_count": 24,
     "metadata": {},
     "output_type": "execute_result"
    }
   ],
   "source": [
    "pd.isnull(df).any()"
   ]
  },
  {
   "cell_type": "code",
   "execution_count": 25,
   "metadata": {},
   "outputs": [
    {
     "data": {
      "text/plain": [
       "<matplotlib.axes._subplots.AxesSubplot at 0x258a45c1208>"
      ]
     },
     "execution_count": 25,
     "metadata": {},
     "output_type": "execute_result"
    },
    {
     "data": {
      "image/png": "[encoded data removed]",
      "text/plain": [
       "<Figure size 1440x288 with 1 Axes>"
      ]
     },
     "metadata": {},
     "output_type": "display_data"
    }
   ],
   "source": [
    "plt.style.use('seaborn-whitegrid')\n",
    "fig = plt.figure(figsize=(20,4)) \n",
    "sns.countplot(y=\"grade\", data=df)"
   ]
  },
  {
   "cell_type": "code",
   "execution_count": 26,
   "metadata": {},
   "outputs": [
    {
     "data": {
      "text/plain": [
       "<matplotlib.axes._subplots.AxesSubplot at 0x258a45db048>"
      ]
     },
     "execution_count": 26,
     "metadata": {},
     "output_type": "execute_result"
    },
    {
     "data": {
      "image/png": "[encoded data removed]",
      "text/plain": [
       "<Figure size 1440x288 with 1 Axes>"
      ]
     },
     "metadata": {},
     "output_type": "display_data"
    }
   ],
   "source": [
    "plt.style.use('seaborn-whitegrid')\n",
    "fig = plt.figure(figsize=(20,4)) \n",
    "sns.countplot(y=\"yr_built\", data=df)"
   ]
  },
  {
   "cell_type": "code",
   "execution_count": 27,
   "metadata": {},
   "outputs": [
    {
     "data": {
      "image/png": "[encoded data removed]",
      "text/plain": [
       "<Figure size 864x648 with 2 Axes>"
      ]
     },
     "metadata": {},
     "output_type": "display_data"
    }
   ],
   "source": [
    "#correlation matrix\n",
    "corrmat = df.corr()\n",
    "f, ax = plt.subplots(figsize=(12, 9))\n",
    "sns.heatmap(corrmat, vmax=.8, square=True);"
   ]
  },
  {
   "cell_type": "code",
   "execution_count": 28,
   "metadata": {},
   "outputs": [
    {
     "data": {
      "image/png": "[encoded data removed]",
      "text/plain": [
       "<Figure size 432x288 with 2 Axes>"
      ]
     },
     "metadata": {},
     "output_type": "display_data"
    }
   ],
   "source": [
    "#saleprice corr\n",
    "k = 10 \n",
    "cols = corrmat.nlargest(k, 'SalePrice')['SalePrice'].index\n",
    "cm = np.corrcoef(df[cols].values.T)\n",
    "sns.set(font_scale=1.25)\n",
    "hm = sns.heatmap(cm, cbar=True, annot=True, square=True, fmt='.2f', annot_kws={'size': 10}, yticklabels=cols.values, xticklabels=cols.values)\n",
    "plt.show()"
   ]
  },
  {
   "cell_type": "code",
   "execution_count": 5,
   "metadata": {},
   "outputs": [
    {
     "data": {
      "text/plain": [
       "['id',\n",
       " 'bedrooms',\n",
       " 'bathrooms',\n",
       " 'sqft_living',\n",
       " 'sqft_lot',\n",
       " 'floors',\n",
       " 'waterfront',\n",
       " 'view',\n",
       " 'condition',\n",
       " 'grade',\n",
       " 'sqft_above',\n",
       " 'sqft_basement',\n",
       " 'yr_built',\n",
       " 'yr_renovated',\n",
       " 'zipcode',\n",
       " 'lat',\n",
       " 'long',\n",
       " 'sqft_living15',\n",
       " 'sqft_lot15']"
      ]
     },
     "execution_count": 5,
     "metadata": {},
     "output_type": "execute_result"
    }
   ],
   "source": [
    "y = df['SalePrice']\n",
    "X = df.drop(['SalePrice','date'], axis = 1)\n",
    "names = list(X.columns.values)\n",
    "names"
   ]
  },
  {
   "cell_type": "code",
   "execution_count": 6,
   "metadata": {},
   "outputs": [
    {
     "name": "stdout",
     "output_type": "stream",
     "text": [
      "0.9048331048321308\n"
     ]
    }
   ],
   "source": [
    "#introducing missing values\n",
    "for i in range((int)(X.size * 0.1)):\n",
    "    row_index = np.random.randint(X.shape[0])\n",
    "    col_index = np.random.randint(X.shape[1])\n",
    "    col = X.columns[col_index]\n",
    "    X.loc[row_index,col] = np.nan\n",
    "# Check what percentage of the data is missing\n",
    "val = 0\n",
    "for col in X.columns:\n",
    "    val += X[col].count()\n",
    "\n",
    "print(val / X.size)"
   ]
  },
  {
   "cell_type": "code",
   "execution_count": 7,
   "metadata": {},
   "outputs": [
    {
     "data": {
      "text/plain": [
       "id               1940\n",
       "bedrooms         2098\n",
       "bathrooms        2017\n",
       "sqft_living      2072\n",
       "sqft_lot         2010\n",
       "floors           1971\n",
       "waterfront       2146\n",
       "view             2054\n",
       "condition        1993\n",
       "grade            2057\n",
       "sqft_above       2083\n",
       "sqft_basement    2064\n",
       "yr_built         2125\n",
       "yr_renovated     2052\n",
       "zipcode          2096\n",
       "lat              2077\n",
       "long             2061\n",
       "sqft_living15    2102\n",
       "sqft_lot15       2062\n",
       "dtype: int64"
      ]
     },
     "execution_count": 7,
     "metadata": {},
     "output_type": "execute_result"
    }
   ],
   "source": [
    "X.isnull().sum()"
   ]
  },
  {
   "cell_type": "code",
   "execution_count": 45,
   "metadata": {},
   "outputs": [
    {
     "data": {
      "text/html": [
       "<div>\n",
       "<style scoped>\n",
       "    .dataframe tbody tr th:only-of-type {\n",
       "        vertical-align: middle;\n",
       "    }\n",
       "\n",
       "    .dataframe tbody tr th {\n",
       "        vertical-align: top;\n",
       "    }\n",
       "\n",
       "    .dataframe thead th {\n",
       "        text-align: right;\n",
       "    }\n",
       "</style>\n",
       "<table border=\"1\" class=\"dataframe\">\n",
       "  <thead>\n",
       "    <tr style=\"text-align: right;\">\n",
       "      <th></th>\n",
       "      <th>id</th>\n",
       "      <th>bedrooms</th>\n",
       "      <th>bathrooms</th>\n",
       "      <th>sqft_living</th>\n",
       "      <th>sqft_lot</th>\n",
       "      <th>floors</th>\n",
       "      <th>waterfront</th>\n",
       "      <th>view</th>\n",
       "      <th>condition</th>\n",
       "      <th>grade</th>\n",
       "      <th>sqft_above</th>\n",
       "      <th>sqft_basement</th>\n",
       "      <th>yr_built</th>\n",
       "      <th>yr_renovated</th>\n",
       "      <th>zipcode</th>\n",
       "      <th>lat</th>\n",
       "      <th>long</th>\n",
       "      <th>sqft_living15</th>\n",
       "      <th>sqft_lot15</th>\n",
       "    </tr>\n",
       "  </thead>\n",
       "  <tbody>\n",
       "    <tr>\n",
       "      <th>0</th>\n",
       "      <td>7.129301e+09</td>\n",
       "      <td>3.0</td>\n",
       "      <td>NaN</td>\n",
       "      <td>1180.0</td>\n",
       "      <td>5650.0</td>\n",
       "      <td>1.0</td>\n",
       "      <td>NaN</td>\n",
       "      <td>NaN</td>\n",
       "      <td>3.0</td>\n",
       "      <td>7.0</td>\n",
       "      <td>1180.0</td>\n",
       "      <td>0.0</td>\n",
       "      <td>NaN</td>\n",
       "      <td>0.0</td>\n",
       "      <td>98178.0</td>\n",
       "      <td>NaN</td>\n",
       "      <td>-122.257</td>\n",
       "      <td>1340.0</td>\n",
       "      <td>NaN</td>\n",
       "    </tr>\n",
       "    <tr>\n",
       "      <th>1</th>\n",
       "      <td>6.414100e+09</td>\n",
       "      <td>3.0</td>\n",
       "      <td>2.25</td>\n",
       "      <td>2570.0</td>\n",
       "      <td>7242.0</td>\n",
       "      <td>2.0</td>\n",
       "      <td>0.0</td>\n",
       "      <td>0.0</td>\n",
       "      <td>3.0</td>\n",
       "      <td>7.0</td>\n",
       "      <td>2170.0</td>\n",
       "      <td>400.0</td>\n",
       "      <td>1951.0</td>\n",
       "      <td>1991.0</td>\n",
       "      <td>98125.0</td>\n",
       "      <td>47.7210</td>\n",
       "      <td>-122.319</td>\n",
       "      <td>1690.0</td>\n",
       "      <td>7639.0</td>\n",
       "    </tr>\n",
       "    <tr>\n",
       "      <th>2</th>\n",
       "      <td>5.631500e+09</td>\n",
       "      <td>2.0</td>\n",
       "      <td>1.00</td>\n",
       "      <td>770.0</td>\n",
       "      <td>10000.0</td>\n",
       "      <td>1.0</td>\n",
       "      <td>0.0</td>\n",
       "      <td>0.0</td>\n",
       "      <td>3.0</td>\n",
       "      <td>6.0</td>\n",
       "      <td>770.0</td>\n",
       "      <td>0.0</td>\n",
       "      <td>1933.0</td>\n",
       "      <td>0.0</td>\n",
       "      <td>98028.0</td>\n",
       "      <td>47.7379</td>\n",
       "      <td>-122.233</td>\n",
       "      <td>2720.0</td>\n",
       "      <td>8062.0</td>\n",
       "    </tr>\n",
       "    <tr>\n",
       "      <th>3</th>\n",
       "      <td>2.487201e+09</td>\n",
       "      <td>4.0</td>\n",
       "      <td>NaN</td>\n",
       "      <td>1960.0</td>\n",
       "      <td>5000.0</td>\n",
       "      <td>1.0</td>\n",
       "      <td>0.0</td>\n",
       "      <td>0.0</td>\n",
       "      <td>5.0</td>\n",
       "      <td>NaN</td>\n",
       "      <td>1050.0</td>\n",
       "      <td>910.0</td>\n",
       "      <td>1965.0</td>\n",
       "      <td>0.0</td>\n",
       "      <td>98136.0</td>\n",
       "      <td>47.5208</td>\n",
       "      <td>-122.393</td>\n",
       "      <td>1360.0</td>\n",
       "      <td>5000.0</td>\n",
       "    </tr>\n",
       "    <tr>\n",
       "      <th>4</th>\n",
       "      <td>1.954401e+09</td>\n",
       "      <td>3.0</td>\n",
       "      <td>2.00</td>\n",
       "      <td>1680.0</td>\n",
       "      <td>NaN</td>\n",
       "      <td>1.0</td>\n",
       "      <td>0.0</td>\n",
       "      <td>0.0</td>\n",
       "      <td>3.0</td>\n",
       "      <td>8.0</td>\n",
       "      <td>1680.0</td>\n",
       "      <td>0.0</td>\n",
       "      <td>1987.0</td>\n",
       "      <td>0.0</td>\n",
       "      <td>98074.0</td>\n",
       "      <td>47.6168</td>\n",
       "      <td>-122.045</td>\n",
       "      <td>1800.0</td>\n",
       "      <td>7503.0</td>\n",
       "    </tr>\n",
       "  </tbody>\n",
       "</table>\n",
       "</div>"
      ],
      "text/plain": [
       "             id  bedrooms  bathrooms  sqft_living  sqft_lot  floors  \\\n",
       "0  7.129301e+09       3.0        NaN       1180.0    5650.0     1.0   \n",
       "1  6.414100e+09       3.0       2.25       2570.0    7242.0     2.0   \n",
       "2  5.631500e+09       2.0       1.00        770.0   10000.0     1.0   \n",
       "3  2.487201e+09       4.0        NaN       1960.0    5000.0     1.0   \n",
       "4  1.954401e+09       3.0       2.00       1680.0       NaN     1.0   \n",
       "\n",
       "   waterfront  view  condition  grade  sqft_above  sqft_basement  yr_built  \\\n",
       "0         NaN   NaN        3.0    7.0      1180.0            0.0       NaN   \n",
       "1         0.0   0.0        3.0    7.0      2170.0          400.0    1951.0   \n",
       "2         0.0   0.0        3.0    6.0       770.0            0.0    1933.0   \n",
       "3         0.0   0.0        5.0    NaN      1050.0          910.0    1965.0   \n",
       "4         0.0   0.0        3.0    8.0      1680.0            0.0    1987.0   \n",
       "\n",
       "   yr_renovated  zipcode      lat     long  sqft_living15  sqft_lot15  \n",
       "0           0.0  98178.0      NaN -122.257         1340.0         NaN  \n",
       "1        1991.0  98125.0  47.7210 -122.319         1690.0      7639.0  \n",
       "2           0.0  98028.0  47.7379 -122.233         2720.0      8062.0  \n",
       "3           0.0  98136.0  47.5208 -122.393         1360.0      5000.0  \n",
       "4           0.0  98074.0  47.6168 -122.045         1800.0      7503.0  "
      ]
     },
     "execution_count": 45,
     "metadata": {},
     "output_type": "execute_result"
    }
   ],
   "source": [
    "X.head()"
   ]
  },
  {
   "cell_type": "code",
   "execution_count": 8,
   "metadata": {},
   "outputs": [
    {
     "data": {
      "text/html": [
       "<div>\n",
       "<style scoped>\n",
       "    .dataframe tbody tr th:only-of-type {\n",
       "        vertical-align: middle;\n",
       "    }\n",
       "\n",
       "    .dataframe tbody tr th {\n",
       "        vertical-align: top;\n",
       "    }\n",
       "\n",
       "    .dataframe thead th {\n",
       "        text-align: right;\n",
       "    }\n",
       "</style>\n",
       "<table border=\"1\" class=\"dataframe\">\n",
       "  <thead>\n",
       "    <tr style=\"text-align: right;\">\n",
       "      <th></th>\n",
       "      <th>id</th>\n",
       "      <th>bedrooms</th>\n",
       "      <th>bathrooms</th>\n",
       "      <th>sqft_living</th>\n",
       "      <th>sqft_lot</th>\n",
       "      <th>floors</th>\n",
       "      <th>waterfront</th>\n",
       "      <th>view</th>\n",
       "      <th>condition</th>\n",
       "      <th>grade</th>\n",
       "      <th>sqft_above</th>\n",
       "      <th>sqft_basement</th>\n",
       "      <th>yr_built</th>\n",
       "      <th>yr_renovated</th>\n",
       "      <th>zipcode</th>\n",
       "      <th>lat</th>\n",
       "      <th>long</th>\n",
       "      <th>sqft_living15</th>\n",
       "      <th>sqft_lot15</th>\n",
       "    </tr>\n",
       "  </thead>\n",
       "  <tbody>\n",
       "    <tr>\n",
       "      <th>0</th>\n",
       "      <td>7.129301e+09</td>\n",
       "      <td>3.000000</td>\n",
       "      <td>1.00</td>\n",
       "      <td>1180.0</td>\n",
       "      <td>5650.000000</td>\n",
       "      <td>1.492058</td>\n",
       "      <td>0.000000</td>\n",
       "      <td>0.0</td>\n",
       "      <td>3.0</td>\n",
       "      <td>7.0</td>\n",
       "      <td>1180.0</td>\n",
       "      <td>0.000000</td>\n",
       "      <td>1955.0</td>\n",
       "      <td>0.0</td>\n",
       "      <td>98178.0</td>\n",
       "      <td>47.5112</td>\n",
       "      <td>-122.257</td>\n",
       "      <td>1340.0</td>\n",
       "      <td>5650.000000</td>\n",
       "    </tr>\n",
       "    <tr>\n",
       "      <th>1</th>\n",
       "      <td>6.414100e+09</td>\n",
       "      <td>3.000000</td>\n",
       "      <td>2.25</td>\n",
       "      <td>2570.0</td>\n",
       "      <td>7242.000000</td>\n",
       "      <td>2.000000</td>\n",
       "      <td>0.007449</td>\n",
       "      <td>0.0</td>\n",
       "      <td>3.0</td>\n",
       "      <td>7.0</td>\n",
       "      <td>2170.0</td>\n",
       "      <td>400.000000</td>\n",
       "      <td>1951.0</td>\n",
       "      <td>1991.0</td>\n",
       "      <td>98125.0</td>\n",
       "      <td>47.7210</td>\n",
       "      <td>-122.319</td>\n",
       "      <td>1690.0</td>\n",
       "      <td>7639.000000</td>\n",
       "    </tr>\n",
       "    <tr>\n",
       "      <th>2</th>\n",
       "      <td>4.578891e+09</td>\n",
       "      <td>3.369408</td>\n",
       "      <td>1.00</td>\n",
       "      <td>770.0</td>\n",
       "      <td>10000.000000</td>\n",
       "      <td>1.000000</td>\n",
       "      <td>0.000000</td>\n",
       "      <td>0.0</td>\n",
       "      <td>3.0</td>\n",
       "      <td>6.0</td>\n",
       "      <td>770.0</td>\n",
       "      <td>0.000000</td>\n",
       "      <td>1933.0</td>\n",
       "      <td>0.0</td>\n",
       "      <td>98028.0</td>\n",
       "      <td>47.7379</td>\n",
       "      <td>-122.233</td>\n",
       "      <td>2720.0</td>\n",
       "      <td>8062.000000</td>\n",
       "    </tr>\n",
       "    <tr>\n",
       "      <th>3</th>\n",
       "      <td>2.487201e+09</td>\n",
       "      <td>4.000000</td>\n",
       "      <td>3.00</td>\n",
       "      <td>1960.0</td>\n",
       "      <td>15133.180483</td>\n",
       "      <td>1.000000</td>\n",
       "      <td>0.000000</td>\n",
       "      <td>0.0</td>\n",
       "      <td>5.0</td>\n",
       "      <td>7.0</td>\n",
       "      <td>1050.0</td>\n",
       "      <td>289.737378</td>\n",
       "      <td>1965.0</td>\n",
       "      <td>0.0</td>\n",
       "      <td>98136.0</td>\n",
       "      <td>47.5208</td>\n",
       "      <td>-122.393</td>\n",
       "      <td>1360.0</td>\n",
       "      <td>5000.000000</td>\n",
       "    </tr>\n",
       "    <tr>\n",
       "      <th>4</th>\n",
       "      <td>1.954401e+09</td>\n",
       "      <td>3.000000</td>\n",
       "      <td>2.00</td>\n",
       "      <td>1680.0</td>\n",
       "      <td>8080.000000</td>\n",
       "      <td>1.000000</td>\n",
       "      <td>0.000000</td>\n",
       "      <td>0.0</td>\n",
       "      <td>3.0</td>\n",
       "      <td>8.0</td>\n",
       "      <td>1680.0</td>\n",
       "      <td>0.000000</td>\n",
       "      <td>1987.0</td>\n",
       "      <td>0.0</td>\n",
       "      <td>98074.0</td>\n",
       "      <td>47.6168</td>\n",
       "      <td>-122.045</td>\n",
       "      <td>1800.0</td>\n",
       "      <td>12672.168073</td>\n",
       "    </tr>\n",
       "  </tbody>\n",
       "</table>\n",
       "</div>"
      ],
      "text/plain": [
       "             id  bedrooms  bathrooms  sqft_living      sqft_lot    floors  \\\n",
       "0  7.129301e+09  3.000000       1.00       1180.0   5650.000000  1.492058   \n",
       "1  6.414100e+09  3.000000       2.25       2570.0   7242.000000  2.000000   \n",
       "2  4.578891e+09  3.369408       1.00        770.0  10000.000000  1.000000   \n",
       "3  2.487201e+09  4.000000       3.00       1960.0  15133.180483  1.000000   \n",
       "4  1.954401e+09  3.000000       2.00       1680.0   8080.000000  1.000000   \n",
       "\n",
       "   waterfront  view  condition  grade  sqft_above  sqft_basement  yr_built  \\\n",
       "0    0.000000   0.0        3.0    7.0      1180.0       0.000000    1955.0   \n",
       "1    0.007449   0.0        3.0    7.0      2170.0     400.000000    1951.0   \n",
       "2    0.000000   0.0        3.0    6.0       770.0       0.000000    1933.0   \n",
       "3    0.000000   0.0        5.0    7.0      1050.0     289.737378    1965.0   \n",
       "4    0.000000   0.0        3.0    8.0      1680.0       0.000000    1987.0   \n",
       "\n",
       "   yr_renovated  zipcode      lat     long  sqft_living15    sqft_lot15  \n",
       "0           0.0  98178.0  47.5112 -122.257         1340.0   5650.000000  \n",
       "1        1991.0  98125.0  47.7210 -122.319         1690.0   7639.000000  \n",
       "2           0.0  98028.0  47.7379 -122.233         2720.0   8062.000000  \n",
       "3           0.0  98136.0  47.5208 -122.393         1360.0   5000.000000  \n",
       "4           0.0  98074.0  47.6168 -122.045         1800.0  12672.168073  "
      ]
     },
     "execution_count": 8,
     "metadata": {},
     "output_type": "execute_result"
    }
   ],
   "source": [
    "#Imputing the missing values with median\n",
    "X = X.apply(lambda x: x.fillna(x.mean()),axis=0)\n",
    "X.head()"
   ]
  },
  {
   "cell_type": "code",
   "execution_count": 9,
   "metadata": {},
   "outputs": [
    {
     "data": {
      "text/html": [
       "<div>\n",
       "<style scoped>\n",
       "    .dataframe tbody tr th:only-of-type {\n",
       "        vertical-align: middle;\n",
       "    }\n",
       "\n",
       "    .dataframe tbody tr th {\n",
       "        vertical-align: top;\n",
       "    }\n",
       "\n",
       "    .dataframe thead th {\n",
       "        text-align: right;\n",
       "    }\n",
       "</style>\n",
       "<table border=\"1\" class=\"dataframe\">\n",
       "  <thead>\n",
       "    <tr style=\"text-align: right;\">\n",
       "      <th></th>\n",
       "      <th>Total</th>\n",
       "      <th>Percent</th>\n",
       "    </tr>\n",
       "  </thead>\n",
       "  <tbody>\n",
       "    <tr>\n",
       "      <th>sqft_lot15</th>\n",
       "      <td>0</td>\n",
       "      <td>0.0</td>\n",
       "    </tr>\n",
       "    <tr>\n",
       "      <th>condition</th>\n",
       "      <td>0</td>\n",
       "      <td>0.0</td>\n",
       "    </tr>\n",
       "    <tr>\n",
       "      <th>bedrooms</th>\n",
       "      <td>0</td>\n",
       "      <td>0.0</td>\n",
       "    </tr>\n",
       "    <tr>\n",
       "      <th>bathrooms</th>\n",
       "      <td>0</td>\n",
       "      <td>0.0</td>\n",
       "    </tr>\n",
       "    <tr>\n",
       "      <th>sqft_living</th>\n",
       "      <td>0</td>\n",
       "      <td>0.0</td>\n",
       "    </tr>\n",
       "    <tr>\n",
       "      <th>sqft_lot</th>\n",
       "      <td>0</td>\n",
       "      <td>0.0</td>\n",
       "    </tr>\n",
       "    <tr>\n",
       "      <th>floors</th>\n",
       "      <td>0</td>\n",
       "      <td>0.0</td>\n",
       "    </tr>\n",
       "    <tr>\n",
       "      <th>waterfront</th>\n",
       "      <td>0</td>\n",
       "      <td>0.0</td>\n",
       "    </tr>\n",
       "    <tr>\n",
       "      <th>view</th>\n",
       "      <td>0</td>\n",
       "      <td>0.0</td>\n",
       "    </tr>\n",
       "    <tr>\n",
       "      <th>grade</th>\n",
       "      <td>0</td>\n",
       "      <td>0.0</td>\n",
       "    </tr>\n",
       "    <tr>\n",
       "      <th>sqft_living15</th>\n",
       "      <td>0</td>\n",
       "      <td>0.0</td>\n",
       "    </tr>\n",
       "    <tr>\n",
       "      <th>sqft_above</th>\n",
       "      <td>0</td>\n",
       "      <td>0.0</td>\n",
       "    </tr>\n",
       "    <tr>\n",
       "      <th>sqft_basement</th>\n",
       "      <td>0</td>\n",
       "      <td>0.0</td>\n",
       "    </tr>\n",
       "    <tr>\n",
       "      <th>yr_built</th>\n",
       "      <td>0</td>\n",
       "      <td>0.0</td>\n",
       "    </tr>\n",
       "    <tr>\n",
       "      <th>yr_renovated</th>\n",
       "      <td>0</td>\n",
       "      <td>0.0</td>\n",
       "    </tr>\n",
       "    <tr>\n",
       "      <th>zipcode</th>\n",
       "      <td>0</td>\n",
       "      <td>0.0</td>\n",
       "    </tr>\n",
       "    <tr>\n",
       "      <th>lat</th>\n",
       "      <td>0</td>\n",
       "      <td>0.0</td>\n",
       "    </tr>\n",
       "    <tr>\n",
       "      <th>long</th>\n",
       "      <td>0</td>\n",
       "      <td>0.0</td>\n",
       "    </tr>\n",
       "    <tr>\n",
       "      <th>id</th>\n",
       "      <td>0</td>\n",
       "      <td>0.0</td>\n",
       "    </tr>\n",
       "  </tbody>\n",
       "</table>\n",
       "</div>"
      ],
      "text/plain": [
       "               Total  Percent\n",
       "sqft_lot15         0      0.0\n",
       "condition          0      0.0\n",
       "bedrooms           0      0.0\n",
       "bathrooms          0      0.0\n",
       "sqft_living        0      0.0\n",
       "sqft_lot           0      0.0\n",
       "floors             0      0.0\n",
       "waterfront         0      0.0\n",
       "view               0      0.0\n",
       "grade              0      0.0\n",
       "sqft_living15      0      0.0\n",
       "sqft_above         0      0.0\n",
       "sqft_basement      0      0.0\n",
       "yr_built           0      0.0\n",
       "yr_renovated       0      0.0\n",
       "zipcode            0      0.0\n",
       "lat                0      0.0\n",
       "long               0      0.0\n",
       "id                 0      0.0"
      ]
     },
     "execution_count": 9,
     "metadata": {},
     "output_type": "execute_result"
    }
   ],
   "source": [
    "total = X.isnull().sum().sort_values(ascending=False)\n",
    "percent = (X.isnull().sum()/X.isnull().count()).sort_values(ascending=False)\n",
    "missing_data = pd.concat([total, percent], axis=1, keys=['Total', 'Percent'])\n",
    "missing_data.head(20)"
   ]
  },
  {
   "cell_type": "markdown",
   "metadata": {},
   "source": [
    "## Scaling"
   ]
  },
  {
   "cell_type": "code",
   "execution_count": 10,
   "metadata": {},
   "outputs": [],
   "source": [
    "from sklearn.preprocessing import MinMaxScaler\n",
    "from sklearn.model_selection import train_test_split\n",
    "\n",
    "X_train_org, X_test_org, y_train, y_test = train_test_split(X,y, random_state = 0)\n",
    "\n",
    "scaler = MinMaxScaler()\n",
    "X_train = scaler.fit_transform(X_train_org)\n",
    "X_test = scaler.transform(X_test_org)"
   ]
  },
  {
   "cell_type": "code",
   "execution_count": 11,
   "metadata": {},
   "outputs": [],
   "source": [
    "import warnings\n",
    "warnings.filterwarnings(\"ignore\", category=FutureWarning)\n",
    "warnings.filterwarnings(\"ignore\", category=DeprecationWarning)\n",
    "from sklearn.exceptions import ConvergenceWarning\n",
    "from warnings import filterwarnings\n",
    "filterwarnings('ignore')"
   ]
  },
  {
   "cell_type": "markdown",
   "metadata": {},
   "source": [
    "# Bagging"
   ]
  },
  {
   "cell_type": "markdown",
   "metadata": {},
   "source": [
    "### Decision Tree Regressor"
   ]
  },
  {
   "cell_type": "code",
   "execution_count": 54,
   "metadata": {},
   "outputs": [
    {
     "name": "stdout",
     "output_type": "stream",
     "text": [
      "Best Hyper Parameters: {'max_features': 10, 'max_samples': 0.5, 'n_estimators': 200}\n"
     ]
    }
   ],
   "source": [
    "from sklearn.ensemble import BaggingRegressor\n",
    "from sklearn.tree import DecisionTreeRegressor\n",
    "from sklearn.model_selection import GridSearchCV\n",
    "\n",
    "mf = [2, 5, 10]\n",
    "n = [100, 200, 300, 500]\n",
    "ms = [0.1, 0.5, 1]\n",
    "\n",
    "param_grid = dict(max_features = mf, n_estimators = n, max_samples = ms)\n",
    "\n",
    "dt_rgr = DecisionTreeRegressor(max_depth = 5, random_state=0)\n",
    "bag_rgr = GridSearchCV(BaggingRegressor(dt_rgr,  bootstrap=True, oob_score=True, random_state=0), param_grid, cv = 5, iid = False)\n",
    "\n",
    "bag_rgr.fit(X_train, y_train)\n",
    "y_pred = bag_rgr.predict(X_test)\n",
    "print(\"Best Hyper Parameters:\",bag_rgr.best_params_)"
   ]
  },
  {
   "cell_type": "code",
   "execution_count": 56,
   "metadata": {},
   "outputs": [
    {
     "name": "stdout",
     "output_type": "stream",
     "text": [
      "Train score: 0.7491\n",
      "Test score: 0.7212\n"
     ]
    }
   ],
   "source": [
    "print('Train score: {:.4f}'.format(bag_rgr.score(X_train, y_train)))\n",
    "print('Test score: {:.4f}'.format(bag_rgr.score(X_test, y_test)))"
   ]
  },
  {
   "cell_type": "markdown",
   "metadata": {},
   "source": [
    "### Linear Regressor"
   ]
  },
  {
   "cell_type": "code",
   "execution_count": 57,
   "metadata": {},
   "outputs": [
    {
     "name": "stdout",
     "output_type": "stream",
     "text": [
      "Best Hyper Parameters: {'max_features': 10, 'max_samples': 0.5, 'n_estimators': 200}\n"
     ]
    }
   ],
   "source": [
    "from sklearn.linear_model import LinearRegression\n",
    "\n",
    "lreg = LinearRegression()\n",
    "\n",
    "bag_rgr = GridSearchCV(BaggingRegressor(lreg,  bootstrap=True, oob_score=True, random_state=0), param_grid, cv = 5, iid = False)\n",
    "\n",
    "bag_rgr.fit(X_train, y_train)\n",
    "y_pred = bag_rgr.predict(X_test)\n",
    "bag_rgr.best_params_\n",
    "print(\"Best Hyper Parameters:\",bag_rgr.best_params_)"
   ]
  },
  {
   "cell_type": "code",
   "execution_count": 58,
   "metadata": {},
   "outputs": [
    {
     "name": "stdout",
     "output_type": "stream",
     "text": [
      "Train score: 0.6482\n",
      "Test score: 0.6280\n"
     ]
    }
   ],
   "source": [
    "print('Train score: {:.4f}'.format(bag_rgr.score(X_train, y_train)))\n",
    "print('Test score: {:.4f}'.format(bag_rgr.score(X_test, y_test)))"
   ]
  },
  {
   "cell_type": "markdown",
   "metadata": {},
   "source": [
    "# Pasting"
   ]
  },
  {
   "cell_type": "markdown",
   "metadata": {},
   "source": [
    "### Decision Tree Regression"
   ]
  },
  {
   "cell_type": "code",
   "execution_count": 59,
   "metadata": {},
   "outputs": [
    {
     "name": "stdout",
     "output_type": "stream",
     "text": [
      "Best Hyper Parameters: {'max_features': 10, 'max_samples': 0.5, 'n_estimators': 200}\n"
     ]
    }
   ],
   "source": [
    "from sklearn.ensemble import BaggingRegressor\n",
    "from sklearn.tree import DecisionTreeRegressor\n",
    "from sklearn.model_selection import GridSearchCV\n",
    "\n",
    "mf = [2, 5, 10]\n",
    "n = [100, 200, 300, 500]\n",
    "ms = [0.1, 0.5, 1]\n",
    "\n",
    "param_grid = dict(max_features = mf, n_estimators = n, max_samples = ms)\n",
    "\n",
    "dt_rgr = DecisionTreeRegressor(max_depth = 5, random_state=0)\n",
    "bag_rgr = GridSearchCV(BaggingRegressor(dt_rgr,  bootstrap=False, random_state=0), param_grid, cv = 5, iid = False)\n",
    "\n",
    "bag_rgr.fit(X_train, y_train)\n",
    "y_pred = bag_rgr.predict(X_test)\n",
    "print(\"Best Hyper Parameters:\",bag_rgr.best_params_)"
   ]
  },
  {
   "cell_type": "code",
   "execution_count": 62,
   "metadata": {},
   "outputs": [
    {
     "name": "stdout",
     "output_type": "stream",
     "text": [
      "Train score: 0.7551\n",
      "Test score: 0.7232\n"
     ]
    }
   ],
   "source": [
    "print('Train score: {:.4f}'.format(bag_rgr.score(X_train, y_train)))\n",
    "print('Test score: {:.4f}'.format(bag_rgr.score(X_test, y_test)))"
   ]
  },
  {
   "cell_type": "markdown",
   "metadata": {},
   "source": [
    "### Linear Regression"
   ]
  },
  {
   "cell_type": "code",
   "execution_count": 63,
   "metadata": {},
   "outputs": [
    {
     "name": "stdout",
     "output_type": "stream",
     "text": [
      "Best Hyper Parameters: {'max_features': 10, 'max_samples': 0.1, 'n_estimators': 200}\n"
     ]
    }
   ],
   "source": [
    "from sklearn.linear_model import LinearRegression\n",
    "\n",
    "lreg = LinearRegression()\n",
    "\n",
    "bag_rgr = GridSearchCV(BaggingRegressor(lreg,  bootstrap=False, random_state=0), param_grid, cv = 5, iid = False)\n",
    "\n",
    "bag_rgr.fit(X_train, y_train)\n",
    "y_pred = bag_rgr.predict(X_test)\n",
    "print(\"Best Hyper Parameters:\",bag_rgr.best_params_)"
   ]
  },
  {
   "cell_type": "code",
   "execution_count": 64,
   "metadata": {},
   "outputs": [
    {
     "name": "stdout",
     "output_type": "stream",
     "text": [
      "Train score: 0.6491\n",
      "Test score: 0.6287\n"
     ]
    }
   ],
   "source": [
    "print('Train score: {:.4f}'.format(bag_rgr.score(X_train, y_train)))\n",
    "print('Test score: {:.4f}'.format(bag_rgr.score(X_test, y_test)))"
   ]
  },
  {
   "cell_type": "markdown",
   "metadata": {},
   "source": [
    "# Adaboost Boosting"
   ]
  },
  {
   "cell_type": "markdown",
   "metadata": {},
   "source": [
    "### Decision Tree Regressor"
   ]
  },
  {
   "cell_type": "code",
   "execution_count": 65,
   "metadata": {},
   "outputs": [
    {
     "name": "stdout",
     "output_type": "stream",
     "text": [
      "Best Hyper Parameters: {'learning_rate': 0.1, 'n_estimators': 100}\n"
     ]
    }
   ],
   "source": [
    "from sklearn.ensemble import AdaBoostRegressor\n",
    "\n",
    "\n",
    "n = [100, 200, 300, 500]\n",
    "lr = [0.1, 0.5, 1]\n",
    "\n",
    "param_grid = dict(n_estimators = n, learning_rate = lr)\n",
    "\n",
    "dt_rgr = DecisionTreeRegressor(max_depth = 5, random_state=0)\n",
    "ada_rgr = GridSearchCV(AdaBoostRegressor(dt_rgr, random_state=0), param_grid, cv = 5, iid = False)\n",
    "ada_rgr.fit(X_train, y_train)\n",
    "y_pred = ada_rgr.predict(X_test)\n",
    "print(\"Best Hyper Parameters:\",ada_rgr.best_params_)"
   ]
  },
  {
   "cell_type": "code",
   "execution_count": 66,
   "metadata": {},
   "outputs": [
    {
     "name": "stdout",
     "output_type": "stream",
     "text": [
      "Train score: 0.8016\n",
      "Test score: 0.7597\n"
     ]
    }
   ],
   "source": [
    "print('Train score: {:.4f}'.format(ada_rgr.score(X_train, y_train)))\n",
    "print('Test score: {:.4f}'.format(ada_rgr.score(X_test, y_test)))"
   ]
  },
  {
   "cell_type": "markdown",
   "metadata": {},
   "source": [
    "## Linear regression"
   ]
  },
  {
   "cell_type": "code",
   "execution_count": 67,
   "metadata": {},
   "outputs": [
    {
     "name": "stdout",
     "output_type": "stream",
     "text": [
      "Best Hyper Parameters: {'learning_rate': 0.1, 'n_estimators': 100}\n"
     ]
    }
   ],
   "source": [
    "n = [100, 200, 300, 500]\n",
    "lr = [0.1, 0.5, 1]\n",
    "\n",
    "param_grid = dict(n_estimators = n, learning_rate = lr)\n",
    "\n",
    "ada_rgr = GridSearchCV(AdaBoostRegressor(lreg, random_state=0),  param_grid, cv = 5, iid = False)\n",
    "ada_rgr.fit(X_train, y_train)\n",
    "y_pred = ada_rgr.predict(X_test)\n",
    "print(\"Best Hyper Parameters:\",ada_rgr.best_params_)"
   ]
  },
  {
   "cell_type": "code",
   "execution_count": 68,
   "metadata": {},
   "outputs": [
    {
     "name": "stdout",
     "output_type": "stream",
     "text": [
      "Train score: 0.4398\n",
      "Test score: 0.4299\n"
     ]
    }
   ],
   "source": [
    "print('Train score: {:.4f}'.format(ada_rgr.score(X_train, y_train)))\n",
    "print('Test score: {:.4f}'.format(ada_rgr.score(X_test, y_test)))"
   ]
  },
  {
   "cell_type": "markdown",
   "metadata": {},
   "source": [
    "# Gradient Boosting"
   ]
  },
  {
   "cell_type": "code",
   "execution_count": 69,
   "metadata": {},
   "outputs": [
    {
     "name": "stdout",
     "output_type": "stream",
     "text": [
      "Best Hyper Parameters: {'max_depth': 5, 'max_features': 5, 'n_estimators': 200}\n"
     ]
    }
   ],
   "source": [
    "from  sklearn.ensemble import GradientBoostingRegressor\n",
    "\n",
    "mf = [2, 5, 10]\n",
    "n = [50, 100, 200]\n",
    "md = [1, 5, 10]\n",
    "\n",
    "param_grid = dict(max_features = mf, n_estimators = n, max_depth = md)\n",
    "\n",
    "gbrt = GridSearchCV(GradientBoostingRegressor(random_state=0), param_grid, cv = 5, iid = False)\n",
    "\n",
    "gbrt.fit(X_train, y_train)\n",
    "y_pred = gbrt.predict(X_test)\n",
    "print(\"Best Hyper Parameters:\",gbrt.best_params_)"
   ]
  },
  {
   "cell_type": "code",
   "execution_count": 70,
   "metadata": {},
   "outputs": [
    {
     "name": "stdout",
     "output_type": "stream",
     "text": [
      "Train score: 0.9404\n",
      "Test score: 0.8654\n"
     ]
    }
   ],
   "source": [
    "print('Train score: {:.4f}'.format(gbrt.score(X_train, y_train)))\n",
    "print('Test score: {:.4f}'.format(gbrt.score(X_test, y_test)))"
   ]
  },
  {
   "cell_type": "markdown",
   "metadata": {},
   "source": [
    "# Principal Component Analysis"
   ]
  },
  {
   "cell_type": "code",
   "execution_count": 71,
   "metadata": {},
   "outputs": [
    {
     "data": {
      "text/plain": [
       "11"
      ]
     },
     "execution_count": 71,
     "metadata": {},
     "output_type": "execute_result"
    }
   ],
   "source": [
    "#reducing dimensions using PCA to create new dataset\n",
    "from sklearn.decomposition import PCA\n",
    "\n",
    "pca = PCA(n_components = 0.95)\n",
    "X_train_reduced = pca.fit_transform(X_train)\n",
    "X_test_reduced = pca.transform(X_test)\n",
    "\n",
    "pca.n_components_"
   ]
  },
  {
   "cell_type": "markdown",
   "metadata": {},
   "source": [
    "## Linear Regression without PCA"
   ]
  },
  {
   "cell_type": "code",
   "execution_count": 79,
   "metadata": {},
   "outputs": [
    {
     "name": "stdout",
     "output_type": "stream",
     "text": [
      "0.674242240793372\n",
      "0.6557793731457227\n"
     ]
    }
   ],
   "source": [
    "lreg = LinearRegression()\n",
    "lreg.fit(X_train, y_train)\n",
    "print(lreg.score(X_train, y_train))\n",
    "print(lreg.score(X_test, y_test))"
   ]
  },
  {
   "cell_type": "markdown",
   "metadata": {},
   "source": [
    "## Linear Regression with PCA"
   ]
  },
  {
   "cell_type": "code",
   "execution_count": 80,
   "metadata": {},
   "outputs": [
    {
     "name": "stdout",
     "output_type": "stream",
     "text": [
      "0.6443319181355665\n",
      "0.6155325953853179\n"
     ]
    }
   ],
   "source": [
    "lreg.fit(X_train_reduced, y_train)\n",
    "print(lreg.score(X_train_reduced, y_train))\n",
    "print(lreg.score(X_test_reduced, y_test))"
   ]
  },
  {
   "cell_type": "markdown",
   "metadata": {},
   "source": [
    "##### PCA reduced test and train scores for linear regression"
   ]
  },
  {
   "cell_type": "markdown",
   "metadata": {},
   "source": [
    "## Polynomial Regression without PCA"
   ]
  },
  {
   "cell_type": "code",
   "execution_count": 75,
   "metadata": {},
   "outputs": [],
   "source": [
    "from  sklearn.preprocessing  import PolynomialFeatures\n",
    "\n",
    "train_score_list = []\n",
    "test_score_list = []\n",
    "\n",
    "for n in range(1,3):\n",
    "    poly = PolynomialFeatures(n)\n",
    "    X_train_poly = poly.fit_transform(X_train)\n",
    "    X_test_poly = poly.transform(X_test)\n",
    "    lreg.fit(X_train_poly, y_train)\n",
    "    train_score_list.append(lreg.score(X_train_poly, y_train))\n",
    "    test_score_list.append(lreg.score(X_test_poly, y_test))"
   ]
  },
  {
   "cell_type": "code",
   "execution_count": 76,
   "metadata": {},
   "outputs": [
    {
     "name": "stdout",
     "output_type": "stream",
     "text": [
      "[0.674242240793372, 0.7966594924663959]\n",
      "[0.6557793731457247, 0.7747840096656062]\n"
     ]
    }
   ],
   "source": [
    "print(train_score_list)\n",
    "print(test_score_list)"
   ]
  },
  {
   "cell_type": "markdown",
   "metadata": {},
   "source": [
    "## Polynomial Regression without PCA"
   ]
  },
  {
   "cell_type": "code",
   "execution_count": 77,
   "metadata": {},
   "outputs": [],
   "source": [
    "train_score_list = []\n",
    "test_score_list = []\n",
    "\n",
    "for n in range(1,3):\n",
    "    poly = PolynomialFeatures(n)\n",
    "    X_train_poly = poly.fit_transform(X_train_reduced)\n",
    "    X_test_poly = poly.transform(X_test_reduced)\n",
    "    lreg.fit(X_train_poly, y_train)\n",
    "    train_score_list.append(lreg.score(X_train_poly, y_train))\n",
    "    test_score_list.append(lreg.score(X_test_poly, y_test))"
   ]
  },
  {
   "cell_type": "code",
   "execution_count": 78,
   "metadata": {},
   "outputs": [
    {
     "name": "stdout",
     "output_type": "stream",
     "text": [
      "[0.6443319181355665, 0.7553138111248706]\n",
      "[0.6155325953853179, 0.7193217271924304]\n"
     ]
    }
   ],
   "source": [
    "print(train_score_list)\n",
    "print(test_score_list)"
   ]
  },
  {
   "cell_type": "markdown",
   "metadata": {},
   "source": [
    "#### Implementing PCA reduced the testing and training scores for Polynomial regression"
   ]
  },
  {
   "cell_type": "markdown",
   "metadata": {},
   "source": [
    "# Ridge without PCA"
   ]
  },
  {
   "cell_type": "code",
   "execution_count": 83,
   "metadata": {},
   "outputs": [
    {
     "name": "stdout",
     "output_type": "stream",
     "text": [
      "Fitting 5 folds for each of 7 candidates, totalling 35 fits\n"
     ]
    },
    {
     "name": "stderr",
     "output_type": "stream",
     "text": [
      "[Parallel(n_jobs=-1)]: Using backend LokyBackend with 8 concurrent workers.\n"
     ]
    },
    {
     "name": "stdout",
     "output_type": "stream",
     "text": [
      "Best Hyper Parameters: {'alpha': 1}\n"
     ]
    },
    {
     "name": "stderr",
     "output_type": "stream",
     "text": [
      "[Parallel(n_jobs=-1)]: Done  35 out of  35 | elapsed:    2.5s finished\n"
     ]
    }
   ],
   "source": [
    "from  sklearn.linear_model import Ridge\n",
    "\n",
    "alpha = [0.001, 0.01, 0.1, 1, 10, 100, 1000]\n",
    "param_grid = dict(alpha=alpha)\n",
    "\n",
    "ridge_reg = GridSearchCV(Ridge(), param_grid=param_grid, scoring='r2', verbose=1, n_jobs=-1, cv = 5, iid = False)\n",
    "ridge_reg.fit(X_train, y_train)\n",
    "\n",
    "y_pred = ridge_reg.predict(X_test)\n",
    "\n",
    "print(\"Best Hyper Parameters:\",ridge_reg.best_params_)"
   ]
  },
  {
   "cell_type": "code",
   "execution_count": 84,
   "metadata": {},
   "outputs": [
    {
     "name": "stdout",
     "output_type": "stream",
     "text": [
      "Train score: 0.6742\n",
      "Test score: 0.6552\n"
     ]
    }
   ],
   "source": [
    "print('Train score: {:.4f}'.format(ridge_reg.score(X_train,y_train)))\n",
    "print('Test score: {:.4f}'.format(ridge_reg.score(X_test, y_test)))"
   ]
  },
  {
   "cell_type": "code",
   "execution_count": 85,
   "metadata": {},
   "outputs": [
    {
     "data": {
      "text/plain": [
       "Text(0.5, 0, '$\\\\alpha$')"
      ]
     },
     "execution_count": 85,
     "metadata": {},
     "output_type": "execute_result"
    },
    {
     "data": {
      "image/png": "[encoded data removed]",
      "text/plain": [
       "<Figure size 432x288 with 1 Axes>"
      ]
     },
     "metadata": {
      "needs_background": "light"
     },
     "output_type": "display_data"
    }
   ],
   "source": [
    "#variation of scores with alpha\n",
    "train_score_list = []\n",
    "test_score_list = []\n",
    "\n",
    "x_range = [0.001, 0.01, 0.1, 1, 10, 100, 1000]\n",
    "for alpha in x_range: \n",
    "    ridge = Ridge(alpha)\n",
    "    ridge.fit(X_train,y_train)\n",
    "    train_score_list.append(ridge.score(X_train,y_train))\n",
    "    test_score_list.append(ridge.score(X_test, y_test))\n",
    "    \n",
    "%matplotlib inline\n",
    "import matplotlib.pyplot as plt\n",
    "plt.plot(x_range, train_score_list, c = 'g', label = 'Train Score')\n",
    "plt.plot(x_range, test_score_list, c = 'b', label = 'Test Score')\n",
    "plt.xscale('log')\n",
    "plt.legend(loc = 3)\n",
    "plt.xlabel(r'$\\alpha$')"
   ]
  },
  {
   "cell_type": "markdown",
   "metadata": {},
   "source": [
    "# Ridge with PCA"
   ]
  },
  {
   "cell_type": "code",
   "execution_count": 87,
   "metadata": {},
   "outputs": [
    {
     "name": "stdout",
     "output_type": "stream",
     "text": [
      "Fitting 5 folds for each of 7 candidates, totalling 35 fits\n"
     ]
    },
    {
     "name": "stderr",
     "output_type": "stream",
     "text": [
      "[Parallel(n_jobs=-1)]: Using backend LokyBackend with 8 concurrent workers.\n"
     ]
    },
    {
     "name": "stdout",
     "output_type": "stream",
     "text": [
      "Best Hyper Parameters: {'alpha': 1}\n"
     ]
    },
    {
     "name": "stderr",
     "output_type": "stream",
     "text": [
      "[Parallel(n_jobs=-1)]: Done  20 out of  35 | elapsed:    0.1s remaining:    0.1s\n",
      "[Parallel(n_jobs=-1)]: Done  35 out of  35 | elapsed:    0.2s finished\n"
     ]
    }
   ],
   "source": [
    "ridge_reg.fit(X_train_reduced,y_train)\n",
    "\n",
    "y_pred = ridge_reg.predict(X_test_reduced)\n",
    "\n",
    "print(\"Best Hyper Parameters:\",ridge_reg.best_params_)"
   ]
  },
  {
   "cell_type": "code",
   "execution_count": 88,
   "metadata": {},
   "outputs": [
    {
     "name": "stdout",
     "output_type": "stream",
     "text": [
      "Train score: 0.6443\n",
      "Test score: 0.6156\n"
     ]
    }
   ],
   "source": [
    "print('Train score: {:.4f}'.format(ridge_reg.score(X_train_reduced,y_train)))\n",
    "print('Test score: {:.4f}'.format(ridge_reg.score(X_test_reduced, y_test)))"
   ]
  },
  {
   "cell_type": "code",
   "execution_count": 89,
   "metadata": {},
   "outputs": [
    {
     "data": {
      "text/plain": [
       "Text(0.5, 0, '$\\\\alpha$')"
      ]
     },
     "execution_count": 89,
     "metadata": {},
     "output_type": "execute_result"
    },
    {
     "data": {
      "image/png": "[encoded data removed]",
      "text/plain": [
       "<Figure size 432x288 with 1 Axes>"
      ]
     },
     "metadata": {
      "needs_background": "light"
     },
     "output_type": "display_data"
    }
   ],
   "source": [
    "#variation scores with alpha\n",
    "train_score_list = []\n",
    "test_score_list = []\n",
    "\n",
    "x_range = [0.001, 0.01, 0.1, 1, 10, 100, 1000]\n",
    "for alpha in x_range: \n",
    "    ridge = Ridge(alpha)\n",
    "    ridge.fit(X_train_reduced,y_train)\n",
    "    train_score_list.append(ridge.score(X_train_reduced,y_train))\n",
    "    test_score_list.append(ridge.score(X_test_reduced, y_test))\n",
    "    \n",
    "%matplotlib inline\n",
    "import matplotlib.pyplot as plt\n",
    "plt.plot(x_range, train_score_list, c = 'g', label = 'Train Score')\n",
    "plt.plot(x_range, test_score_list, c = 'b', label = 'Test Score')\n",
    "plt.xscale('log')\n",
    "plt.legend(loc = 3)\n",
    "plt.xlabel(r'$\\alpha$')"
   ]
  },
  {
   "cell_type": "markdown",
   "metadata": {},
   "source": [
    "#### With PCA the best parameters for ridge varied and also the scores got reduced."
   ]
  },
  {
   "cell_type": "markdown",
   "metadata": {},
   "source": [
    "# Lasso without PCA"
   ]
  },
  {
   "cell_type": "code",
   "execution_count": 90,
   "metadata": {},
   "outputs": [
    {
     "name": "stdout",
     "output_type": "stream",
     "text": [
      "Fitting 5 folds for each of 7 candidates, totalling 35 fits\n"
     ]
    },
    {
     "name": "stderr",
     "output_type": "stream",
     "text": [
      "[Parallel(n_jobs=-1)]: Using backend LokyBackend with 8 concurrent workers.\n"
     ]
    },
    {
     "name": "stdout",
     "output_type": "stream",
     "text": [
      "Best Hyper Parameters: {'alpha': 1}\n"
     ]
    },
    {
     "name": "stderr",
     "output_type": "stream",
     "text": [
      "[Parallel(n_jobs=-1)]: Done  20 out of  35 | elapsed:    0.4s remaining:    0.3s\n",
      "[Parallel(n_jobs=-1)]: Done  35 out of  35 | elapsed:    0.5s finished\n"
     ]
    }
   ],
   "source": [
    "from  sklearn.linear_model import Lasso\n",
    "\n",
    "lasso = Lasso(alpha = 0.01)\n",
    "lasso.fit(X_train,y_train)\n",
    "\n",
    "alpha = [0.001, 0.01, 0.1, 1, 10, 100, 1000]\n",
    "param_grid = dict(alpha=alpha)\n",
    "\n",
    "lasso_reg = GridSearchCV(estimator=lasso, param_grid=param_grid, scoring='r2', verbose=1, n_jobs=-1, cv = 5, iid = False)\n",
    "lasso_reg.fit(X_train, y_train)\n",
    "\n",
    "y_pred = lasso_reg.predict(X_test)\n",
    "print(\"Best Hyper Parameters:\",lasso_reg.best_params_)\n"
   ]
  },
  {
   "cell_type": "code",
   "execution_count": 91,
   "metadata": {},
   "outputs": [
    {
     "name": "stdout",
     "output_type": "stream",
     "text": [
      "Train score: 0.6742\n",
      "Test score: 0.6558\n"
     ]
    }
   ],
   "source": [
    "print('Train score: {:.4f}'.format(lasso_reg.score(X_train,y_train)))\n",
    "print('Test score: {:.4f}'.format(lasso_reg.score(X_test, y_test)))"
   ]
  },
  {
   "cell_type": "code",
   "execution_count": 92,
   "metadata": {},
   "outputs": [
    {
     "data": {
      "text/plain": [
       "Text(0.5, 0, '$\\\\alpha$')"
      ]
     },
     "execution_count": 92,
     "metadata": {},
     "output_type": "execute_result"
    },
    {
     "data": {
      "image/png": "[encoded data removed]",
      "text/plain": [
       "<Figure size 432x288 with 1 Axes>"
      ]
     },
     "metadata": {
      "needs_background": "light"
     },
     "output_type": "display_data"
    }
   ],
   "source": [
    "train_score_list = []\n",
    "test_score_list = []\n",
    "\n",
    "x_range = [0.001, 0.01, 0.1, 1, 10, 100, 1000]\n",
    "for alpha in x_range: \n",
    "    lasso = Lasso(alpha)\n",
    "    lasso.fit(X_train,y_train)\n",
    "    train_score_list.append(lasso.score(X_train,y_train))\n",
    "    test_score_list.append(lasso.score(X_test, y_test))\n",
    "    \n",
    "plt.plot(x_range, train_score_list, c = 'g', label = 'Train Score')\n",
    "plt.plot(x_range, test_score_list, c = 'b', label = 'Test Score')\n",
    "plt.xscale('log')\n",
    "plt.legend(loc = 3)\n",
    "plt.xlabel(r'$\\alpha$')"
   ]
  },
  {
   "cell_type": "code",
   "execution_count": 96,
   "metadata": {},
   "outputs": [
    {
     "data": {
      "image/png": "[encoded data removed]",
      "text/plain": [
       "<Figure size 432x288 with 1 Axes>"
      ]
     },
     "metadata": {
      "needs_background": "light"
     },
     "output_type": "display_data"
    }
   ],
   "source": [
    "%matplotlib inline\n",
    "\n",
    "x_range1 = np.linspace(0.001, 1, 1000).reshape(-1,1)\n",
    "x_range2 = np.linspace(1, 1000, 1000).reshape(-1,1)\n",
    "\n",
    "x_range = np.append(x_range1, x_range2)\n",
    "coeff = []\n",
    "\n",
    "for alpha in x_range: \n",
    "    lasso = Lasso(alpha)\n",
    "    lasso.fit(X_train,y_train)\n",
    "    coeff.append(lasso.coef_ )\n",
    "    \n",
    "coeff = np.array(coeff)\n",
    "\n",
    "for i in range(0,13):\n",
    "    plt.plot(x_range, coeff[:,i], label = 'feature {:d}'.format(i))\n",
    "\n",
    "plt.axhline(y=0, xmin=0.001, xmax=9999, linewidth=1, c ='gray')\n",
    "plt.xlabel(r'$\\alpha$')\n",
    "plt.xscale('log')\n",
    "plt.legend(loc='upper center', bbox_to_anchor=(0.5, 1.5),\n",
    "          ncol=3, fancybox=True, shadow=True)\n",
    "plt.show()"
   ]
  },
  {
   "cell_type": "markdown",
   "metadata": {},
   "source": [
    "# Lasso with PCA"
   ]
  },
  {
   "cell_type": "code",
   "execution_count": 98,
   "metadata": {},
   "outputs": [
    {
     "name": "stdout",
     "output_type": "stream",
     "text": [
      "Fitting 5 folds for each of 7 candidates, totalling 35 fits\n"
     ]
    },
    {
     "name": "stderr",
     "output_type": "stream",
     "text": [
      "[Parallel(n_jobs=-1)]: Using backend LokyBackend with 8 concurrent workers.\n"
     ]
    },
    {
     "name": "stdout",
     "output_type": "stream",
     "text": [
      "Best Hyper Parameters: {'alpha': 100}\n"
     ]
    },
    {
     "name": "stderr",
     "output_type": "stream",
     "text": [
      "[Parallel(n_jobs=-1)]: Done  35 out of  35 | elapsed:    1.9s finished\n"
     ]
    }
   ],
   "source": [
    "lasso_reg.fit(X_train_reduced, y_train)\n",
    "\n",
    "y_pred = lasso_reg.predict(X_test_reduced)\n",
    "\n",
    "print(\"Best Hyper Parameters:\",lasso_reg.best_params_)"
   ]
  },
  {
   "cell_type": "code",
   "execution_count": 99,
   "metadata": {},
   "outputs": [
    {
     "name": "stdout",
     "output_type": "stream",
     "text": [
      "Train score: 0.6443\n",
      "Test score: 0.6155\n"
     ]
    }
   ],
   "source": [
    "print('Train score: {:.4f}'.format(lasso_reg.score(X_train_reduced,y_train)))\n",
    "print('Test score: {:.4f}'.format(lasso_reg.score(X_test_reduced, y_test)))"
   ]
  },
  {
   "cell_type": "code",
   "execution_count": 100,
   "metadata": {},
   "outputs": [
    {
     "data": {
      "text/plain": [
       "Text(0.5, 0, '$\\\\alpha$')"
      ]
     },
     "execution_count": 100,
     "metadata": {},
     "output_type": "execute_result"
    },
    {
     "data": {
      "image/png": "[encoded data removed]",
      "text/plain": [
       "<Figure size 432x288 with 1 Axes>"
      ]
     },
     "metadata": {
      "needs_background": "light"
     },
     "output_type": "display_data"
    }
   ],
   "source": [
    "train_score_list = []\n",
    "test_score_list = []\n",
    "\n",
    "x_range = [0.001, 0.01, 0.1, 1, 10, 100, 1000]\n",
    "for alpha in x_range: \n",
    "    lasso = Lasso(alpha)\n",
    "    lasso.fit(X_train_reduced,y_train)\n",
    "    train_score_list.append(lasso.score(X_train_reduced,y_train))\n",
    "    test_score_list.append(lasso.score(X_test_reduced, y_test))\n",
    "    \n",
    "plt.plot(x_range, train_score_list, c = 'g', label = 'Train Score')\n",
    "plt.plot(x_range, test_score_list, c = 'b', label = 'Test Score')\n",
    "plt.xscale('log')\n",
    "plt.legend(loc = 3)\n",
    "plt.xlabel(r'$\\alpha$')"
   ]
  },
  {
   "cell_type": "markdown",
   "metadata": {},
   "source": [
    "#### PCA reduced the scores and changed best parameters for Lasso"
   ]
  },
  {
   "cell_type": "markdown",
   "metadata": {},
   "source": [
    "# KNN Regressor without PCA"
   ]
  },
  {
   "cell_type": "code",
   "execution_count": 101,
   "metadata": {},
   "outputs": [
    {
     "name": "stdout",
     "output_type": "stream",
     "text": [
      "Best Hyper Parameters: {'n_neighbors': 5}\n"
     ]
    }
   ],
   "source": [
    "from sklearn.neighbors import KNeighborsRegressor\n",
    "\n",
    "n = [3,5,11,19]\n",
    "\n",
    "param_grid = dict(n_neighbors=n)\n",
    "\n",
    "knn=GridSearchCV(KNeighborsRegressor(), param_grid, cv = 5, iid = False)\n",
    "knn.fit(X_train,y_train)\n",
    "y_pred = knn.predict(X_test)\n",
    "\n",
    "print(\"Best Hyper Parameters:\",knn.best_params_)"
   ]
  },
  {
   "cell_type": "code",
   "execution_count": 102,
   "metadata": {},
   "outputs": [
    {
     "name": "stdout",
     "output_type": "stream",
     "text": [
      "Train score: 0.8062\n",
      "Test score: 0.7035\n"
     ]
    }
   ],
   "source": [
    "print('Train score: {:.4f}'.format(knn.score(X_train,y_train)))\n",
    "print('Test score: {:.4f}'.format(knn.score(X_test, y_test)))"
   ]
  },
  {
   "cell_type": "markdown",
   "metadata": {},
   "source": [
    "# KNN Regressor with PCA\n"
   ]
  },
  {
   "cell_type": "code",
   "execution_count": 103,
   "metadata": {},
   "outputs": [
    {
     "name": "stdout",
     "output_type": "stream",
     "text": [
      "Best Hyper Parameters: {'n_neighbors': 5}\n"
     ]
    }
   ],
   "source": [
    "knn.fit(X_train_reduced,y_train)\n",
    "\n",
    "y_pred = knn.predict(X_test_reduced)\n",
    "\n",
    "print(\"Best Hyper Parameters:\",knn.best_params_)"
   ]
  },
  {
   "cell_type": "code",
   "execution_count": 104,
   "metadata": {},
   "outputs": [
    {
     "name": "stdout",
     "output_type": "stream",
     "text": [
      "Train score: 0.7990\n",
      "Test score: 0.6942\n"
     ]
    }
   ],
   "source": [
    "print('Train score: {:.4f}'.format(knn.score(X_train_reduced,y_train)))\n",
    "print('Test score: {:.4f}'.format(knn.score(X_test_reduced, y_test)))"
   ]
  },
  {
   "cell_type": "markdown",
   "metadata": {},
   "source": [
    "#### KNN regressor being the best performing model, gave reduced scores after implementing PCA"
   ]
  },
  {
   "cell_type": "markdown",
   "metadata": {},
   "source": [
    "# SVM Regressor without PCA"
   ]
  },
  {
   "cell_type": "code",
   "execution_count": 105,
   "metadata": {},
   "outputs": [
    {
     "name": "stdout",
     "output_type": "stream",
     "text": [
      "Best Hyper Parameters: {'C': 100, 'kernel': 'poly'}\n"
     ]
    }
   ],
   "source": [
    "from sklearn.svm import SVR\n",
    "\n",
    "C = [0.001, 0.01, 0.1, 1, 10, 100]\n",
    "kernel = ['linear','poly','rbf']\n",
    "\n",
    "param_grid = dict(C=C, kernel=kernel)\n",
    "\n",
    "SVM=GridSearchCV(SVR(gamma ='scale'), param_grid, cv = 5, iid = False)\n",
    "\n",
    "SVM.fit(X_train,y_train)\n",
    "y_pred = SVM.predict(X_test)\n",
    "\n",
    "print(\"Best Hyper Parameters:\",SVM.best_params_)"
   ]
  },
  {
   "cell_type": "code",
   "execution_count": 106,
   "metadata": {},
   "outputs": [
    {
     "name": "stdout",
     "output_type": "stream",
     "text": [
      "Train score: 0.5228\n",
      "Test score: 0.5079\n"
     ]
    }
   ],
   "source": [
    "print('Train score: {:.4f}'.format(SVM.score(X_train,y_train)))\n",
    "print('Test score: {:.4f}'.format(SVM.score(X_test, y_test)))"
   ]
  },
  {
   "cell_type": "markdown",
   "metadata": {},
   "source": [
    "# SVM Regressor with PCA"
   ]
  },
  {
   "cell_type": "code",
   "execution_count": 108,
   "metadata": {},
   "outputs": [
    {
     "name": "stdout",
     "output_type": "stream",
     "text": [
      "Best Hyper Parameters: {'C': 100, 'kernel': 'poly'}\n"
     ]
    }
   ],
   "source": [
    "SVM.fit(X_train_reduced,y_train)\n",
    "\n",
    "y_pred = SVM.predict(X_test_reduced)\n",
    "\n",
    "print(\"Best Hyper Parameters:\",SVM.best_params_)"
   ]
  },
  {
   "cell_type": "code",
   "execution_count": 109,
   "metadata": {},
   "outputs": [
    {
     "name": "stdout",
     "output_type": "stream",
     "text": [
      "Train score: 0.2483\n",
      "Test score: 0.2184\n"
     ]
    }
   ],
   "source": [
    "print('Train score: {:.4f}'.format(SVM.score(X_train_reduced,y_train)))\n",
    "print('Test score: {:.4f}'.format(SVM.score(X_test_reduced, y_test)))"
   ]
  },
  {
   "cell_type": "markdown",
   "metadata": {},
   "source": [
    "#### The best parameters of SVM seems unchanged on implementing PCA but the scores have dropped way down."
   ]
  },
  {
   "cell_type": "markdown",
   "metadata": {},
   "source": [
    "# Linear SVR without PCA"
   ]
  },
  {
   "cell_type": "code",
   "execution_count": 110,
   "metadata": {},
   "outputs": [
    {
     "name": "stdout",
     "output_type": "stream",
     "text": [
      "Best Hyper Parameters: {'C': 100}\n"
     ]
    }
   ],
   "source": [
    "from sklearn.svm import SVR, LinearSVR\n",
    "\n",
    "C = [0.001, 0.01, 0.1, 1, 10, 100]\n",
    "param_grid = dict(C=C)\n",
    "\n",
    "linearsvr=GridSearchCV(SVR(), param_grid, cv = 5, iid = False)\n",
    "\n",
    "linearsvr.fit(X_train,y_train)\n",
    "y_pred = linearsvr.predict(X_test)\n",
    "\n",
    "print(\"Best Hyper Parameters:\",linearsvr.best_params_)"
   ]
  },
  {
   "cell_type": "code",
   "execution_count": 111,
   "metadata": {},
   "outputs": [
    {
     "name": "stdout",
     "output_type": "stream",
     "text": [
      "Train score: 0.0514\n",
      "Test score: 0.0614\n"
     ]
    }
   ],
   "source": [
    "print('Train score: {:.4f}'.format(linearsvr.score(X_train,y_train)))\n",
    "print('Test score: {:.4f}'.format(linearsvr.score(X_test, y_test)))"
   ]
  },
  {
   "cell_type": "markdown",
   "metadata": {},
   "source": [
    "# Linear SVR with PCA"
   ]
  },
  {
   "cell_type": "code",
   "execution_count": 113,
   "metadata": {},
   "outputs": [
    {
     "name": "stdout",
     "output_type": "stream",
     "text": [
      "Best Hyper Parameters: {'C': 100}\n"
     ]
    }
   ],
   "source": [
    "linearsvr.fit(X_train_reduced,y_train)\n",
    "y_pred = linearsvr.predict(X_test_reduced)\n",
    "\n",
    "print(\"Best Hyper Parameters:\",linearsvr.best_params_)"
   ]
  },
  {
   "cell_type": "code",
   "execution_count": 114,
   "metadata": {},
   "outputs": [
    {
     "name": "stdout",
     "output_type": "stream",
     "text": [
      "Train score: 0.0485\n",
      "Test score: 0.0596\n"
     ]
    }
   ],
   "source": [
    "print('Train score: {:.4f}'.format(linearsvr.score(X_train_reduced,y_train)))\n",
    "print('Test score: {:.4f}'.format(linearsvr.score(X_test_reduced, y_test)))"
   ]
  },
  {
   "cell_type": "markdown",
   "metadata": {},
   "source": [
    "#### GridsearchCV gave similar hyper parameters for Linear SVR after implementing PCA. The scores went down on PCA implementation"
   ]
  },
  {
   "cell_type": "markdown",
   "metadata": {},
   "source": [
    "# Neural Networks"
   ]
  },
  {
   "cell_type": "code",
   "execution_count": 12,
   "metadata": {},
   "outputs": [],
   "source": [
    "import keras as k\n",
    "import pandas as pd"
   ]
  },
  {
   "cell_type": "code",
   "execution_count": 13,
   "metadata": {},
   "outputs": [],
   "source": [
    "X_NN_train = X_train[:,0:20]\n",
    "X_NN_test = X_test[:,0:20]"
   ]
  },
  {
   "cell_type": "code",
   "execution_count": 14,
   "metadata": {},
   "outputs": [
    {
     "data": {
      "text/plain": [
       "(16209, 19)"
      ]
     },
     "execution_count": 14,
     "metadata": {},
     "output_type": "execute_result"
    }
   ],
   "source": [
    "X_NN_train.shape"
   ]
  },
  {
   "cell_type": "code",
   "execution_count": 20,
   "metadata": {},
   "outputs": [],
   "source": [
    "from keras.models import Sequential\n",
    "from keras.layers import Dense"
   ]
  },
  {
   "cell_type": "code",
   "execution_count": 21,
   "metadata": {},
   "outputs": [],
   "source": [
    "# create model\n",
    "model = Sequential()\n",
    "model.add(Dense(19, input_dim=19, kernel_initializer='normal', activation='relu'))\n",
    "model.add(Dense(1, kernel_initializer='normal'))"
   ]
  },
  {
   "cell_type": "code",
   "execution_count": 22,
   "metadata": {},
   "outputs": [],
   "source": [
    "# Compile model\n",
    "model.compile(loss='mse', optimizer='sgd' , metrics = ['mse'])"
   ]
  },
  {
   "cell_type": "code",
   "execution_count": 25,
   "metadata": {},
   "outputs": [
    {
     "name": "stdout",
     "output_type": "stream",
     "text": [
      "Epoch 1/100\n",
      "   1/3242 [..............................] - ETA: 0s - loss: 219795652608.0000 - mse: 219795652608.0000WARNING:tensorflow:Callbacks method `on_train_batch_end` is slow compared to the batch time (batch time: 0.0000s vs `on_train_batch_end` time: 0.0010s). Check your callbacks.\n",
      "3242/3242 [==============================] - 2s 654us/step - loss: 256175178971158151168.0000 - mse: 256175178971158151168.0000\n",
      "Epoch 2/100\n",
      "3242/3242 [==============================] - 2s 642us/step - loss: 135696056320.0000 - mse: 135696056320.0000\n",
      "Epoch 3/100\n",
      "3242/3242 [==============================] - 2s 691us/step - loss: 135726055424.0000 - mse: 135726055424.0000\n",
      "Epoch 4/100\n",
      "3242/3242 [==============================] - 2s 709us/step - loss: 135768875008.0000 - mse: 135768875008.0000\n",
      "Epoch 5/100\n",
      "3242/3242 [==============================] - 2s 698us/step - loss: 135638474752.0000 - mse: 135638491136.0000\n",
      "Epoch 6/100\n",
      "3242/3242 [==============================] - 2s 679us/step - loss: 135715676160.0000 - mse: 135715676160.0000\n",
      "Epoch 7/100\n",
      "3242/3242 [==============================] - 2s 645us/step - loss: 135631953920.0000 - mse: 135631937536.0000\n",
      "Epoch 8/100\n",
      "3242/3242 [==============================] - 2s 652us/step - loss: 135702691840.0000 - mse: 135702691840.0000\n",
      "Epoch 9/100\n",
      "3242/3242 [==============================] - 2s 653us/step - loss: 135702323200.0000 - mse: 135702323200.0000\n",
      "Epoch 10/100\n",
      "3242/3242 [==============================] - 2s 667us/step - loss: 135532683264.0000 - mse: 135532683264.0000\n",
      "Epoch 11/100\n",
      "3242/3242 [==============================] - 2s 670us/step - loss: 135743488000.0000 - mse: 135743488000.0000\n",
      "Epoch 12/100\n",
      "3242/3242 [==============================] - 2s 668us/step - loss: 135713554432.0000 - mse: 135713554432.0000\n",
      "Epoch 13/100\n",
      "3242/3242 [==============================] - 2s 658us/step - loss: 135667539968.0000 - mse: 135667539968.0000\n",
      "Epoch 14/100\n",
      "3242/3242 [==============================] - 2s 656us/step - loss: 135655710720.0000 - mse: 135655710720.0000\n",
      "Epoch 15/100\n",
      "3242/3242 [==============================] - 2s 656us/step - loss: 135718633472.0000 - mse: 135718633472.0000\n",
      "Epoch 16/100\n",
      "3242/3242 [==============================] - 2s 661us/step - loss: 135615168512.0000 - mse: 135615168512.0000\n",
      "Epoch 17/100\n",
      "3242/3242 [==============================] - 2s 673us/step - loss: 135708065792.0000 - mse: 135708065792.0000\n",
      "Epoch 18/100\n",
      "3242/3242 [==============================] - 2s 734us/step - loss: 135733764096.0000 - mse: 135733764096.0000\n",
      "Epoch 19/100\n",
      "3242/3242 [==============================] - 2s 652us/step - loss: 135713423360.0000 - mse: 135713423360.0000\n",
      "Epoch 20/100\n",
      "3242/3242 [==============================] - 2s 629us/step - loss: 135759945728.0000 - mse: 135759945728.0000\n",
      "Epoch 21/100\n",
      "3242/3242 [==============================] - 2s 624us/step - loss: 135727030272.0000 - mse: 135727030272.0000\n",
      "Epoch 22/100\n",
      "3242/3242 [==============================] - 2s 640us/step - loss: 135673257984.0000 - mse: 135673257984.0000\n",
      "Epoch 23/100\n",
      "3242/3242 [==============================] - 2s 632us/step - loss: 135721558016.0000 - mse: 135721558016.0000\n",
      "Epoch 24/100\n",
      "3242/3242 [==============================] - 2s 634us/step - loss: 135723524096.0000 - mse: 135723524096.0000\n",
      "Epoch 25/100\n",
      "3242/3242 [==============================] - 2s 628us/step - loss: 135678705664.0000 - mse: 135678705664.0000\n",
      "Epoch 26/100\n",
      "3242/3242 [==============================] - 2s 625us/step - loss: 135708917760.0000 - mse: 135708917760.0000\n",
      "Epoch 27/100\n",
      "3242/3242 [==============================] - 2s 623us/step - loss: 135777067008.0000 - mse: 135777067008.0000\n",
      "Epoch 28/100\n",
      "3242/3242 [==============================] - 2s 617us/step - loss: 135653146624.0000 - mse: 135653146624.0000\n",
      "Epoch 29/100\n",
      "3242/3242 [==============================] - 2s 615us/step - loss: 135678631936.0000 - mse: 135678631936.0000\n",
      "Epoch 30/100\n",
      "3242/3242 [==============================] - 2s 619us/step - loss: 135663190016.0000 - mse: 135663190016.0000\n",
      "Epoch 31/100\n",
      "3242/3242 [==============================] - 2s 627us/step - loss: 135691526144.0000 - mse: 135691526144.0000\n",
      "Epoch 32/100\n",
      "3242/3242 [==============================] - 2s 621us/step - loss: 135747649536.0000 - mse: 135747649536.0000\n",
      "Epoch 33/100\n",
      "3242/3242 [==============================] - 2s 618us/step - loss: 135617331200.0000 - mse: 135617331200.0000\n",
      "Epoch 34/100\n",
      "3242/3242 [==============================] - 2s 616us/step - loss: 135716937728.0000 - mse: 135716937728.0000\n",
      "Epoch 35/100\n",
      "3242/3242 [==============================] - 2s 638us/step - loss: 135653228544.0000 - mse: 135653228544.0000\n",
      "Epoch 36/100\n",
      "3242/3242 [==============================] - 2s 640us/step - loss: 135704862720.0000 - mse: 135704862720.0000\n",
      "Epoch 37/100\n",
      "3242/3242 [==============================] - 2s 630us/step - loss: 135702102016.0000 - mse: 135702102016.0000\n",
      "Epoch 38/100\n",
      "3242/3242 [==============================] - 2s 631us/step - loss: 135671660544.0000 - mse: 135671660544.0000\n",
      "Epoch 39/100\n",
      "3242/3242 [==============================] - 2s 632us/step - loss: 135718182912.0000 - mse: 135718182912.0000\n",
      "Epoch 40/100\n",
      "3242/3242 [==============================] - 2s 625us/step - loss: 135670398976.0000 - mse: 135670398976.0000\n",
      "Epoch 41/100\n",
      "3242/3242 [==============================] - 2s 633us/step - loss: 135746428928.0000 - mse: 135746428928.0000\n",
      "Epoch 42/100\n",
      "3242/3242 [==============================] - 2s 637us/step - loss: 135726563328.0000 - mse: 135726563328.0000\n",
      "Epoch 43/100\n",
      "3242/3242 [==============================] - 2s 638us/step - loss: 135607484416.0000 - mse: 135607484416.0000\n",
      "Epoch 44/100\n",
      "3242/3242 [==============================] - 2s 628us/step - loss: 135786840064.0000 - mse: 135786840064.0000\n",
      "Epoch 45/100\n",
      "3242/3242 [==============================] - 2s 639us/step - loss: 135727374336.0000 - mse: 135727374336.0000\n",
      "Epoch 46/100\n",
      "3242/3242 [==============================] - 2s 638us/step - loss: 135635484672.0000 - mse: 135635484672.0000\n",
      "Epoch 47/100\n",
      "3242/3242 [==============================] - 2s 639us/step - loss: 135700307968.0000 - mse: 135700307968.0000\n",
      "Epoch 48/100\n",
      "3242/3242 [==============================] - 2s 640us/step - loss: 135686242304.0000 - mse: 135686242304.0000\n",
      "Epoch 49/100\n",
      "3242/3242 [==============================] - 2s 643us/step - loss: 135633641472.0000 - mse: 135633641472.0000\n",
      "Epoch 50/100\n",
      "3242/3242 [==============================] - 2s 700us/step - loss: 135679549440.0000 - mse: 135679549440.0000\n",
      "Epoch 51/100\n",
      "3242/3242 [==============================] - 2s 716us/step - loss: 135617626112.0000 - mse: 135617626112.0000\n",
      "Epoch 52/100\n",
      "3242/3242 [==============================] - 2s 618us/step - loss: 135740440576.0000 - mse: 135740440576.0000\n",
      "Epoch 53/100\n",
      "3242/3242 [==============================] - 2s 577us/step - loss: 135690534912.0000 - mse: 135690534912.0000\n",
      "Epoch 54/100\n",
      "3242/3242 [==============================] - 2s 579us/step - loss: 135722500096.0000 - mse: 135722500096.0000\n",
      "Epoch 55/100\n",
      "3242/3242 [==============================] - 2s 587us/step - loss: 135751573504.0000 - mse: 135751573504.0000\n",
      "Epoch 56/100\n",
      "3242/3242 [==============================] - 2s 627us/step - loss: 135674552320.0000 - mse: 135674552320.0000\n",
      "Epoch 57/100\n",
      "3242/3242 [==============================] - 2s 733us/step - loss: 135702388736.0000 - mse: 135702388736.0000\n",
      "Epoch 58/100\n",
      "3242/3242 [==============================] - 2s 767us/step - loss: 135720296448.0000 - mse: 135720296448.0000\n",
      "Epoch 59/100\n",
      "3242/3242 [==============================] - 2s 673us/step - loss: 135596621824.0000 - mse: 135596621824.0000\n",
      "Epoch 60/100\n",
      "3242/3242 [==============================] - 2s 661us/step - loss: 135590641664.0000 - mse: 135590641664.0000\n",
      "Epoch 61/100\n",
      "3242/3242 [==============================] - 2s 676us/step - loss: 135754940416.0000 - mse: 135754940416.0000\n",
      "Epoch 62/100\n",
      "3242/3242 [==============================] - 2s 667us/step - loss: 135678730240.0000 - mse: 135678730240.0000\n",
      "Epoch 63/100\n",
      "3242/3242 [==============================] - 2s 663us/step - loss: 135643922432.0000 - mse: 135643922432.0000\n",
      "Epoch 64/100\n",
      "3242/3242 [==============================] - 2s 664us/step - loss: 135678025728.0000 - mse: 135678025728.0000\n",
      "Epoch 65/100\n"
     ]
    },
    {
     "name": "stdout",
     "output_type": "stream",
     "text": [
      "3242/3242 [==============================] - 2s 613us/step - loss: 135638777856.0000 - mse: 135638777856.0000\n",
      "Epoch 66/100\n",
      "3242/3242 [==============================] - 2s 604us/step - loss: 135570685952.0000 - mse: 135570677760.0000\n",
      "Epoch 67/100\n",
      "3242/3242 [==============================] - 2s 616us/step - loss: 135721345024.0000 - mse: 135721345024.0000\n",
      "Epoch 68/100\n",
      "3242/3242 [==============================] - 2s 611us/step - loss: 135715528704.0000 - mse: 135715528704.0000\n",
      "Epoch 69/100\n",
      "3242/3242 [==============================] - 2s 609us/step - loss: 135697629184.0000 - mse: 135697629184.0000\n",
      "Epoch 70/100\n",
      "3242/3242 [==============================] - 2s 609us/step - loss: 135728136192.0000 - mse: 135728136192.0000\n",
      "Epoch 71/100\n",
      "3242/3242 [==============================] - 2s 610us/step - loss: 135701274624.0000 - mse: 135701274624.0000\n",
      "Epoch 72/100\n",
      "3242/3242 [==============================] - 2s 618us/step - loss: 135567491072.0000 - mse: 135567491072.0000\n",
      "Epoch 73/100\n",
      "3242/3242 [==============================] - 2s 605us/step - loss: 135738089472.0000 - mse: 135738089472.0000\n",
      "Epoch 74/100\n",
      "3242/3242 [==============================] - 2s 622us/step - loss: 135717404672.0000 - mse: 135717412864.0000\n",
      "Epoch 75/100\n",
      "3242/3242 [==============================] - 2s 614us/step - loss: 135750557696.0000 - mse: 135750557696.0000\n",
      "Epoch 76/100\n",
      "3242/3242 [==============================] - 2s 615us/step - loss: 135688249344.0000 - mse: 135688249344.0000\n",
      "Epoch 77/100\n",
      "3242/3242 [==============================] - 2s 617us/step - loss: 135690469376.0000 - mse: 135690469376.0000\n",
      "Epoch 78/100\n",
      "3242/3242 [==============================] - 2s 617us/step - loss: 135719485440.0000 - mse: 135719485440.0000\n",
      "Epoch 79/100\n",
      "3242/3242 [==============================] - 2s 617us/step - loss: 135707705344.0000 - mse: 135707705344.0000\n",
      "Epoch 80/100\n",
      "3242/3242 [==============================] - 2s 605us/step - loss: 135716134912.0000 - mse: 135716134912.0000\n",
      "Epoch 81/100\n",
      "3242/3242 [==============================] - 2s 608us/step - loss: 135647715328.0000 - mse: 135647715328.0000\n",
      "Epoch 82/100\n",
      "3242/3242 [==============================] - 2s 620us/step - loss: 135724400640.0000 - mse: 135724400640.0000\n",
      "Epoch 83/100\n",
      "3242/3242 [==============================] - 2s 603us/step - loss: 135650254848.0000 - mse: 135650254848.0000\n",
      "Epoch 84/100\n",
      "3242/3242 [==============================] - 2s 620us/step - loss: 135753539584.0000 - mse: 135753539584.0000\n",
      "Epoch 85/100\n",
      "3242/3242 [==============================] - 2s 614us/step - loss: 135712620544.0000 - mse: 135712620544.0000\n",
      "Epoch 86/100\n",
      "3242/3242 [==============================] - 2s 597us/step - loss: 135697170432.0000 - mse: 135697170432.0000\n",
      "Epoch 87/100\n",
      "3242/3242 [==============================] - 2s 606us/step - loss: 135757766656.0000 - mse: 135757766656.0000\n",
      "Epoch 88/100\n",
      "3242/3242 [==============================] - 2s 614us/step - loss: 135698079744.0000 - mse: 135698079744.0000\n",
      "Epoch 89/100\n",
      "3242/3242 [==============================] - 2s 614us/step - loss: 135734943744.0000 - mse: 135734951936.0000\n",
      "Epoch 90/100\n",
      "3242/3242 [==============================] - 2s 611us/step - loss: 135663804416.0000 - mse: 135663804416.0000\n",
      "Epoch 91/100\n",
      "3242/3242 [==============================] - 2s 606us/step - loss: 135788085248.0000 - mse: 135788085248.0000\n",
      "Epoch 92/100\n",
      "3242/3242 [==============================] - 2s 607us/step - loss: 135689396224.0000 - mse: 135689396224.0000\n",
      "Epoch 93/100\n",
      "3242/3242 [==============================] - 2s 617us/step - loss: 135669628928.0000 - mse: 135669628928.0000\n",
      "Epoch 94/100\n",
      "3242/3242 [==============================] - 2s 609us/step - loss: 135716282368.0000 - mse: 135716282368.0000\n",
      "Epoch 95/100\n",
      "3242/3242 [==============================] - 2s 603us/step - loss: 135620935680.0000 - mse: 135620935680.0000\n",
      "Epoch 96/100\n",
      "3242/3242 [==============================] - 2s 617us/step - loss: 135741890560.0000 - mse: 135741890560.0000\n",
      "Epoch 97/100\n",
      "3242/3242 [==============================] - 2s 612us/step - loss: 135689216000.0000 - mse: 135689216000.0000\n",
      "Epoch 98/100\n",
      "3242/3242 [==============================] - 2s 617us/step - loss: 135690821632.0000 - mse: 135690821632.0000\n",
      "Epoch 99/100\n",
      "3242/3242 [==============================] - 2s 613us/step - loss: 135726120960.0000 - mse: 135726120960.0000\n",
      "Epoch 100/100\n",
      "3242/3242 [==============================] - 2s 617us/step - loss: 135698530304.0000 - mse: 135698530304.0000\n"
     ]
    },
    {
     "data": {
      "text/plain": [
       "<tensorflow.python.keras.callbacks.History at 0x227d4cc6b48>"
      ]
     },
     "execution_count": 25,
     "metadata": {},
     "output_type": "execute_result"
    }
   ],
   "source": [
    "# Fit Model\n",
    "model.fit(X_NN_train, y_train, epochs = 100, batch_size = 5)"
   ]
  },
  {
   "cell_type": "code",
   "execution_count": 24,
   "metadata": {},
   "outputs": [
    {
     "name": "stdout",
     "output_type": "stream",
     "text": [
      "  1/169 [..............................] - ETA: 0s - loss: 383676514304.0000 - mse: 383676514304.0000WARNING:tensorflow:Callbacks method `on_test_batch_end` is slow compared to the batch time (batch time: 0.0000s vs `on_test_batch_end` time: 0.0010s). Check your callbacks.\n",
      "169/169 [==============================] - 0s 674us/step - loss: 419171368960.0000 - mse: 419171368960.0000\n"
     ]
    },
    {
     "data": {
      "text/plain": [
       "[419171368960.0, 419171368960.0]"
      ]
     },
     "execution_count": 24,
     "metadata": {},
     "output_type": "execute_result"
    }
   ],
   "source": [
    "model.evaluate(X_NN_test, y_test)"
   ]
  },
  {
   "cell_type": "code",
   "execution_count": 26,
   "metadata": {},
   "outputs": [
    {
     "name": "stdout",
     "output_type": "stream",
     "text": [
      "Train score: -0.00\n",
      "Test score: -0.00\n"
     ]
    }
   ],
   "source": [
    "from sklearn.metrics import r2_score, recall_score, precision_score\n",
    "\n",
    "y_train_predict = model.predict(X_NN_train)\n",
    "y_test_predict = model.predict(X_NN_test)\n",
    "\n",
    "print('Train score: {:.2f}'.format(r2_score(y_train, y_train_predict)))\n",
    "print('Test score: {:.2f}'.format(r2_score(y_test, y_test_predict)))"
   ]
  }
 ],
 "metadata": {
  "kernelspec": {
   "display_name": "Python 3",
   "language": "python",
   "name": "python3"
  },
  "language_info": {
   "codemirror_mode": {
    "name": "ipython",
    "version": 3
   },
   "file_extension": ".py",
   "mimetype": "text/x-python",
   "name": "python",
   "nbconvert_exporter": "python",
   "pygments_lexer": "ipython3",
   "version": "3.7.6"
  }
 },
 "nbformat": 4,
 "nbformat_minor": 2
}
