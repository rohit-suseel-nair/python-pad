{
 "cells": [
  {
   "cell_type": "markdown",
   "metadata": {},
   "source": [
    "# Project2 \n",
    "## Classification\n",
    "Abstract: The purpose of this study was to examine associations between the physical characteristics of mushrooms, and to build a model that accurately predicts the edibility of a mushroom given these characteristics.\n",
    "\n",
    "Source Link: https://www.kaggle.com/uciml/mushroom-classification File name used: mushrooms.csv\n",
    "\n",
    "Evaluation strategy: Accuracy is used as an evaluation strategy because accuracy is easy to understand and easily suited for binary as well as a multiclass classification problem.\n",
    "\n",
    "There are no missing values in the original datasets, values are manually removed."
   ]
  },
  {
   "cell_type": "markdown",
   "metadata": {},
   "source": [
    "### Importing Libraries"
   ]
  },
  {
   "cell_type": "code",
   "execution_count": 1,
   "metadata": {},
   "outputs": [],
   "source": [
    " #importing libraries\n",
    "import numpy as np\n",
    "import pandas as pd\n",
    "import matplotlib.pyplot as plt\n",
    "import seaborn as sns\n",
    "import graphviz\n",
    "%matplotlib inline\n",
    "import warnings"
   ]
  },
  {
   "cell_type": "code",
   "execution_count": 2,
   "metadata": {},
   "outputs": [
    {
     "name": "stdout",
     "output_type": "stream",
     "text": [
      "<class 'pandas.core.frame.DataFrame'>\n",
      "RangeIndex: 8124 entries, 0 to 8123\n",
      "Data columns (total 23 columns):\n",
      "class                       8124 non-null object\n",
      "cap-shape                   8124 non-null object\n",
      "cap-surface                 8124 non-null object\n",
      "cap-color                   8124 non-null object\n",
      "bruises                     8124 non-null object\n",
      "odor                        8124 non-null object\n",
      "gill-attachment             8124 non-null object\n",
      "gill-spacing                8124 non-null object\n",
      "gill-size                   8124 non-null object\n",
      "gill-color                  8124 non-null object\n",
      "stalk-shape                 8124 non-null object\n",
      "stalk-root                  8124 non-null object\n",
      "stalk-surface-above-ring    8124 non-null object\n",
      "stalk-surface-below-ring    8124 non-null object\n",
      "stalk-color-above-ring      8124 non-null object\n",
      "stalk-color-below-ring      8124 non-null object\n",
      "veil-type                   8124 non-null object\n",
      "veil-color                  8124 non-null object\n",
      "ring-number                 8124 non-null object\n",
      "ring-type                   8124 non-null object\n",
      "spore-print-color           8124 non-null object\n",
      "population                  8124 non-null object\n",
      "habitat                     8124 non-null object\n",
      "dtypes: object(23)\n",
      "memory usage: 1.4+ MB\n"
     ]
    }
   ],
   "source": [
    "#Data set\n",
    "dataset = pd.read_csv('mushrooms.csv')\n",
    "dataset.head()\n",
    "dataset.info()"
   ]
  },
  {
   "cell_type": "code",
   "execution_count": 3,
   "metadata": {},
   "outputs": [],
   "source": [
    "#missingvalues\n",
    "dataset = dataset[dataset['stalk-root'] != '?']"
   ]
  },
  {
   "cell_type": "code",
   "execution_count": 4,
   "metadata": {},
   "outputs": [
    {
     "data": {
      "text/plain": [
       "(5644, 23)"
      ]
     },
     "execution_count": 4,
     "metadata": {},
     "output_type": "execute_result"
    }
   ],
   "source": [
    "#shape\n",
    "dataset.shape"
   ]
  },
  {
   "cell_type": "code",
   "execution_count": 5,
   "metadata": {},
   "outputs": [
    {
     "data": {
      "text/plain": [
       "class                       0\n",
       "cap-shape                   0\n",
       "cap-surface                 0\n",
       "cap-color                   0\n",
       "bruises                     0\n",
       "odor                        0\n",
       "gill-attachment             0\n",
       "gill-spacing                0\n",
       "gill-size                   0\n",
       "gill-color                  0\n",
       "stalk-shape                 0\n",
       "stalk-root                  0\n",
       "stalk-surface-above-ring    0\n",
       "stalk-surface-below-ring    0\n",
       "stalk-color-above-ring      0\n",
       "stalk-color-below-ring      0\n",
       "veil-type                   0\n",
       "veil-color                  0\n",
       "ring-number                 0\n",
       "ring-type                   0\n",
       "spore-print-color           0\n",
       "population                  0\n",
       "habitat                     0\n",
       "dtype: int64"
      ]
     },
     "execution_count": 5,
     "metadata": {},
     "output_type": "execute_result"
    }
   ],
   "source": [
    "#check for null\n",
    "dataset.isna().sum()"
   ]
  },
  {
   "cell_type": "code",
   "execution_count": 6,
   "metadata": {},
   "outputs": [],
   "source": [
    " #introducing NaN values as the original data set did not have null values\n",
    "X = dataset.iloc[:,1:23]  #all features and no labels\n",
    "y = dataset.iloc[:, 0]  # all labels only\n",
    "\n",
    "for i in range((int)(X.size * 0.1)):\n",
    "    row_index = np.random.randint(X.shape[0])\n",
    "    col_index = np.random.randint(X.shape[1])\n",
    "    col = X.columns[col_index]\n",
    "    X.iloc[row_index][col] = np.nan\n",
    "\n",
    "# Check what percentage of the data is missing\n",
    "val = 0\n",
    "for col in X.columns:\n",
    "    val += X[col].count()\n",
    "\n",
    "#print(val / X.size)"
   ]
  },
  {
   "cell_type": "code",
   "execution_count": 7,
   "metadata": {},
   "outputs": [
    {
     "data": {
      "text/html": [
       "<div>\n",
       "<style scoped>\n",
       "    .dataframe tbody tr th:only-of-type {\n",
       "        vertical-align: middle;\n",
       "    }\n",
       "\n",
       "    .dataframe tbody tr th {\n",
       "        vertical-align: top;\n",
       "    }\n",
       "\n",
       "    .dataframe thead th {\n",
       "        text-align: right;\n",
       "    }\n",
       "</style>\n",
       "<table border=\"1\" class=\"dataframe\">\n",
       "  <thead>\n",
       "    <tr style=\"text-align: right;\">\n",
       "      <th></th>\n",
       "      <th>cap-shape</th>\n",
       "      <th>cap-surface</th>\n",
       "      <th>cap-color</th>\n",
       "      <th>bruises</th>\n",
       "      <th>odor</th>\n",
       "      <th>gill-attachment</th>\n",
       "      <th>gill-spacing</th>\n",
       "      <th>gill-size</th>\n",
       "      <th>gill-color</th>\n",
       "      <th>stalk-shape</th>\n",
       "      <th>...</th>\n",
       "      <th>stalk-surface-below-ring</th>\n",
       "      <th>stalk-color-above-ring</th>\n",
       "      <th>stalk-color-below-ring</th>\n",
       "      <th>veil-type</th>\n",
       "      <th>veil-color</th>\n",
       "      <th>ring-number</th>\n",
       "      <th>ring-type</th>\n",
       "      <th>spore-print-color</th>\n",
       "      <th>population</th>\n",
       "      <th>habitat</th>\n",
       "    </tr>\n",
       "  </thead>\n",
       "  <tbody>\n",
       "    <tr>\n",
       "      <td>0</td>\n",
       "      <td>x</td>\n",
       "      <td>s</td>\n",
       "      <td>n</td>\n",
       "      <td>t</td>\n",
       "      <td>p</td>\n",
       "      <td>f</td>\n",
       "      <td>c</td>\n",
       "      <td>n</td>\n",
       "      <td>k</td>\n",
       "      <td>e</td>\n",
       "      <td>...</td>\n",
       "      <td>s</td>\n",
       "      <td>w</td>\n",
       "      <td>w</td>\n",
       "      <td>p</td>\n",
       "      <td>w</td>\n",
       "      <td>NaN</td>\n",
       "      <td>p</td>\n",
       "      <td>NaN</td>\n",
       "      <td>s</td>\n",
       "      <td>u</td>\n",
       "    </tr>\n",
       "    <tr>\n",
       "      <td>1</td>\n",
       "      <td>x</td>\n",
       "      <td>s</td>\n",
       "      <td>NaN</td>\n",
       "      <td>t</td>\n",
       "      <td>a</td>\n",
       "      <td>f</td>\n",
       "      <td>c</td>\n",
       "      <td>b</td>\n",
       "      <td>k</td>\n",
       "      <td>e</td>\n",
       "      <td>...</td>\n",
       "      <td>s</td>\n",
       "      <td>w</td>\n",
       "      <td>w</td>\n",
       "      <td>p</td>\n",
       "      <td>w</td>\n",
       "      <td>o</td>\n",
       "      <td>p</td>\n",
       "      <td>n</td>\n",
       "      <td>n</td>\n",
       "      <td>NaN</td>\n",
       "    </tr>\n",
       "    <tr>\n",
       "      <td>2</td>\n",
       "      <td>NaN</td>\n",
       "      <td>s</td>\n",
       "      <td>w</td>\n",
       "      <td>t</td>\n",
       "      <td>l</td>\n",
       "      <td>f</td>\n",
       "      <td>c</td>\n",
       "      <td>b</td>\n",
       "      <td>n</td>\n",
       "      <td>e</td>\n",
       "      <td>...</td>\n",
       "      <td>s</td>\n",
       "      <td>w</td>\n",
       "      <td>w</td>\n",
       "      <td>p</td>\n",
       "      <td>w</td>\n",
       "      <td>NaN</td>\n",
       "      <td>p</td>\n",
       "      <td>n</td>\n",
       "      <td>NaN</td>\n",
       "      <td>m</td>\n",
       "    </tr>\n",
       "    <tr>\n",
       "      <td>3</td>\n",
       "      <td>x</td>\n",
       "      <td>y</td>\n",
       "      <td>w</td>\n",
       "      <td>t</td>\n",
       "      <td>NaN</td>\n",
       "      <td>f</td>\n",
       "      <td>c</td>\n",
       "      <td>n</td>\n",
       "      <td>n</td>\n",
       "      <td>e</td>\n",
       "      <td>...</td>\n",
       "      <td>s</td>\n",
       "      <td>w</td>\n",
       "      <td>NaN</td>\n",
       "      <td>p</td>\n",
       "      <td>w</td>\n",
       "      <td>o</td>\n",
       "      <td>p</td>\n",
       "      <td>k</td>\n",
       "      <td>s</td>\n",
       "      <td>u</td>\n",
       "    </tr>\n",
       "    <tr>\n",
       "      <td>4</td>\n",
       "      <td>NaN</td>\n",
       "      <td>s</td>\n",
       "      <td>g</td>\n",
       "      <td>f</td>\n",
       "      <td>n</td>\n",
       "      <td>f</td>\n",
       "      <td>w</td>\n",
       "      <td>b</td>\n",
       "      <td>k</td>\n",
       "      <td>t</td>\n",
       "      <td>...</td>\n",
       "      <td>s</td>\n",
       "      <td>w</td>\n",
       "      <td>w</td>\n",
       "      <td>p</td>\n",
       "      <td>w</td>\n",
       "      <td>o</td>\n",
       "      <td>e</td>\n",
       "      <td>n</td>\n",
       "      <td>a</td>\n",
       "      <td>g</td>\n",
       "    </tr>\n",
       "  </tbody>\n",
       "</table>\n",
       "<p>5 rows × 22 columns</p>\n",
       "</div>"
      ],
      "text/plain": [
       "  cap-shape cap-surface cap-color bruises odor gill-attachment gill-spacing  \\\n",
       "0         x           s         n       t    p               f            c   \n",
       "1         x           s       NaN       t    a               f            c   \n",
       "2       NaN           s         w       t    l               f            c   \n",
       "3         x           y         w       t  NaN               f            c   \n",
       "4       NaN           s         g       f    n               f            w   \n",
       "\n",
       "  gill-size gill-color stalk-shape  ... stalk-surface-below-ring  \\\n",
       "0         n          k           e  ...                        s   \n",
       "1         b          k           e  ...                        s   \n",
       "2         b          n           e  ...                        s   \n",
       "3         n          n           e  ...                        s   \n",
       "4         b          k           t  ...                        s   \n",
       "\n",
       "  stalk-color-above-ring stalk-color-below-ring veil-type veil-color  \\\n",
       "0                      w                      w         p          w   \n",
       "1                      w                      w         p          w   \n",
       "2                      w                      w         p          w   \n",
       "3                      w                    NaN         p          w   \n",
       "4                      w                      w         p          w   \n",
       "\n",
       "  ring-number ring-type spore-print-color population habitat  \n",
       "0         NaN         p               NaN          s       u  \n",
       "1           o         p                 n          n     NaN  \n",
       "2         NaN         p                 n        NaN       m  \n",
       "3           o         p                 k          s       u  \n",
       "4           o         e                 n          a       g  \n",
       "\n",
       "[5 rows x 22 columns]"
      ]
     },
     "execution_count": 7,
     "metadata": {},
     "output_type": "execute_result"
    }
   ],
   "source": [
    "#Nan values  \n",
    "X.head()"
   ]
  },
  {
   "cell_type": "code",
   "execution_count": 8,
   "metadata": {},
   "outputs": [
    {
     "data": {
      "text/plain": [
       "cap-shape                   564\n",
       "cap-surface                 538\n",
       "cap-color                   541\n",
       "bruises                     501\n",
       "odor                        506\n",
       "gill-attachment             523\n",
       "gill-spacing                539\n",
       "gill-size                   562\n",
       "gill-color                  573\n",
       "stalk-shape                 547\n",
       "stalk-root                  580\n",
       "stalk-surface-above-ring    536\n",
       "stalk-surface-below-ring    498\n",
       "stalk-color-above-ring      501\n",
       "stalk-color-below-ring      557\n",
       "veil-type                   531\n",
       "veil-color                  549\n",
       "ring-number                 514\n",
       "ring-type                   523\n",
       "spore-print-color           534\n",
       "population                  517\n",
       "habitat                     565\n",
       "dtype: int64"
      ]
     },
     "execution_count": 8,
     "metadata": {},
     "output_type": "execute_result"
    }
   ],
   "source": [
    "X.isna().sum()"
   ]
  },
  {
   "cell_type": "markdown",
   "metadata": {},
   "source": [
    "### imputing Nan values"
   ]
  },
  {
   "cell_type": "code",
   "execution_count": 9,
   "metadata": {},
   "outputs": [
    {
     "data": {
      "text/html": [
       "<div>\n",
       "<style scoped>\n",
       "    .dataframe tbody tr th:only-of-type {\n",
       "        vertical-align: middle;\n",
       "    }\n",
       "\n",
       "    .dataframe tbody tr th {\n",
       "        vertical-align: top;\n",
       "    }\n",
       "\n",
       "    .dataframe thead th {\n",
       "        text-align: right;\n",
       "    }\n",
       "</style>\n",
       "<table border=\"1\" class=\"dataframe\">\n",
       "  <thead>\n",
       "    <tr style=\"text-align: right;\">\n",
       "      <th></th>\n",
       "      <th>cap-shape</th>\n",
       "      <th>cap-surface</th>\n",
       "      <th>cap-color</th>\n",
       "      <th>bruises</th>\n",
       "      <th>odor</th>\n",
       "      <th>gill-attachment</th>\n",
       "      <th>gill-spacing</th>\n",
       "      <th>gill-size</th>\n",
       "      <th>gill-color</th>\n",
       "      <th>stalk-shape</th>\n",
       "      <th>...</th>\n",
       "      <th>stalk-surface-below-ring</th>\n",
       "      <th>stalk-color-above-ring</th>\n",
       "      <th>stalk-color-below-ring</th>\n",
       "      <th>veil-type</th>\n",
       "      <th>veil-color</th>\n",
       "      <th>ring-number</th>\n",
       "      <th>ring-type</th>\n",
       "      <th>spore-print-color</th>\n",
       "      <th>population</th>\n",
       "      <th>habitat</th>\n",
       "    </tr>\n",
       "  </thead>\n",
       "  <tbody>\n",
       "    <tr>\n",
       "      <td>0</td>\n",
       "      <td>x</td>\n",
       "      <td>s</td>\n",
       "      <td>n</td>\n",
       "      <td>t</td>\n",
       "      <td>p</td>\n",
       "      <td>f</td>\n",
       "      <td>c</td>\n",
       "      <td>n</td>\n",
       "      <td>k</td>\n",
       "      <td>e</td>\n",
       "      <td>...</td>\n",
       "      <td>s</td>\n",
       "      <td>w</td>\n",
       "      <td>w</td>\n",
       "      <td>p</td>\n",
       "      <td>w</td>\n",
       "      <td>o</td>\n",
       "      <td>p</td>\n",
       "      <td>n</td>\n",
       "      <td>s</td>\n",
       "      <td>u</td>\n",
       "    </tr>\n",
       "    <tr>\n",
       "      <td>1</td>\n",
       "      <td>x</td>\n",
       "      <td>s</td>\n",
       "      <td>g</td>\n",
       "      <td>t</td>\n",
       "      <td>a</td>\n",
       "      <td>f</td>\n",
       "      <td>c</td>\n",
       "      <td>b</td>\n",
       "      <td>k</td>\n",
       "      <td>e</td>\n",
       "      <td>...</td>\n",
       "      <td>s</td>\n",
       "      <td>w</td>\n",
       "      <td>w</td>\n",
       "      <td>p</td>\n",
       "      <td>w</td>\n",
       "      <td>o</td>\n",
       "      <td>p</td>\n",
       "      <td>n</td>\n",
       "      <td>n</td>\n",
       "      <td>d</td>\n",
       "    </tr>\n",
       "    <tr>\n",
       "      <td>2</td>\n",
       "      <td>x</td>\n",
       "      <td>s</td>\n",
       "      <td>w</td>\n",
       "      <td>t</td>\n",
       "      <td>l</td>\n",
       "      <td>f</td>\n",
       "      <td>c</td>\n",
       "      <td>b</td>\n",
       "      <td>n</td>\n",
       "      <td>e</td>\n",
       "      <td>...</td>\n",
       "      <td>s</td>\n",
       "      <td>w</td>\n",
       "      <td>w</td>\n",
       "      <td>p</td>\n",
       "      <td>w</td>\n",
       "      <td>o</td>\n",
       "      <td>p</td>\n",
       "      <td>n</td>\n",
       "      <td>v</td>\n",
       "      <td>m</td>\n",
       "    </tr>\n",
       "    <tr>\n",
       "      <td>3</td>\n",
       "      <td>x</td>\n",
       "      <td>y</td>\n",
       "      <td>w</td>\n",
       "      <td>t</td>\n",
       "      <td>n</td>\n",
       "      <td>f</td>\n",
       "      <td>c</td>\n",
       "      <td>n</td>\n",
       "      <td>n</td>\n",
       "      <td>e</td>\n",
       "      <td>...</td>\n",
       "      <td>s</td>\n",
       "      <td>w</td>\n",
       "      <td>w</td>\n",
       "      <td>p</td>\n",
       "      <td>w</td>\n",
       "      <td>o</td>\n",
       "      <td>p</td>\n",
       "      <td>k</td>\n",
       "      <td>s</td>\n",
       "      <td>u</td>\n",
       "    </tr>\n",
       "    <tr>\n",
       "      <td>4</td>\n",
       "      <td>x</td>\n",
       "      <td>s</td>\n",
       "      <td>g</td>\n",
       "      <td>f</td>\n",
       "      <td>n</td>\n",
       "      <td>f</td>\n",
       "      <td>w</td>\n",
       "      <td>b</td>\n",
       "      <td>k</td>\n",
       "      <td>t</td>\n",
       "      <td>...</td>\n",
       "      <td>s</td>\n",
       "      <td>w</td>\n",
       "      <td>w</td>\n",
       "      <td>p</td>\n",
       "      <td>w</td>\n",
       "      <td>o</td>\n",
       "      <td>e</td>\n",
       "      <td>n</td>\n",
       "      <td>a</td>\n",
       "      <td>g</td>\n",
       "    </tr>\n",
       "    <tr>\n",
       "      <td>...</td>\n",
       "      <td>...</td>\n",
       "      <td>...</td>\n",
       "      <td>...</td>\n",
       "      <td>...</td>\n",
       "      <td>...</td>\n",
       "      <td>...</td>\n",
       "      <td>...</td>\n",
       "      <td>...</td>\n",
       "      <td>...</td>\n",
       "      <td>...</td>\n",
       "      <td>...</td>\n",
       "      <td>...</td>\n",
       "      <td>...</td>\n",
       "      <td>...</td>\n",
       "      <td>...</td>\n",
       "      <td>...</td>\n",
       "      <td>...</td>\n",
       "      <td>...</td>\n",
       "      <td>...</td>\n",
       "      <td>...</td>\n",
       "      <td>...</td>\n",
       "    </tr>\n",
       "    <tr>\n",
       "      <td>7986</td>\n",
       "      <td>b</td>\n",
       "      <td>y</td>\n",
       "      <td>n</td>\n",
       "      <td>f</td>\n",
       "      <td>n</td>\n",
       "      <td>f</td>\n",
       "      <td>c</td>\n",
       "      <td>b</td>\n",
       "      <td>w</td>\n",
       "      <td>e</td>\n",
       "      <td>...</td>\n",
       "      <td>y</td>\n",
       "      <td>n</td>\n",
       "      <td>n</td>\n",
       "      <td>p</td>\n",
       "      <td>w</td>\n",
       "      <td>t</td>\n",
       "      <td>p</td>\n",
       "      <td>w</td>\n",
       "      <td>y</td>\n",
       "      <td>p</td>\n",
       "    </tr>\n",
       "    <tr>\n",
       "      <td>8001</td>\n",
       "      <td>x</td>\n",
       "      <td>y</td>\n",
       "      <td>n</td>\n",
       "      <td>f</td>\n",
       "      <td>n</td>\n",
       "      <td>f</td>\n",
       "      <td>c</td>\n",
       "      <td>b</td>\n",
       "      <td>w</td>\n",
       "      <td>e</td>\n",
       "      <td>...</td>\n",
       "      <td>y</td>\n",
       "      <td>n</td>\n",
       "      <td>n</td>\n",
       "      <td>p</td>\n",
       "      <td>w</td>\n",
       "      <td>t</td>\n",
       "      <td>p</td>\n",
       "      <td>w</td>\n",
       "      <td>y</td>\n",
       "      <td>d</td>\n",
       "    </tr>\n",
       "    <tr>\n",
       "      <td>8038</td>\n",
       "      <td>x</td>\n",
       "      <td>y</td>\n",
       "      <td>g</td>\n",
       "      <td>t</td>\n",
       "      <td>n</td>\n",
       "      <td>f</td>\n",
       "      <td>c</td>\n",
       "      <td>b</td>\n",
       "      <td>w</td>\n",
       "      <td>t</td>\n",
       "      <td>...</td>\n",
       "      <td>s</td>\n",
       "      <td>w</td>\n",
       "      <td>w</td>\n",
       "      <td>p</td>\n",
       "      <td>w</td>\n",
       "      <td>t</td>\n",
       "      <td>p</td>\n",
       "      <td>w</td>\n",
       "      <td>y</td>\n",
       "      <td>d</td>\n",
       "    </tr>\n",
       "    <tr>\n",
       "      <td>8095</td>\n",
       "      <td>x</td>\n",
       "      <td>y</td>\n",
       "      <td>c</td>\n",
       "      <td>f</td>\n",
       "      <td>m</td>\n",
       "      <td>f</td>\n",
       "      <td>c</td>\n",
       "      <td>b</td>\n",
       "      <td>y</td>\n",
       "      <td>e</td>\n",
       "      <td>...</td>\n",
       "      <td>y</td>\n",
       "      <td>c</td>\n",
       "      <td>c</td>\n",
       "      <td>p</td>\n",
       "      <td>w</td>\n",
       "      <td>n</td>\n",
       "      <td>n</td>\n",
       "      <td>w</td>\n",
       "      <td>c</td>\n",
       "      <td>d</td>\n",
       "    </tr>\n",
       "    <tr>\n",
       "      <td>8114</td>\n",
       "      <td>f</td>\n",
       "      <td>y</td>\n",
       "      <td>c</td>\n",
       "      <td>f</td>\n",
       "      <td>m</td>\n",
       "      <td>a</td>\n",
       "      <td>c</td>\n",
       "      <td>b</td>\n",
       "      <td>y</td>\n",
       "      <td>e</td>\n",
       "      <td>...</td>\n",
       "      <td>s</td>\n",
       "      <td>c</td>\n",
       "      <td>c</td>\n",
       "      <td>p</td>\n",
       "      <td>w</td>\n",
       "      <td>o</td>\n",
       "      <td>n</td>\n",
       "      <td>w</td>\n",
       "      <td>c</td>\n",
       "      <td>d</td>\n",
       "    </tr>\n",
       "  </tbody>\n",
       "</table>\n",
       "<p>5644 rows × 22 columns</p>\n",
       "</div>"
      ],
      "text/plain": [
       "     cap-shape cap-surface cap-color bruises odor gill-attachment  \\\n",
       "0            x           s         n       t    p               f   \n",
       "1            x           s         g       t    a               f   \n",
       "2            x           s         w       t    l               f   \n",
       "3            x           y         w       t    n               f   \n",
       "4            x           s         g       f    n               f   \n",
       "...        ...         ...       ...     ...  ...             ...   \n",
       "7986         b           y         n       f    n               f   \n",
       "8001         x           y         n       f    n               f   \n",
       "8038         x           y         g       t    n               f   \n",
       "8095         x           y         c       f    m               f   \n",
       "8114         f           y         c       f    m               a   \n",
       "\n",
       "     gill-spacing gill-size gill-color stalk-shape  ...  \\\n",
       "0               c         n          k           e  ...   \n",
       "1               c         b          k           e  ...   \n",
       "2               c         b          n           e  ...   \n",
       "3               c         n          n           e  ...   \n",
       "4               w         b          k           t  ...   \n",
       "...           ...       ...        ...         ...  ...   \n",
       "7986            c         b          w           e  ...   \n",
       "8001            c         b          w           e  ...   \n",
       "8038            c         b          w           t  ...   \n",
       "8095            c         b          y           e  ...   \n",
       "8114            c         b          y           e  ...   \n",
       "\n",
       "     stalk-surface-below-ring stalk-color-above-ring stalk-color-below-ring  \\\n",
       "0                           s                      w                      w   \n",
       "1                           s                      w                      w   \n",
       "2                           s                      w                      w   \n",
       "3                           s                      w                      w   \n",
       "4                           s                      w                      w   \n",
       "...                       ...                    ...                    ...   \n",
       "7986                        y                      n                      n   \n",
       "8001                        y                      n                      n   \n",
       "8038                        s                      w                      w   \n",
       "8095                        y                      c                      c   \n",
       "8114                        s                      c                      c   \n",
       "\n",
       "     veil-type veil-color ring-number ring-type spore-print-color population  \\\n",
       "0            p          w           o         p                 n          s   \n",
       "1            p          w           o         p                 n          n   \n",
       "2            p          w           o         p                 n          v   \n",
       "3            p          w           o         p                 k          s   \n",
       "4            p          w           o         e                 n          a   \n",
       "...        ...        ...         ...       ...               ...        ...   \n",
       "7986         p          w           t         p                 w          y   \n",
       "8001         p          w           t         p                 w          y   \n",
       "8038         p          w           t         p                 w          y   \n",
       "8095         p          w           n         n                 w          c   \n",
       "8114         p          w           o         n                 w          c   \n",
       "\n",
       "     habitat  \n",
       "0          u  \n",
       "1          d  \n",
       "2          m  \n",
       "3          u  \n",
       "4          g  \n",
       "...      ...  \n",
       "7986       p  \n",
       "8001       d  \n",
       "8038       d  \n",
       "8095       d  \n",
       "8114       d  \n",
       "\n",
       "[5644 rows x 22 columns]"
      ]
     },
     "execution_count": 9,
     "metadata": {},
     "output_type": "execute_result"
    }
   ],
   "source": [
    "\n",
    "df_most_common_imputed = X.apply(lambda x: x.fillna(x.value_counts().index[0]))\n",
    "df_most_common_imputed"
   ]
  },
  {
   "cell_type": "markdown",
   "metadata": {},
   "source": [
    "### After imputing Nan"
   ]
  },
  {
   "cell_type": "code",
   "execution_count": 10,
   "metadata": {},
   "outputs": [
    {
     "data": {
      "text/plain": [
       "cap-shape                   0\n",
       "cap-surface                 0\n",
       "cap-color                   0\n",
       "bruises                     0\n",
       "odor                        0\n",
       "gill-attachment             0\n",
       "gill-spacing                0\n",
       "gill-size                   0\n",
       "gill-color                  0\n",
       "stalk-shape                 0\n",
       "stalk-root                  0\n",
       "stalk-surface-above-ring    0\n",
       "stalk-surface-below-ring    0\n",
       "stalk-color-above-ring      0\n",
       "stalk-color-below-ring      0\n",
       "veil-type                   0\n",
       "veil-color                  0\n",
       "ring-number                 0\n",
       "ring-type                   0\n",
       "spore-print-color           0\n",
       "population                  0\n",
       "habitat                     0\n",
       "dtype: int64"
      ]
     },
     "execution_count": 10,
     "metadata": {},
     "output_type": "execute_result"
    }
   ],
   "source": [
    "df_most_common_imputed.isna().sum()"
   ]
  },
  {
   "cell_type": "markdown",
   "metadata": {},
   "source": [
    "### joining the y label"
   ]
  },
  {
   "cell_type": "code",
   "execution_count": 11,
   "metadata": {},
   "outputs": [
    {
     "data": {
      "text/html": [
       "<div>\n",
       "<style scoped>\n",
       "    .dataframe tbody tr th:only-of-type {\n",
       "        vertical-align: middle;\n",
       "    }\n",
       "\n",
       "    .dataframe tbody tr th {\n",
       "        vertical-align: top;\n",
       "    }\n",
       "\n",
       "    .dataframe thead th {\n",
       "        text-align: right;\n",
       "    }\n",
       "</style>\n",
       "<table border=\"1\" class=\"dataframe\">\n",
       "  <thead>\n",
       "    <tr style=\"text-align: right;\">\n",
       "      <th></th>\n",
       "      <th>cap-shape</th>\n",
       "      <th>cap-surface</th>\n",
       "      <th>cap-color</th>\n",
       "      <th>bruises</th>\n",
       "      <th>odor</th>\n",
       "      <th>gill-attachment</th>\n",
       "      <th>gill-spacing</th>\n",
       "      <th>gill-size</th>\n",
       "      <th>gill-color</th>\n",
       "      <th>stalk-shape</th>\n",
       "      <th>...</th>\n",
       "      <th>stalk-color-above-ring</th>\n",
       "      <th>stalk-color-below-ring</th>\n",
       "      <th>veil-type</th>\n",
       "      <th>veil-color</th>\n",
       "      <th>ring-number</th>\n",
       "      <th>ring-type</th>\n",
       "      <th>spore-print-color</th>\n",
       "      <th>population</th>\n",
       "      <th>habitat</th>\n",
       "      <th>class</th>\n",
       "    </tr>\n",
       "  </thead>\n",
       "  <tbody>\n",
       "    <tr>\n",
       "      <td>0</td>\n",
       "      <td>x</td>\n",
       "      <td>s</td>\n",
       "      <td>n</td>\n",
       "      <td>t</td>\n",
       "      <td>p</td>\n",
       "      <td>f</td>\n",
       "      <td>c</td>\n",
       "      <td>n</td>\n",
       "      <td>k</td>\n",
       "      <td>e</td>\n",
       "      <td>...</td>\n",
       "      <td>w</td>\n",
       "      <td>w</td>\n",
       "      <td>p</td>\n",
       "      <td>w</td>\n",
       "      <td>o</td>\n",
       "      <td>p</td>\n",
       "      <td>n</td>\n",
       "      <td>s</td>\n",
       "      <td>u</td>\n",
       "      <td>p</td>\n",
       "    </tr>\n",
       "    <tr>\n",
       "      <td>1</td>\n",
       "      <td>x</td>\n",
       "      <td>s</td>\n",
       "      <td>g</td>\n",
       "      <td>t</td>\n",
       "      <td>a</td>\n",
       "      <td>f</td>\n",
       "      <td>c</td>\n",
       "      <td>b</td>\n",
       "      <td>k</td>\n",
       "      <td>e</td>\n",
       "      <td>...</td>\n",
       "      <td>w</td>\n",
       "      <td>w</td>\n",
       "      <td>p</td>\n",
       "      <td>w</td>\n",
       "      <td>o</td>\n",
       "      <td>p</td>\n",
       "      <td>n</td>\n",
       "      <td>n</td>\n",
       "      <td>d</td>\n",
       "      <td>e</td>\n",
       "    </tr>\n",
       "    <tr>\n",
       "      <td>2</td>\n",
       "      <td>x</td>\n",
       "      <td>s</td>\n",
       "      <td>w</td>\n",
       "      <td>t</td>\n",
       "      <td>l</td>\n",
       "      <td>f</td>\n",
       "      <td>c</td>\n",
       "      <td>b</td>\n",
       "      <td>n</td>\n",
       "      <td>e</td>\n",
       "      <td>...</td>\n",
       "      <td>w</td>\n",
       "      <td>w</td>\n",
       "      <td>p</td>\n",
       "      <td>w</td>\n",
       "      <td>o</td>\n",
       "      <td>p</td>\n",
       "      <td>n</td>\n",
       "      <td>v</td>\n",
       "      <td>m</td>\n",
       "      <td>e</td>\n",
       "    </tr>\n",
       "    <tr>\n",
       "      <td>3</td>\n",
       "      <td>x</td>\n",
       "      <td>y</td>\n",
       "      <td>w</td>\n",
       "      <td>t</td>\n",
       "      <td>n</td>\n",
       "      <td>f</td>\n",
       "      <td>c</td>\n",
       "      <td>n</td>\n",
       "      <td>n</td>\n",
       "      <td>e</td>\n",
       "      <td>...</td>\n",
       "      <td>w</td>\n",
       "      <td>w</td>\n",
       "      <td>p</td>\n",
       "      <td>w</td>\n",
       "      <td>o</td>\n",
       "      <td>p</td>\n",
       "      <td>k</td>\n",
       "      <td>s</td>\n",
       "      <td>u</td>\n",
       "      <td>p</td>\n",
       "    </tr>\n",
       "    <tr>\n",
       "      <td>4</td>\n",
       "      <td>x</td>\n",
       "      <td>s</td>\n",
       "      <td>g</td>\n",
       "      <td>f</td>\n",
       "      <td>n</td>\n",
       "      <td>f</td>\n",
       "      <td>w</td>\n",
       "      <td>b</td>\n",
       "      <td>k</td>\n",
       "      <td>t</td>\n",
       "      <td>...</td>\n",
       "      <td>w</td>\n",
       "      <td>w</td>\n",
       "      <td>p</td>\n",
       "      <td>w</td>\n",
       "      <td>o</td>\n",
       "      <td>e</td>\n",
       "      <td>n</td>\n",
       "      <td>a</td>\n",
       "      <td>g</td>\n",
       "      <td>e</td>\n",
       "    </tr>\n",
       "    <tr>\n",
       "      <td>...</td>\n",
       "      <td>...</td>\n",
       "      <td>...</td>\n",
       "      <td>...</td>\n",
       "      <td>...</td>\n",
       "      <td>...</td>\n",
       "      <td>...</td>\n",
       "      <td>...</td>\n",
       "      <td>...</td>\n",
       "      <td>...</td>\n",
       "      <td>...</td>\n",
       "      <td>...</td>\n",
       "      <td>...</td>\n",
       "      <td>...</td>\n",
       "      <td>...</td>\n",
       "      <td>...</td>\n",
       "      <td>...</td>\n",
       "      <td>...</td>\n",
       "      <td>...</td>\n",
       "      <td>...</td>\n",
       "      <td>...</td>\n",
       "      <td>...</td>\n",
       "    </tr>\n",
       "    <tr>\n",
       "      <td>7986</td>\n",
       "      <td>b</td>\n",
       "      <td>y</td>\n",
       "      <td>n</td>\n",
       "      <td>f</td>\n",
       "      <td>n</td>\n",
       "      <td>f</td>\n",
       "      <td>c</td>\n",
       "      <td>b</td>\n",
       "      <td>w</td>\n",
       "      <td>e</td>\n",
       "      <td>...</td>\n",
       "      <td>n</td>\n",
       "      <td>n</td>\n",
       "      <td>p</td>\n",
       "      <td>w</td>\n",
       "      <td>t</td>\n",
       "      <td>p</td>\n",
       "      <td>w</td>\n",
       "      <td>y</td>\n",
       "      <td>p</td>\n",
       "      <td>e</td>\n",
       "    </tr>\n",
       "    <tr>\n",
       "      <td>8001</td>\n",
       "      <td>x</td>\n",
       "      <td>y</td>\n",
       "      <td>n</td>\n",
       "      <td>f</td>\n",
       "      <td>n</td>\n",
       "      <td>f</td>\n",
       "      <td>c</td>\n",
       "      <td>b</td>\n",
       "      <td>w</td>\n",
       "      <td>e</td>\n",
       "      <td>...</td>\n",
       "      <td>n</td>\n",
       "      <td>n</td>\n",
       "      <td>p</td>\n",
       "      <td>w</td>\n",
       "      <td>t</td>\n",
       "      <td>p</td>\n",
       "      <td>w</td>\n",
       "      <td>y</td>\n",
       "      <td>d</td>\n",
       "      <td>e</td>\n",
       "    </tr>\n",
       "    <tr>\n",
       "      <td>8038</td>\n",
       "      <td>x</td>\n",
       "      <td>y</td>\n",
       "      <td>g</td>\n",
       "      <td>t</td>\n",
       "      <td>n</td>\n",
       "      <td>f</td>\n",
       "      <td>c</td>\n",
       "      <td>b</td>\n",
       "      <td>w</td>\n",
       "      <td>t</td>\n",
       "      <td>...</td>\n",
       "      <td>w</td>\n",
       "      <td>w</td>\n",
       "      <td>p</td>\n",
       "      <td>w</td>\n",
       "      <td>t</td>\n",
       "      <td>p</td>\n",
       "      <td>w</td>\n",
       "      <td>y</td>\n",
       "      <td>d</td>\n",
       "      <td>e</td>\n",
       "    </tr>\n",
       "    <tr>\n",
       "      <td>8095</td>\n",
       "      <td>x</td>\n",
       "      <td>y</td>\n",
       "      <td>c</td>\n",
       "      <td>f</td>\n",
       "      <td>m</td>\n",
       "      <td>f</td>\n",
       "      <td>c</td>\n",
       "      <td>b</td>\n",
       "      <td>y</td>\n",
       "      <td>e</td>\n",
       "      <td>...</td>\n",
       "      <td>c</td>\n",
       "      <td>c</td>\n",
       "      <td>p</td>\n",
       "      <td>w</td>\n",
       "      <td>n</td>\n",
       "      <td>n</td>\n",
       "      <td>w</td>\n",
       "      <td>c</td>\n",
       "      <td>d</td>\n",
       "      <td>p</td>\n",
       "    </tr>\n",
       "    <tr>\n",
       "      <td>8114</td>\n",
       "      <td>f</td>\n",
       "      <td>y</td>\n",
       "      <td>c</td>\n",
       "      <td>f</td>\n",
       "      <td>m</td>\n",
       "      <td>a</td>\n",
       "      <td>c</td>\n",
       "      <td>b</td>\n",
       "      <td>y</td>\n",
       "      <td>e</td>\n",
       "      <td>...</td>\n",
       "      <td>c</td>\n",
       "      <td>c</td>\n",
       "      <td>p</td>\n",
       "      <td>w</td>\n",
       "      <td>o</td>\n",
       "      <td>n</td>\n",
       "      <td>w</td>\n",
       "      <td>c</td>\n",
       "      <td>d</td>\n",
       "      <td>p</td>\n",
       "    </tr>\n",
       "  </tbody>\n",
       "</table>\n",
       "<p>5644 rows × 23 columns</p>\n",
       "</div>"
      ],
      "text/plain": [
       "     cap-shape cap-surface cap-color bruises odor gill-attachment  \\\n",
       "0            x           s         n       t    p               f   \n",
       "1            x           s         g       t    a               f   \n",
       "2            x           s         w       t    l               f   \n",
       "3            x           y         w       t    n               f   \n",
       "4            x           s         g       f    n               f   \n",
       "...        ...         ...       ...     ...  ...             ...   \n",
       "7986         b           y         n       f    n               f   \n",
       "8001         x           y         n       f    n               f   \n",
       "8038         x           y         g       t    n               f   \n",
       "8095         x           y         c       f    m               f   \n",
       "8114         f           y         c       f    m               a   \n",
       "\n",
       "     gill-spacing gill-size gill-color stalk-shape  ...  \\\n",
       "0               c         n          k           e  ...   \n",
       "1               c         b          k           e  ...   \n",
       "2               c         b          n           e  ...   \n",
       "3               c         n          n           e  ...   \n",
       "4               w         b          k           t  ...   \n",
       "...           ...       ...        ...         ...  ...   \n",
       "7986            c         b          w           e  ...   \n",
       "8001            c         b          w           e  ...   \n",
       "8038            c         b          w           t  ...   \n",
       "8095            c         b          y           e  ...   \n",
       "8114            c         b          y           e  ...   \n",
       "\n",
       "     stalk-color-above-ring stalk-color-below-ring veil-type veil-color  \\\n",
       "0                         w                      w         p          w   \n",
       "1                         w                      w         p          w   \n",
       "2                         w                      w         p          w   \n",
       "3                         w                      w         p          w   \n",
       "4                         w                      w         p          w   \n",
       "...                     ...                    ...       ...        ...   \n",
       "7986                      n                      n         p          w   \n",
       "8001                      n                      n         p          w   \n",
       "8038                      w                      w         p          w   \n",
       "8095                      c                      c         p          w   \n",
       "8114                      c                      c         p          w   \n",
       "\n",
       "     ring-number ring-type spore-print-color population habitat class  \n",
       "0              o         p                 n          s       u     p  \n",
       "1              o         p                 n          n       d     e  \n",
       "2              o         p                 n          v       m     e  \n",
       "3              o         p                 k          s       u     p  \n",
       "4              o         e                 n          a       g     e  \n",
       "...          ...       ...               ...        ...     ...   ...  \n",
       "7986           t         p                 w          y       p     e  \n",
       "8001           t         p                 w          y       d     e  \n",
       "8038           t         p                 w          y       d     e  \n",
       "8095           n         n                 w          c       d     p  \n",
       "8114           o         n                 w          c       d     p  \n",
       "\n",
       "[5644 rows x 23 columns]"
      ]
     },
     "execution_count": 11,
     "metadata": {},
     "output_type": "execute_result"
    }
   ],
   "source": [
    "df_cat = df_most_common_imputed.join(y)\n",
    "df_cat"
   ]
  },
  {
   "cell_type": "markdown",
   "metadata": {},
   "source": [
    "### 22 features, 1 label( 2 classifications: either Edible(e) or Poisonous (p)"
   ]
  },
  {
   "cell_type": "code",
   "execution_count": 12,
   "metadata": {},
   "outputs": [
    {
     "data": {
      "text/plain": [
       "array(['p', 'e'], dtype=object)"
      ]
     },
     "execution_count": 12,
     "metadata": {},
     "output_type": "execute_result"
    }
   ],
   "source": [
    "df_cat['class'].unique()"
   ]
  },
  {
   "cell_type": "markdown",
   "metadata": {},
   "source": [
    "### converting Categorical to numerical:\n",
    "#### creating dummies where needed as per the column description and values and applying map for columns with only two types of unique values"
   ]
  },
  {
   "cell_type": "code",
   "execution_count": 13,
   "metadata": {},
   "outputs": [],
   "source": [
    "cols = pd.get_dummies(df_cat['cap-shape'], prefix= 'cap-shape')\n",
    "df_cat[cols.columns] = cols\n",
    "df_cat.drop('cap-shape', axis = 1, inplace = True)"
   ]
  },
  {
   "cell_type": "code",
   "execution_count": 14,
   "metadata": {},
   "outputs": [],
   "source": [
    "cols = pd.get_dummies(df_cat['cap-surface'], prefix= 'cap-surface')\n",
    "df_cat[cols.columns] = cols\n",
    "df_cat.drop('cap-surface', axis = 1, inplace = True)"
   ]
  },
  {
   "cell_type": "code",
   "execution_count": 15,
   "metadata": {},
   "outputs": [],
   "source": [
    "cols = pd.get_dummies(df_cat['cap-color'], prefix= 'cap-color')\n",
    "df_cat[cols.columns] = cols\n",
    "df_cat.drop('cap-color', axis = 1, inplace = True)"
   ]
  },
  {
   "cell_type": "code",
   "execution_count": 16,
   "metadata": {},
   "outputs": [
    {
     "data": {
      "text/plain": [
       "array(['t', 'f'], dtype=object)"
      ]
     },
     "execution_count": 16,
     "metadata": {},
     "output_type": "execute_result"
    }
   ],
   "source": [
    "df_cat['bruises'].unique()"
   ]
  },
  {
   "cell_type": "code",
   "execution_count": 17,
   "metadata": {},
   "outputs": [],
   "source": [
    "df_cat['bruises'] = df_cat['bruises'].map({'f':0, 't':1}).astype(float)"
   ]
  },
  {
   "cell_type": "code",
   "execution_count": 18,
   "metadata": {},
   "outputs": [],
   "source": [
    "cols = pd.get_dummies(df_cat['odor'], prefix= 'odor')\n",
    "df_cat[cols.columns] = cols\n",
    "df_cat.drop('odor', axis = 1, inplace = True)"
   ]
  },
  {
   "cell_type": "code",
   "execution_count": 19,
   "metadata": {},
   "outputs": [],
   "source": [
    "cols = pd.get_dummies(df_cat['gill-attachment'], prefix= 'gill-attachment')\n",
    "df_cat[cols.columns] = cols\n",
    "df_cat.drop('gill-attachment', axis = 1, inplace = True)"
   ]
  },
  {
   "cell_type": "code",
   "execution_count": 20,
   "metadata": {},
   "outputs": [],
   "source": [
    "cols = pd.get_dummies(df_cat['gill-spacing'], prefix= 'gill-spacing')\n",
    "df_cat[cols.columns] = cols\n",
    "df_cat.drop('gill-spacing', axis = 1, inplace = True)"
   ]
  },
  {
   "cell_type": "code",
   "execution_count": 21,
   "metadata": {},
   "outputs": [
    {
     "data": {
      "text/plain": [
       "array(['n', 'b'], dtype=object)"
      ]
     },
     "execution_count": 21,
     "metadata": {},
     "output_type": "execute_result"
    }
   ],
   "source": [
    "df_cat['gill-size'].unique()"
   ]
  },
  {
   "cell_type": "code",
   "execution_count": 22,
   "metadata": {},
   "outputs": [],
   "source": [
    "df_cat['gill-size'] = df_cat['gill-size'].map({'b':0, 'n':1}).astype(float)"
   ]
  },
  {
   "cell_type": "code",
   "execution_count": 23,
   "metadata": {},
   "outputs": [],
   "source": [
    "cols = pd.get_dummies(df_cat['gill-color'], prefix= 'gill-color')\n",
    "df_cat[cols.columns] = cols\n",
    "df_cat.drop('gill-color', axis = 1, inplace = True)"
   ]
  },
  {
   "cell_type": "code",
   "execution_count": 24,
   "metadata": {},
   "outputs": [
    {
     "data": {
      "text/plain": [
       "array(['e', 't'], dtype=object)"
      ]
     },
     "execution_count": 24,
     "metadata": {},
     "output_type": "execute_result"
    }
   ],
   "source": [
    "df_cat['stalk-shape'].unique()"
   ]
  },
  {
   "cell_type": "code",
   "execution_count": 25,
   "metadata": {},
   "outputs": [],
   "source": [
    "df_cat['stalk-shape'] = df_cat['stalk-shape'].map({'e':0, 't':1}).astype(float)"
   ]
  },
  {
   "cell_type": "code",
   "execution_count": 26,
   "metadata": {},
   "outputs": [],
   "source": [
    "cols = pd.get_dummies(df_cat['stalk-root'], prefix= 'stalk-root')\n",
    "df_cat[cols.columns] = cols\n",
    "df_cat.drop('stalk-root', axis = 1, inplace = True)"
   ]
  },
  {
   "cell_type": "code",
   "execution_count": 27,
   "metadata": {},
   "outputs": [],
   "source": [
    "cols = pd.get_dummies(df_cat['stalk-surface-above-ring'], prefix= 'stalk-surface-above-ring')\n",
    "df_cat[cols.columns] = cols\n",
    "df_cat.drop('stalk-surface-above-ring', axis = 1, inplace = True)"
   ]
  },
  {
   "cell_type": "code",
   "execution_count": 28,
   "metadata": {},
   "outputs": [],
   "source": [
    "cols = pd.get_dummies(df_cat['stalk-surface-below-ring'], prefix= 'stalk-surface-below-ring')\n",
    "df_cat[cols.columns] = cols\n",
    "df_cat.drop('stalk-surface-below-ring', axis = 1, inplace = True)"
   ]
  },
  {
   "cell_type": "code",
   "execution_count": 29,
   "metadata": {},
   "outputs": [],
   "source": [
    "cols = pd.get_dummies(df_cat['stalk-color-above-ring'], prefix= 'stalk-color-above-ring')\n",
    "df_cat[cols.columns] = cols\n",
    "df_cat.drop('stalk-color-above-ring', axis = 1, inplace = True)"
   ]
  },
  {
   "cell_type": "code",
   "execution_count": 30,
   "metadata": {},
   "outputs": [],
   "source": [
    "cols = pd.get_dummies(df_cat['stalk-color-below-ring'], prefix= 'stalk-color-below-ring')\n",
    "df_cat[cols.columns] = cols\n",
    "df_cat.drop('stalk-color-below-ring', axis = 1, inplace = True)"
   ]
  },
  {
   "cell_type": "code",
   "execution_count": 31,
   "metadata": {},
   "outputs": [
    {
     "data": {
      "text/plain": [
       "array(['p'], dtype=object)"
      ]
     },
     "execution_count": 31,
     "metadata": {},
     "output_type": "execute_result"
    }
   ],
   "source": [
    "df_cat['veil-type'].unique()"
   ]
  },
  {
   "cell_type": "code",
   "execution_count": 32,
   "metadata": {},
   "outputs": [],
   "source": [
    "df_cat['veil-type'] = df_cat['veil-type'].map({'p':0, 'u':1}).astype(float)"
   ]
  },
  {
   "cell_type": "code",
   "execution_count": 33,
   "metadata": {},
   "outputs": [],
   "source": [
    "cols = pd.get_dummies(df_cat['veil-color'], prefix= 'veil-color')\n",
    "df_cat[cols.columns] = cols\n",
    "df_cat.drop('veil-color', axis = 1, inplace = True)"
   ]
  },
  {
   "cell_type": "code",
   "execution_count": 34,
   "metadata": {},
   "outputs": [
    {
     "data": {
      "text/plain": [
       "array(['o', 't', 'n'], dtype=object)"
      ]
     },
     "execution_count": 34,
     "metadata": {},
     "output_type": "execute_result"
    }
   ],
   "source": [
    "df_cat['ring-number'].unique()"
   ]
  },
  {
   "cell_type": "code",
   "execution_count": 35,
   "metadata": {},
   "outputs": [],
   "source": [
    "df_cat['ring-number'] = df_cat['ring-number'].map({'n':0, 'o':1,'t':2}).astype(float)"
   ]
  },
  {
   "cell_type": "code",
   "execution_count": 36,
   "metadata": {},
   "outputs": [],
   "source": [
    "cols = pd.get_dummies(df_cat['ring-type'], prefix= 'ring-type')\n",
    "df_cat[cols.columns] = cols\n",
    "df_cat.drop('ring-type', axis = 1, inplace = True)"
   ]
  },
  {
   "cell_type": "code",
   "execution_count": 37,
   "metadata": {},
   "outputs": [],
   "source": [
    "cols = pd.get_dummies(df_cat['spore-print-color'], prefix= 'spore-print-color')\n",
    "df_cat[cols.columns] = cols\n",
    "df_cat.drop('spore-print-color', axis = 1, inplace = True)"
   ]
  },
  {
   "cell_type": "code",
   "execution_count": 38,
   "metadata": {},
   "outputs": [],
   "source": [
    "cols = pd.get_dummies(df_cat['population'], prefix= 'population')\n",
    "df_cat[cols.columns] = cols\n",
    "df_cat.drop('population', axis = 1, inplace = True)"
   ]
  },
  {
   "cell_type": "code",
   "execution_count": 39,
   "metadata": {},
   "outputs": [],
   "source": [
    "cols = pd.get_dummies(df_cat['habitat'], prefix= 'habitat')\n",
    "df_cat[cols.columns] = cols\n",
    "df_cat.drop('habitat', axis = 1, inplace = True)"
   ]
  },
  {
   "cell_type": "code",
   "execution_count": 40,
   "metadata": {},
   "outputs": [
    {
     "data": {
      "text/plain": [
       "array(['p', 'e'], dtype=object)"
      ]
     },
     "execution_count": 40,
     "metadata": {},
     "output_type": "execute_result"
    }
   ],
   "source": [
    "df_cat['class'].unique()"
   ]
  },
  {
   "cell_type": "code",
   "execution_count": 41,
   "metadata": {},
   "outputs": [],
   "source": [
    "df_cat['class'] = df_cat['class'].map({'p':0, 'e':1}).astype(float)#Poisonous = 0, edible = 1"
   ]
  },
  {
   "cell_type": "markdown",
   "metadata": {},
   "source": [
    "### after coverting categorical to numerical using label encoding"
   ]
  },
  {
   "cell_type": "code",
   "execution_count": 42,
   "metadata": {},
   "outputs": [
    {
     "data": {
      "text/plain": [
       "(5644, 94)"
      ]
     },
     "execution_count": 42,
     "metadata": {},
     "output_type": "execute_result"
    }
   ],
   "source": [
    "mush_df =df_cat\n",
    "#mush_df.head()\n",
    "mush_df.shape"
   ]
  },
  {
   "cell_type": "markdown",
   "metadata": {},
   "source": [
    "### checking number of rows having  y label as 1 - Edible and 0 - Poisonous     "
   ]
  },
  {
   "cell_type": "code",
   "execution_count": 43,
   "metadata": {},
   "outputs": [
    {
     "name": "stdout",
     "output_type": "stream",
     "text": [
      "class\n",
      "0.0    2156\n",
      "1.0    3488\n",
      "dtype: int64\n"
     ]
    }
   ],
   "source": [
    "print(mush_df.groupby('class').size())"
   ]
  },
  {
   "cell_type": "markdown",
   "metadata": {},
   "source": [
    "### List of 5 numerical variables for correlation"
   ]
  },
  {
   "cell_type": "code",
   "execution_count": 44,
   "metadata": {},
   "outputs": [
    {
     "data": {
      "text/plain": [
       "<matplotlib.axes._subplots.AxesSubplot at 0x2be92215e48>"
      ]
     },
     "execution_count": 44,
     "metadata": {},
     "output_type": "execute_result"
    },
    {
     "data": {
      "image/png": "[encoded data removed]",
      "text/plain": [
       "<Figure size 504x504 with 2 Axes>"
      ]
     },
     "metadata": {
      "needs_background": "light"
     },
     "output_type": "display_data"
    }
   ],
   "source": [
    "mush_df_7 = mush_df[['bruises','gill-size', 'stalk-shape','veil-type', 'ring-number']]\n",
    "a = mush_df_7.corr()\n",
    "fig=plt.figure(figsize=(7,7))\n",
    "sns.heatmap(a,annot= True,linewidths=4)"
   ]
  },
  {
   "cell_type": "markdown",
   "metadata": {},
   "source": [
    "### Splitting into train and test "
   ]
  },
  {
   "cell_type": "code",
   "execution_count": 45,
   "metadata": {},
   "outputs": [],
   "source": [
    "from sklearn.model_selection import train_test_split\n",
    "X = mush_df.drop('class',axis=1)\n",
    "y = mush_df['class']\n",
    "X_train_org, X_test_org, y_train, y_test = train_test_split(X, y, random_state = 0, test_size = 0.2)"
   ]
  },
  {
   "cell_type": "markdown",
   "metadata": {},
   "source": [
    "### Min Max Scaler"
   ]
  },
  {
   "cell_type": "code",
   "execution_count": 46,
   "metadata": {},
   "outputs": [],
   "source": [
    "from sklearn.preprocessing import MinMaxScaler\n",
    "scaler = MinMaxScaler()\n",
    "X_train = scaler.fit_transform(X_train_org)\n",
    "X_test = scaler.transform(X_test_org)"
   ]
  },
  {
   "cell_type": "markdown",
   "metadata": {},
   "source": [
    "### warnings import"
   ]
  },
  {
   "cell_type": "code",
   "execution_count": 47,
   "metadata": {},
   "outputs": [],
   "source": [
    "from warnings import simplefilter\n",
    "# ignore all future warnings\n",
    "simplefilter(action='ignore', category=FutureWarning)"
   ]
  },
  {
   "cell_type": "markdown",
   "metadata": {},
   "source": [
    "## Algorithms - Classification"
   ]
  },
  {
   "cell_type": "markdown",
   "metadata": {},
   "source": [
    "### Voting                 "
   ]
  },
  {
   "cell_type": "code",
   "execution_count": 48,
   "metadata": {},
   "outputs": [],
   "source": [
    "# Using the best parameters (from project 1)\n",
    "\n",
    "from sklearn.linear_model import LogisticRegression\n",
    "logreg = LogisticRegression(penalty='l2',C=10)\n",
    "\n",
    "from sklearn.neighbors import KNeighborsClassifier\n",
    "knn = KNeighborsClassifier(n_neighbors=6)\n",
    "\n",
    "from sklearn.svm import SVC\n",
    "svc_lin = SVC(kernel='linear',C=1,probability=True)\n",
    "\n",
    "from sklearn.svm import SVC\n",
    "svc_rbf = SVC(kernel='rbf',C=10,gamma=0.5,probability=True)\n",
    "\n",
    "from sklearn.svm import SVC\n",
    "svc_poly = SVC(kernel='poly',C=1,gamma=10,probability=True)\n",
    "\n",
    "from sklearn.tree import DecisionTreeClassifier\n",
    "dtree = DecisionTreeClassifier(max_depth=7)\n",
    "\n",
    "from sklearn.ensemble import RandomForestClassifier\n",
    "rnd_clf = RandomForestClassifier(n_estimators=500, max_leaf_nodes=16, n_jobs=-1, random_state=0)   \n",
    "\n",
    "from sklearn.ensemble import GradientBoostingClassifier\n",
    "gbc_clf = GradientBoostingClassifier(random_state=0,max_depth=3,learning_rate=0.5)\n"
   ]
  },
  {
   "cell_type": "markdown",
   "metadata": {},
   "source": [
    "### Hard Voting"
   ]
  },
  {
   "cell_type": "code",
   "execution_count": 49,
   "metadata": {},
   "outputs": [
    {
     "name": "stdout",
     "output_type": "stream",
     "text": [
      "KNeighborsClassifier   0.9991142604074402\n",
      "RandomForestClassifier   0.9840566873339238\n",
      "GradientBoostingClassifier   0.9991142604074402\n",
      "DecisionTreeClassifier   0.9858281665190434\n",
      "VotingClassifier   0.9991142604074402\n"
     ]
    }
   ],
   "source": [
    "\n",
    "from sklearn.ensemble import VotingClassifier \n",
    "\n",
    "estimator1 = [('knn',knn),('rnd_clf',rnd_clf),('gbc_clf',gbc_clf),('dtree',dtree)]  \n",
    "voting1 = VotingClassifier(estimator1,voting='hard')  \n",
    "voting1.fit(X_train,y_train)  \n",
    "\n",
    "from sklearn.metrics import accuracy_score  \n",
    "\n",
    "for clf in (knn,rnd_clf,gbc_clf,dtree,voting1):  \n",
    "    clf.fit(X_train, y_train) \n",
    "    y_pred = clf.predict(X_test)   \n",
    "    print(clf.__class__.__name__, \" \", accuracy_score(y_test, y_pred))  \n",
    "    \n",
    "    "
   ]
  },
  {
   "cell_type": "markdown",
   "metadata": {},
   "source": [
    "### Soft Voting"
   ]
  },
  {
   "cell_type": "code",
   "execution_count": 50,
   "metadata": {},
   "outputs": [
    {
     "name": "stdout",
     "output_type": "stream",
     "text": [
      "SVC 0.9946855624446412\n",
      "SVC 0.9991142604074402\n",
      "SVC 0.9991142604074402\n",
      "VotingClassifier 0.9982285208148804\n"
     ]
    }
   ],
   "source": [
    "from sklearn.ensemble import VotingClassifier  \n",
    "\n",
    "estimator1 = [('svc_lin',svc_lin),('svc_rbf',svc_rbf),('svc_poly',svc_poly)]  \n",
    "voting2 = VotingClassifier(estimator1,voting='soft')  \n",
    "voting2.fit(X_train,y_train)  \n",
    "\n",
    "from sklearn.metrics import accuracy_score\n",
    "\n",
    "for clf in (svc_lin,svc_rbf,svc_poly,voting2):\n",
    "    clf.fit(X_train, y_train)\n",
    "    y_pred = clf.predict(X_test)\n",
    "    print(clf.__class__.__name__, accuracy_score(y_test, y_pred))  "
   ]
  },
  {
   "cell_type": "markdown",
   "metadata": {},
   "source": [
    "## Bagging \n",
    "#### best parameters are taken from project 1 for each model in this project 2"
   ]
  },
  {
   "cell_type": "markdown",
   "metadata": {},
   "source": [
    "## 1.  SVC with rbf Kernal"
   ]
  },
  {
   "cell_type": "code",
   "execution_count": 51,
   "metadata": {},
   "outputs": [
    {
     "name": "stdout",
     "output_type": "stream",
     "text": [
      "Accuracy on Train set: 0.9982\n",
      "Accuracy on Test set: 0.9938\n"
     ]
    }
   ],
   "source": [
    "svc_rbf = SVC(C=10,kernel='rbf')\n",
    "svc_rbf.fit(X_train,y_train)\n",
    "print(\"Accuracy on Train set: {:.4f}\".format(svc_rbf.score(X_train, y_train)))\n",
    "print(\"Accuracy on Test set: {:.4f}\".format(svc_rbf.score(X_test, y_test)))"
   ]
  },
  {
   "cell_type": "markdown",
   "metadata": {},
   "source": [
    "### Bagging"
   ]
  },
  {
   "cell_type": "code",
   "execution_count": 52,
   "metadata": {},
   "outputs": [
    {
     "name": "stdout",
     "output_type": "stream",
     "text": [
      "Accuracy on Train set: 0.9911\n",
      "Accuracy on Test set: 0.9841\n"
     ]
    }
   ],
   "source": [
    "from sklearn.ensemble import BaggingClassifier  \n",
    "svc_rbf = SVC(C=10,kernel='rbf')\n",
    "bag_svc_rbf = BaggingClassifier(svc_rbf,n_estimators=500,max_samples=1000,random_state=0)\n",
    "bag_svc_rbf.fit(X_train,y_train)\n",
    "print(\"Accuracy on Train set: {:.4f}\".format(bag_svc_rbf.score(X_train, y_train)))\n",
    "print(\"Accuracy on Test set: {:.4f}\".format(bag_svc_rbf.score(X_test, y_test)))"
   ]
  },
  {
   "cell_type": "markdown",
   "metadata": {},
   "source": [
    "*  Before Bagging - train and test accuracies using SVC with \"rbf\" are 0.9982 and 0.9938\n",
    "*  After Bagging  -  train and test accuracies using SVC with \"rbf\" are 0.9911 and 0.9841 respectively   \n",
    "* Both test and train scores are reduced after Bagging, the difference between train and test scores also increased. Hence, cannot be considered as generalized model"
   ]
  },
  {
   "cell_type": "markdown",
   "metadata": {},
   "source": [
    "## 2. Logistic Regression "
   ]
  },
  {
   "cell_type": "code",
   "execution_count": 53,
   "metadata": {},
   "outputs": [
    {
     "name": "stdout",
     "output_type": "stream",
     "text": [
      "Accuracy on Train set: 0.9984\n",
      "Accuracy on Test set: 0.9938\n"
     ]
    }
   ],
   "source": [
    "logreg = LogisticRegression(penalty='l2', C=10, solver=\"liblinear\")\n",
    "logreg.fit(X_train, y_train)\n",
    "print(\"Accuracy on Train set: {:.4f}\".format(logreg.score(X_train, y_train)))\n",
    "print(\"Accuracy on Test set: {:.4f}\".format(logreg.score(X_test, y_test)))"
   ]
  },
  {
   "cell_type": "markdown",
   "metadata": {},
   "source": [
    "### Bagging"
   ]
  },
  {
   "cell_type": "code",
   "execution_count": 54,
   "metadata": {},
   "outputs": [
    {
     "name": "stdout",
     "output_type": "stream",
     "text": [
      "Accuracy on Train set: 0.9965\n",
      "Accuracy on Test set: 0.9911\n"
     ]
    }
   ],
   "source": [
    "\n",
    "from sklearn.ensemble import BaggingClassifier\n",
    "logreg = LogisticRegression(penalty='l2', C=10, solver=\"liblinear\")\n",
    "logreg.fit(X_train, y_train)\n",
    "bag_log = BaggingClassifier(logreg,n_estimators=1000,max_samples=1000,random_state=0, bootstrap=True)\n",
    "bag_log.fit(X_train,y_train)\n",
    "print(\"Accuracy on Train set: {:.4f}\".format(bag_log.score(X_train, y_train)))\n",
    "print(\"Accuracy on Test set: {:.4f}\".format(bag_log.score(X_test, y_test)))"
   ]
  },
  {
   "cell_type": "markdown",
   "metadata": {},
   "source": [
    "*  Before Bagging - train and test accuracies using Logistic Regression are 0.9984 and 0.9938\n",
    "*  After Bagging  -  train and test accuracies using Logistic Regression are 0.9965 and 0.9911 respectively   \n",
    "*  There isn't much difference in the difference between test and train scores before and after bagging in the model"
   ]
  },
  {
   "cell_type": "markdown",
   "metadata": {},
   "source": [
    "# Pasting"
   ]
  },
  {
   "cell_type": "markdown",
   "metadata": {},
   "source": [
    "## 1. KNN Classifier"
   ]
  },
  {
   "cell_type": "code",
   "execution_count": 55,
   "metadata": {},
   "outputs": [
    {
     "name": "stdout",
     "output_type": "stream",
     "text": [
      "Accuracy of Train set: 0.9996\n",
      "Accuracy of Test set: 0.9991\n"
     ]
    }
   ],
   "source": [
    "knn = KNeighborsClassifier()  \n",
    "knn.fit(X_train, y_train)\n",
    "print(\"Accuracy of Train set: {:.4f}\".format(knn.score(X_train, y_train)))\n",
    "print(\"Accuracy of Test set: {:.4f}\".format(knn.score(X_test, y_test)))  "
   ]
  },
  {
   "cell_type": "markdown",
   "metadata": {},
   "source": [
    "### Pasting"
   ]
  },
  {
   "cell_type": "code",
   "execution_count": 56,
   "metadata": {},
   "outputs": [
    {
     "name": "stdout",
     "output_type": "stream",
     "text": [
      "Accuracy of Train set: 0.9976\n",
      "Accuracy of Test set: 0.9938\n"
     ]
    }
   ],
   "source": [
    "from sklearn.ensemble import BaggingClassifier   \n",
    "knn = KNeighborsClassifier()\n",
    "pa_knn = BaggingClassifier(knn,n_estimators=100,max_samples=1000,random_state=0,bootstrap=False)\n",
    "pa_knn.fit(X_train,y_train)\n",
    "print(\"Accuracy of Train set: {:.4f}\".format(pa_knn.score(X_train, y_train)))\n",
    "print(\"Accuracy of Test set: {:.4f}\".format(pa_knn.score(X_test, y_test)))  "
   ]
  },
  {
   "cell_type": "markdown",
   "metadata": {},
   "source": [
    "* Before Pasting - the train and test accuracies for KNN Classifier are 0.9991 and 0.9982 respectively\n",
    "* After Pasting  - the train and test accuracies for KNN Classifier are 0.9967 and 0.9938 respectively\n",
    "* Though both test and train scores are reduced after pasting, the difference between train and test scores less. it can be considered as a generalized model"
   ]
  },
  {
   "cell_type": "markdown",
   "metadata": {},
   "source": [
    "## 2. SVC with \"linear\" Kernel"
   ]
  },
  {
   "cell_type": "code",
   "execution_count": 57,
   "metadata": {},
   "outputs": [
    {
     "name": "stdout",
     "output_type": "stream",
     "text": [
      "Accuracy on Train set: 0.9984\n",
      "Accuracy on Test set: 0.9947\n"
     ]
    }
   ],
   "source": [
    "svc_li = SVC(C=1,kernel='linear')\n",
    "svc_li.fit(X_train,y_train)\n",
    "print(\"Accuracy on Train set: {:.4f}\".format(svc_li.score(X_train, y_train)))\n",
    "print(\"Accuracy on Test set: {:.4f}\".format(svc_li.score(X_test, y_test)))"
   ]
  },
  {
   "cell_type": "markdown",
   "metadata": {},
   "source": [
    "### pasting"
   ]
  },
  {
   "cell_type": "code",
   "execution_count": 58,
   "metadata": {},
   "outputs": [
    {
     "name": "stdout",
     "output_type": "stream",
     "text": [
      "Accuracy on Train set: 0.9978\n",
      "Accuracy on Test set: 0.9938\n"
     ]
    }
   ],
   "source": [
    "from sklearn.ensemble import BaggingClassifier   \n",
    "svc_li = SVC(kernel='linear',C=1) \n",
    "pa_svc_lin = BaggingClassifier(svc_li,n_estimators=100,max_samples=2000,random_state=0,bootstrap=False) \n",
    "pa_svc_lin.fit(X_train,y_train) \n",
    "print(\"Accuracy on Train set: {:.4f}\".format(pa_svc_lin.score(X_train, y_train))) \n",
    "print(\"Accuracy on Test set: {:.4f}\".format(pa_svc_lin.score(X_test, y_test)))   "
   ]
  },
  {
   "cell_type": "markdown",
   "metadata": {},
   "source": [
    "- Before Bagging - train and test accuracies using SVC with \"linear\" are 0.9984 and 0.9947\n",
    "- After Bagging - train and test accuracies using SVC with \"linear\" are 0.9978 and 0.9938 respectively\n",
    "- There isn't much difference in the difference between test and train scores before and after pasting in the model"
   ]
  },
  {
   "cell_type": "markdown",
   "metadata": {},
   "source": [
    "# Ada Boosting"
   ]
  },
  {
   "cell_type": "markdown",
   "metadata": {},
   "source": [
    "### 1.  SVC with 'poly' Kernel "
   ]
  },
  {
   "cell_type": "code",
   "execution_count": 59,
   "metadata": {},
   "outputs": [
    {
     "name": "stdout",
     "output_type": "stream",
     "text": [
      "Accuracy on Train set: 1.0000\n",
      "Accuracy on Test set: 0.9991\n"
     ]
    }
   ],
   "source": [
    "svc_po = SVC(C=10, kernel='poly', gamma=10)  \n",
    "svc_po.fit(X_train,y_train) \n",
    "print(\"Accuracy on Train set: {:.4f}\".format(svc_po.score(X_train, y_train))) \n",
    "print(\"Accuracy on Test set: {:.4f}\".format(svc_po.score(X_test, y_test))) "
   ]
  },
  {
   "cell_type": "markdown",
   "metadata": {},
   "source": [
    "### Ada Boosting"
   ]
  },
  {
   "cell_type": "code",
   "execution_count": 60,
   "metadata": {},
   "outputs": [
    {
     "name": "stdout",
     "output_type": "stream",
     "text": [
      "Accuracy on Train set: 1.0000\n",
      "Accuracy on Test set: 0.9991\n"
     ]
    }
   ],
   "source": [
    "\n",
    "from sklearn.ensemble import AdaBoostClassifier \n",
    "svc_po = SVC(kernel='poly',C=10,gamma=10) \n",
    "ada_svc_po = AdaBoostClassifier(svc_po,n_estimators=200,learning_rate=0.5 , algorithm='SAMME') \n",
    "ada_svc_po.fit(X_train,y_train) \n",
    "print(\"Accuracy on Train set: {:.4f}\".format(ada_svc_po.score(X_train, y_train))) \n",
    "print(\"Accuracy on Test set: {:.4f}\".format(ada_svc_po.score(X_test, y_test))) "
   ]
  },
  {
   "cell_type": "markdown",
   "metadata": {},
   "source": [
    "- Before AdaBoosting - the train and test accuracies using SVC with poly are 1.0000 and 0.9991\n",
    "- After  :  the train and test accuracies using SVC with poly are 1.0000 and 0.9991\n",
    "- No difference after Ada Boosting"
   ]
  },
  {
   "cell_type": "markdown",
   "metadata": {},
   "source": [
    "# 2.Decision Tree    "
   ]
  },
  {
   "cell_type": "code",
   "execution_count": 61,
   "metadata": {},
   "outputs": [
    {
     "name": "stdout",
     "output_type": "stream",
     "text": [
      "Accuracy on Train set: 0.9951\n",
      "Accuracy on Test set: 0.9876\n"
     ]
    }
   ],
   "source": [
    "detree = DecisionTreeClassifier(criterion = 'entropy',max_depth=7, random_state=0)\n",
    "detree.fit(X_train, y_train)\n",
    "print(\"Accuracy on Train set: {:.4f}\".format(detree.score(X_train, y_train)))\n",
    "print(\"Accuracy on Test set: {:.4f}\".format(detree.score(X_test, y_test)))"
   ]
  },
  {
   "cell_type": "markdown",
   "metadata": {},
   "source": [
    "### ada boosting"
   ]
  },
  {
   "cell_type": "code",
   "execution_count": 62,
   "metadata": {},
   "outputs": [
    {
     "name": "stdout",
     "output_type": "stream",
     "text": [
      "Accuracy on Train set: 1.0000\n",
      "Accuracy on Test set: 0.9982\n"
     ]
    }
   ],
   "source": [
    "from sklearn.ensemble import AdaBoostClassifier \n",
    "detree = DecisionTreeClassifier(max_depth=7, random_state=0) \n",
    "detree.fit(X_train, y_train) \n",
    "ada_detree = AdaBoostClassifier(detree,n_estimators=100,learning_rate=0.5,algorithm='SAMME.R') \n",
    "ada_detree.fit(X_train,y_train) \n",
    "print(\"Accuracy on Train set: {:.4f}\".format(ada_detree.score(X_train, y_train))) \n",
    "print(\"Accuracy on Test set: {:.4f}\".format(ada_detree.score(X_test, y_test))) "
   ]
  },
  {
   "cell_type": "markdown",
   "metadata": {},
   "source": [
    "- Before AdaBoosting, the train and test accuracies for Decision Tree are 0.9951 and 0.9876 respectively\n",
    "- After , the train and test accuracies for Decision Tree are 1.0000 and 0.9982 respectively\n",
    "- Both test and train scores are increased after AdaBoosting"
   ]
  },
  {
   "cell_type": "markdown",
   "metadata": {},
   "source": [
    "# Gradient Boosting"
   ]
  },
  {
   "cell_type": "code",
   "execution_count": 63,
   "metadata": {},
   "outputs": [
    {
     "name": "stdout",
     "output_type": "stream",
     "text": [
      "Accuracy on Train set: 0.9770\n",
      "Accuracy on Test set: 0.9637\n"
     ]
    }
   ],
   "source": [
    "from sklearn.ensemble import GradientBoostingClassifier \n",
    "gbrt_d = GradientBoostingClassifier(random_state=0, max_depth=1) \n",
    "gbrt_d.fit(X_train, y_train) \n",
    "\n",
    "print(\"Accuracy on Train set: {:.4f}\".format(gbrt_d.score(X_train, y_train))) \n",
    "print(\"Accuracy on Test set: {:.4f}\".format(gbrt_d.score(X_test, y_test))) "
   ]
  },
  {
   "cell_type": "code",
   "execution_count": 64,
   "metadata": {},
   "outputs": [
    {
     "name": "stdout",
     "output_type": "stream",
     "text": [
      "Accuracy on Train set: 1.0000\n",
      "Accuracy on Test set: 0.9991\n"
     ]
    }
   ],
   "source": [
    "gbr = GradientBoostingClassifier(random_state=0, learning_rate=0.5)\n",
    "\n",
    "gbr.fit(X_train, y_train)\n",
    "print(\"Accuracy on Train set: {:.4f}\".format(gbr.score(X_train, y_train)))\n",
    "print(\"Accuracy on Test set: {:.4f}\".format(gbr.score(X_test, y_test)))"
   ]
  },
  {
   "cell_type": "markdown",
   "metadata": {},
   "source": [
    "For Gradient Boosting without learning rate, the train and test accuracies are 0.9770 and 0.9637\n",
    "For Gradient Boosting with learning rate, the train and test accuracies are 1.0000 and 0.9991\n",
    "Both test and train scores are increased here"
   ]
  },
  {
   "cell_type": "markdown",
   "metadata": {},
   "source": [
    "# PCA"
   ]
  },
  {
   "cell_type": "code",
   "execution_count": 65,
   "metadata": {},
   "outputs": [],
   "source": [
    "from  sklearn.decomposition import PCA \n",
    "\n",
    "pcan= PCA(n_components=0.95) \n",
    "pcan.fit(X_train) \n",
    "X_train= pcan.transform(X_train) \n",
    "X_test=pcan.transform(X_test) "
   ]
  },
  {
   "cell_type": "code",
   "execution_count": 66,
   "metadata": {},
   "outputs": [
    {
     "data": {
      "text/plain": [
       "38"
      ]
     },
     "execution_count": 66,
     "metadata": {},
     "output_type": "execute_result"
    }
   ],
   "source": [
    "# num of components after PCA\n",
    "pcan.n_components_"
   ]
  },
  {
   "cell_type": "markdown",
   "metadata": {},
   "source": [
    "# 1. Logistic Regression"
   ]
  },
  {
   "cell_type": "code",
   "execution_count": 67,
   "metadata": {},
   "outputs": [
    {
     "name": "stderr",
     "output_type": "stream",
     "text": [
      "C:\\Users\\vmadh\\Anaconda3\\lib\\site-packages\\sklearn\\linear_model\\logistic.py:947: ConvergenceWarning: lbfgs failed to converge. Increase the number of iterations.\n",
      "  \"of iterations.\", ConvergenceWarning)\n",
      "C:\\Users\\vmadh\\Anaconda3\\lib\\site-packages\\sklearn\\linear_model\\logistic.py:947: ConvergenceWarning: lbfgs failed to converge. Increase the number of iterations.\n",
      "  \"of iterations.\", ConvergenceWarning)\n",
      "C:\\Users\\vmadh\\Anaconda3\\lib\\site-packages\\sklearn\\linear_model\\logistic.py:947: ConvergenceWarning: lbfgs failed to converge. Increase the number of iterations.\n",
      "  \"of iterations.\", ConvergenceWarning)\n"
     ]
    }
   ],
   "source": [
    "from sklearn.linear_model import LogisticRegression\n",
    "\n",
    "c_range = [0.001, 0.01, 0.1, 1, 10, 100, 1000,10000,100000]\n",
    "train_score_l1 = []\n",
    "train_score_l2 = []\n",
    "test_score_l1 = []\n",
    "test_score_l2 = []\n",
    "\n",
    "for c in c_range:\n",
    "    log_l1 = LogisticRegression(penalty = 'l1', C = c, solver = 'liblinear')\n",
    "    log_l2 = LogisticRegression(penalty = 'l2', C = c, solver = 'lbfgs')\n",
    "    log_l1.fit(X_train, y_train)\n",
    "    log_l2.fit(X_train, y_train)\n",
    "    train_score_l1.append(log_l1.score(X_train, y_train))\n",
    "    train_score_l2.append(log_l2.score(X_train, y_train))\n",
    "    test_score_l1.append(log_l1.score(X_test, y_test))\n",
    "    test_score_l2.append(log_l2.score(X_test, y_test))"
   ]
  },
  {
   "cell_type": "code",
   "execution_count": 68,
   "metadata": {},
   "outputs": [
    {
     "data": {
      "image/png": "[encoded data removed]",
      "text/plain": [
       "<Figure size 1440x720 with 2 Axes>"
      ]
     },
     "metadata": {
      "needs_background": "light"
     },
     "output_type": "display_data"
    }
   ],
   "source": [
    "import matplotlib.pyplot as plt\n",
    "plt.figure(figsize=(20,10))\n",
    "plt.subplot(1,2,1)\n",
    "plt.plot(c_range, train_score_l1, label = 'Train Score, Penalty = l1',c='r')\n",
    "plt.plot(c_range, test_score_l1, label = 'Test Score, Penalty = l1',c='g')\n",
    "plt.legend()\n",
    "plt.xlabel('Regularization Parameter: C')\n",
    "plt.ylabel('Accuracy')\n",
    "plt.xscale('log')\n",
    "plt.subplot(1,2,2)\n",
    "plt.plot(c_range, train_score_l2, label = 'Train Score, Penalty = l2',c='b')\n",
    "plt.plot(c_range, test_score_l2, label = 'Test Score, Penalty = l2',c='y')\n",
    "plt.legend()\n",
    "plt.xlabel('Regularization parameter: C')\n",
    "plt.ylabel('Accuracy')\n",
    "plt.xscale('log')"
   ]
  },
  {
   "cell_type": "markdown",
   "metadata": {},
   "source": [
    "L2 Regularization with C=1 gives better accuracies. With L2 penalty, the train and test accuracies are very close at C=1. "
   ]
  },
  {
   "cell_type": "code",
   "execution_count": 69,
   "metadata": {},
   "outputs": [
    {
     "name": "stdout",
     "output_type": "stream",
     "text": [
      "Accuracy on Train set: 0.9860\n",
      "Accuracy on Test set: 0.9911\n"
     ]
    }
   ],
   "source": [
    "logreg = LogisticRegression(penalty='l2', C=1)\n",
    "logreg.fit(X_train, y_train)\n",
    "print(\"Accuracy on Train set: {:.4f}\".format(logreg.score(X_train, y_train)))\n",
    "print(\"Accuracy on Test set: {:.4f}\".format(logreg.score(X_test, y_test)))"
   ]
  },
  {
   "cell_type": "code",
   "execution_count": 70,
   "metadata": {},
   "outputs": [
    {
     "name": "stdout",
     "output_type": "stream",
     "text": [
      "0.9911426040744021\n"
     ]
    }
   ],
   "source": [
    "from  sklearn.metrics import accuracy_score\n",
    "y_pred = logreg.predict(X_test)\n",
    "print(accuracy_score(y_test, y_pred))"
   ]
  },
  {
   "cell_type": "markdown",
   "metadata": {},
   "source": [
    "##  2. KNN Classification"
   ]
  },
  {
   "cell_type": "code",
   "execution_count": 71,
   "metadata": {},
   "outputs": [],
   "source": [
    "from sklearn.model_selection import train_test_split \n",
    "from sklearn.preprocessing import MinMaxScaler \n",
    "from sklearn.neighbors import KNeighborsClassifier \n",
    "from sklearn.metrics import classification_report, confusion_matrix  \n",
    "\n",
    "%matplotlib inline"
   ]
  },
  {
   "cell_type": "code",
   "execution_count": 72,
   "metadata": {},
   "outputs": [
    {
     "data": {
      "text/plain": [
       "<matplotlib.legend.Legend at 0x2be9a3bbcc8>"
      ]
     },
     "execution_count": 72,
     "metadata": {},
     "output_type": "execute_result"
    },
    {
     "data": {
      "image/png": "[encoded data removed]",
      "text/plain": [
       "<Figure size 432x288 with 1 Axes>"
      ]
     },
     "metadata": {
      "needs_background": "light"
     },
     "output_type": "display_data"
    }
   ],
   "source": [
    "\n",
    "train_score = [] \n",
    "test_score = [] \n",
    "\n",
    "n = range(1,20) \n",
    "for i in n:\n",
    "    knnn = KNeighborsClassifier(n_neighbors=i) \n",
    "    knnn.fit(X_train,y_train)\n",
    "    train_score.append(knnn.score(X_train,y_train)) \n",
    "    test_score.append(knnn.score(X_test,y_test)) \n",
    "plt.plot(n,train_score,'r',label='Train Score') \n",
    "plt.plot(n,test_score,'g',label = 'Test Score') \n",
    "plt.xlabel('k') \n",
    "plt.ylabel('Accuracy') \n",
    "plt.legend() "
   ]
  },
  {
   "cell_type": "markdown",
   "metadata": {},
   "source": [
    "It looks like k = 5 has the highest test score and is very close to the train score,thus k=5 as the best parameter for KNN Model  "
   ]
  },
  {
   "cell_type": "code",
   "execution_count": 73,
   "metadata": {},
   "outputs": [
    {
     "name": "stdout",
     "output_type": "stream",
     "text": [
      "Accuracy on Train set: 0.9993\n",
      "Accuracy on Test set: 0.9991\n"
     ]
    }
   ],
   "source": [
    "knnn =  KNeighborsClassifier(5) \n",
    "knnn.fit(X_train, y_train)  \n",
    "print(\"Accuracy on Train set: {:.4f}\".format(knnn.score(X_train, y_train))) \n",
    "print(\"Accuracy on Test set: {:.4f}\".format(knnn.score(X_test, y_test))) "
   ]
  },
  {
   "cell_type": "code",
   "execution_count": 74,
   "metadata": {},
   "outputs": [
    {
     "name": "stdout",
     "output_type": "stream",
     "text": [
      "Requirement already satisfied: mglearn in c:\\users\\vmadh\\anaconda3\\lib\\site-packages (0.1.9)\n",
      "Requirement already satisfied: pillow in c:\\users\\vmadh\\anaconda3\\lib\\site-packages (from mglearn) (6.2.0)\n",
      "Requirement already satisfied: cycler in c:\\users\\vmadh\\anaconda3\\lib\\site-packages (from mglearn) (0.10.0)\n",
      "Requirement already satisfied: imageio in c:\\users\\vmadh\\anaconda3\\lib\\site-packages (from mglearn) (2.6.0)\n",
      "Requirement already satisfied: joblib in c:\\users\\vmadh\\anaconda3\\lib\\site-packages (from mglearn) (0.13.2)\n",
      "Requirement already satisfied: pandas in c:\\users\\vmadh\\anaconda3\\lib\\site-packages (from mglearn) (0.25.1)\n",
      "Requirement already satisfied: matplotlib in c:\\users\\vmadh\\anaconda3\\lib\\site-packages (from mglearn) (3.1.1)\n",
      "Requirement already satisfied: numpy in c:\\users\\vmadh\\anaconda3\\lib\\site-packages (from mglearn) (1.16.5)\n",
      "Requirement already satisfied: scikit-learn in c:\\users\\vmadh\\anaconda3\\lib\\site-packages (from mglearn) (0.21.3)\n",
      "Requirement already satisfied: six in c:\\users\\vmadh\\anaconda3\\lib\\site-packages (from cycler->mglearn) (1.12.0)\n",
      "Requirement already satisfied: pytz>=2017.2 in c:\\users\\vmadh\\anaconda3\\lib\\site-packages (from pandas->mglearn) (2019.3)\n",
      "Requirement already satisfied: python-dateutil>=2.6.1 in c:\\users\\vmadh\\anaconda3\\lib\\site-packages (from pandas->mglearn) (2.8.0)\n",
      "Requirement already satisfied: kiwisolver>=1.0.1 in c:\\users\\vmadh\\anaconda3\\lib\\site-packages (from matplotlib->mglearn) (1.1.0)\n",
      "Requirement already satisfied: pyparsing!=2.0.4,!=2.1.2,!=2.1.6,>=2.0.1 in c:\\users\\vmadh\\anaconda3\\lib\\site-packages (from matplotlib->mglearn) (2.4.2)\n",
      "Requirement already satisfied: scipy>=0.17.0 in c:\\users\\vmadh\\anaconda3\\lib\\site-packages (from scikit-learn->mglearn) (1.3.1)\n",
      "Requirement already satisfied: setuptools in c:\\users\\vmadh\\anaconda3\\lib\\site-packages (from kiwisolver>=1.0.1->matplotlib->mglearn) (41.4.0)\n",
      "Note: you may need to restart the kernel to use updated packages.\n"
     ]
    }
   ],
   "source": [
    "pip install mglearn"
   ]
  },
  {
   "cell_type": "markdown",
   "metadata": {},
   "source": [
    "# 3. Linear SVM Classification"
   ]
  },
  {
   "cell_type": "code",
   "execution_count": 75,
   "metadata": {},
   "outputs": [
    {
     "data": {
      "text/plain": [
       "<matplotlib.legend.Legend at 0x2bea8396fc8>"
      ]
     },
     "execution_count": 75,
     "metadata": {},
     "output_type": "execute_result"
    },
    {
     "data": {
      "image/png": "[encoded data removed]",
      "text/plain": [
       "<Figure size 432x288 with 1 Axes>"
      ]
     },
     "metadata": {
      "needs_background": "light"
     },
     "output_type": "display_data"
    }
   ],
   "source": [
    "import mglearn\n",
    "mglearn.discrete_scatter(X_train[:, 0], X_train[:, 1], y_train) \n",
    "plt.xlabel(\"Feature 0\") \n",
    "plt.ylabel(\"Feature 1\") \n",
    "plt.legend(['Class 0', 'Class 1']) "
   ]
  },
  {
   "cell_type": "code",
   "execution_count": 76,
   "metadata": {},
   "outputs": [
    {
     "name": "stdout",
     "output_type": "stream",
     "text": [
      "Accuracy on Train set: 0.9876\n",
      "Accuracy on Test set: 0.9823\n"
     ]
    },
    {
     "name": "stderr",
     "output_type": "stream",
     "text": [
      "C:\\Users\\vmadh\\Anaconda3\\lib\\site-packages\\sklearn\\svm\\base.py:929: ConvergenceWarning: Liblinear failed to converge, increase the number of iterations.\n",
      "  \"the number of iterations.\", ConvergenceWarning)\n"
     ]
    }
   ],
   "source": [
    "from sklearn.svm import LinearSVC\n",
    "lin_svm = LinearSVC(C=100)\n",
    "lin_svm.fit(X_train,y_train)\n",
    "print(\"Accuracy on Train set: {:.4f}\".format(lin_svm.score(X_train,y_train)))\n",
    "print(\"Accuracy on Test set: {:.4f}\".format(lin_svm.score(X_test,y_test)))"
   ]
  },
  {
   "cell_type": "code",
   "execution_count": 77,
   "metadata": {},
   "outputs": [
    {
     "data": {
      "text/plain": [
       "<matplotlib.legend.Legend at 0x2bea744bac8>"
      ]
     },
     "execution_count": 77,
     "metadata": {},
     "output_type": "execute_result"
    },
    {
     "data": {
      "image/png": "[encoded data removed]",
      "text/plain": [
       "<Figure size 432x288 with 1 Axes>"
      ]
     },
     "metadata": {
      "needs_background": "light"
     },
     "output_type": "display_data"
    }
   ],
   "source": [
    "mglearn.discrete_scatter(X_train[:, 0], X_train[:, 1], y_train)\n",
    "line = np.linspace(-5, 5)\n",
    "for coef, intercept, color in zip(lin_svm.coef_, lin_svm.intercept_, mglearn.cm3.colors):\n",
    "    plt.plot(line, -(line * coef[0] + intercept) / coef[1], c=color)\n",
    "plt.xlabel(\"Feature 0\")\n",
    "plt.ylabel(\"Feature 1\")\n",
    "plt.legend(['Class 0', 'Class 1'], loc=(1.01, 0.3))"
   ]
  },
  {
   "cell_type": "markdown",
   "metadata": {},
   "source": [
    "# 4. Kernelized SVM"
   ]
  },
  {
   "cell_type": "markdown",
   "metadata": {},
   "source": [
    "### kernal linear"
   ]
  },
  {
   "cell_type": "code",
   "execution_count": 78,
   "metadata": {},
   "outputs": [
    {
     "name": "stdout",
     "output_type": "stream",
     "text": [
      "C:0.01\n",
      "Train Score: 0.9721, Test Score: 0.9690\n",
      "C:0.1\n",
      "Train Score: 0.9836, Test Score: 0.9858\n",
      "C:1\n",
      "Train Score: 0.9872, Test Score: 0.9894\n",
      "C:10\n",
      "Train Score: 0.9887, Test Score: 0.9823\n"
     ]
    }
   ],
   "source": [
    "C1 = [0.01,0.1,1,10]\n",
    "for i in C1:\n",
    "    svc = SVC(C=i,kernel='linear')\n",
    "    svc.fit(X_train,y_train)\n",
    "    print('C:{}'.format(i))\n",
    "    print('Train Score: {:.4f}, Test Score: {:.4f}'.format(svc.score(X_train,y_train),svc.score(X_test,y_test)))"
   ]
  },
  {
   "cell_type": "code",
   "execution_count": 79,
   "metadata": {},
   "outputs": [
    {
     "name": "stdout",
     "output_type": "stream",
     "text": [
      "Accuracy on Train set: 0.9887\n",
      "Accuracy on Test set: 0.9823\n"
     ]
    }
   ],
   "source": [
    "svc_lin = SVC(C=10,kernel='linear')\n",
    "svc_lin.fit(X_train,y_train)\n",
    "print(\"Accuracy on Train set: {:.4f}\".format(svc_lin.score(X_train, y_train)))\n",
    "print(\"Accuracy on Test set: {:.4f}\".format(svc_lin.score(X_test, y_test)))"
   ]
  },
  {
   "cell_type": "markdown",
   "metadata": {},
   "source": [
    "### kernal RBF"
   ]
  },
  {
   "cell_type": "code",
   "execution_count": 80,
   "metadata": {},
   "outputs": [
    {
     "name": "stdout",
     "output_type": "stream",
     "text": [
      "C:0.01,gamma:0.01\n",
      "Train Score: 0.8443, Test Score: 0.8565\n",
      "C:0.01,gamma:0.1\n",
      "Train Score: 0.8944, Test Score: 0.8946\n",
      "C:0.01,gamma:1\n",
      "Train Score: 0.6175, Test Score: 0.6200\n",
      "C:0.01,gamma:10\n",
      "Train Score: 0.6175, Test Score: 0.6200\n",
      "C:0.1,gamma:0.01\n",
      "Train Score: 0.9586, Test Score: 0.9548\n",
      "C:0.1,gamma:0.1\n",
      "Train Score: 0.9934, Test Score: 0.9911\n",
      "C:0.1,gamma:1\n",
      "Train Score: 0.6175, Test Score: 0.6200\n",
      "C:0.1,gamma:10\n",
      "Train Score: 0.6175, Test Score: 0.6200\n",
      "C:1,gamma:0.01\n",
      "Train Score: 0.9814, Test Score: 0.9796\n",
      "C:1,gamma:0.1\n",
      "Train Score: 0.9993, Test Score: 0.9973\n",
      "C:1,gamma:1\n",
      "Train Score: 1.0000, Test Score: 0.9858\n",
      "C:1,gamma:10\n",
      "Train Score: 1.0000, Test Score: 0.6652\n",
      "C:10,gamma:0.01\n",
      "Train Score: 0.9922, Test Score: 0.9920\n",
      "C:10,gamma:0.1\n",
      "Train Score: 1.0000, Test Score: 0.9991\n",
      "C:10,gamma:1\n",
      "Train Score: 1.0000, Test Score: 0.9849\n",
      "C:10,gamma:10\n",
      "Train Score: 1.0000, Test Score: 0.6652\n"
     ]
    }
   ],
   "source": [
    "C1 = [0.01,0.1,1,10]\n",
    "gamma1 = [0.01,0.1,1,10]\n",
    "\n",
    "for i in C1:\n",
    "    for j in gamma1:\n",
    "        svc = SVC(C=i,kernel='rbf',gamma=j)\n",
    "        svc.fit(X_train,y_train)\n",
    "        print('C:{},gamma:{}'.format(i,j))\n",
    "        print('Train Score: {:.4f}, Test Score: {:.4f}'.format(svc.score(X_train,y_train),svc.score(X_test,y_test)))"
   ]
  },
  {
   "cell_type": "markdown",
   "metadata": {},
   "source": [
    "Best Parameter Values: C = 10, gamma = 0.1. Test score for C=10 and gamma=0.1 is highest among all"
   ]
  },
  {
   "cell_type": "code",
   "execution_count": 107,
   "metadata": {},
   "outputs": [
    {
     "name": "stdout",
     "output_type": "stream",
     "text": [
      "Accuracy on Train set: 1.0000\n",
      "Accuracy on Test set: 0.9991\n"
     ]
    }
   ],
   "source": [
    "svc_rbf = SVC(C=10,kernel='rbf',gamma = 0.1)\n",
    "svc_rbf.fit(X_train,y_train)\n",
    "print(\"Accuracy on Train set: {:.4f}\".format(svc_rbf.score(X_train, y_train)))\n",
    "print(\"Accuracy on Test set: {:.4f}\".format(svc_rbf.score(X_test, y_test)))"
   ]
  },
  {
   "cell_type": "markdown",
   "metadata": {},
   "source": [
    "### polynomial Kernal"
   ]
  },
  {
   "cell_type": "code",
   "execution_count": 82,
   "metadata": {},
   "outputs": [
    {
     "name": "stdout",
     "output_type": "stream",
     "text": [
      "C:0.01,gamma:0.01\n",
      "Train Score: 0.6175, Test Score: 0.6200\n",
      "C:0.01,gamma:0.1\n",
      "Train Score: 0.8186, Test Score: 0.8326\n",
      "C:0.01,gamma:1\n",
      "Train Score: 1.0000, Test Score: 0.9991\n",
      "C:0.01,gamma:10\n",
      "Train Score: 1.0000, Test Score: 0.9991\n",
      "C:0.1,gamma:0.01\n",
      "Train Score: 0.6175, Test Score: 0.6200\n",
      "C:0.1,gamma:0.1\n",
      "Train Score: 0.9803, Test Score: 0.9734\n",
      "C:0.1,gamma:1\n",
      "Train Score: 1.0000, Test Score: 0.9991\n",
      "C:0.1,gamma:10\n",
      "Train Score: 1.0000, Test Score: 0.9991\n",
      "C:1,gamma:0.01\n",
      "Train Score: 0.6175, Test Score: 0.6200\n",
      "C:1,gamma:0.1\n",
      "Train Score: 0.9996, Test Score: 0.9982\n",
      "C:1,gamma:1\n",
      "Train Score: 1.0000, Test Score: 0.9991\n",
      "C:1,gamma:10\n",
      "Train Score: 1.0000, Test Score: 0.9991\n",
      "C:10,gamma:0.01\n",
      "Train Score: 0.8186, Test Score: 0.8326\n",
      "C:10,gamma:0.1\n",
      "Train Score: 1.0000, Test Score: 0.9991\n",
      "C:10,gamma:1\n",
      "Train Score: 1.0000, Test Score: 0.9991\n",
      "C:10,gamma:10\n",
      "Train Score: 1.0000, Test Score: 0.9991\n"
     ]
    }
   ],
   "source": [
    "C1 = [0.01,0.1,1,10] \n",
    "gamma1 = [0.01,0.1,1,10] \n",
    "for i in C1:\n",
    "    for j in gamma1:\n",
    "        svc = SVC(C=i,kernel='poly',gamma=j)\n",
    "        svc.fit(X_train,y_train)\n",
    "        print('C:{},gamma:{}'.format(i,j))\n",
    "        print('Train Score: {:.4f}, Test Score: {:.4f}'.format(svc.score(X_train,y_train),svc.score(X_test,y_test)))"
   ]
  },
  {
   "cell_type": "markdown",
   "metadata": {},
   "source": [
    "Here, we can clearly see that C = 10 and gamma = 10 gives the best accuracy for our model"
   ]
  },
  {
   "cell_type": "code",
   "execution_count": 83,
   "metadata": {},
   "outputs": [
    {
     "name": "stdout",
     "output_type": "stream",
     "text": [
      "Accuracy on Train set: 1.0000\n",
      "Accuracy on Test set: 0.9991\n"
     ]
    }
   ],
   "source": [
    "svc_poly = SVC(C=10, kernel='poly', gamma=10)\n",
    "svc_poly.fit(X_train,y_train)\n",
    "print(\"Accuracy on Train set: {:.4f}\".format(svc_poly.score(X_train, y_train)))\n",
    "print(\"Accuracy on Test set: {:.4f}\".format(svc_poly.score(X_test, y_test)))"
   ]
  },
  {
   "cell_type": "markdown",
   "metadata": {},
   "source": [
    "## 5. Decision tree"
   ]
  },
  {
   "cell_type": "code",
   "execution_count": 84,
   "metadata": {},
   "outputs": [
    {
     "name": "stdout",
     "output_type": "stream",
     "text": [
      "Accuracy on Train set: 0.9524\n",
      "Accuracy on Test set: 0.9460\n"
     ]
    }
   ],
   "source": [
    "detree = DecisionTreeClassifier(max_depth=3, random_state=0)\n",
    "detree.fit(X_train, y_train)\n",
    "\n",
    "print(\"Accuracy on Train set: {:.4f}\".format(detree.score(X_train, y_train)))\n",
    "print(\"Accuracy on Test set: {:.4f}\".format(detree.score(X_test, y_test)))"
   ]
  },
  {
   "cell_type": "markdown",
   "metadata": {},
   "source": [
    "## Comparisons before and after PCA"
   ]
  },
  {
   "cell_type": "code",
   "execution_count": 112,
   "metadata": {},
   "outputs": [
    {
     "data": {
      "text/html": [
       "<div>\n",
       "<style scoped>\n",
       "    .dataframe tbody tr th:only-of-type {\n",
       "        vertical-align: middle;\n",
       "    }\n",
       "\n",
       "    .dataframe tbody tr th {\n",
       "        vertical-align: top;\n",
       "    }\n",
       "\n",
       "    .dataframe thead th {\n",
       "        text-align: right;\n",
       "    }\n",
       "</style>\n",
       "<table border=\"1\" class=\"dataframe\">\n",
       "  <thead>\n",
       "    <tr style=\"text-align: right;\">\n",
       "      <th></th>\n",
       "      <th>Models before PCA</th>\n",
       "      <th>Train Score</th>\n",
       "      <th>Test_Score</th>\n",
       "    </tr>\n",
       "  </thead>\n",
       "  <tbody>\n",
       "    <tr>\n",
       "      <td>0</td>\n",
       "      <td>Logistic Regrerssion</td>\n",
       "      <td>0.9989</td>\n",
       "      <td>0.9973</td>\n",
       "    </tr>\n",
       "    <tr>\n",
       "      <td>1</td>\n",
       "      <td>KNN classification</td>\n",
       "      <td>1.0000</td>\n",
       "      <td>0.9973</td>\n",
       "    </tr>\n",
       "    <tr>\n",
       "      <td>2</td>\n",
       "      <td>SVC - linear</td>\n",
       "      <td>0.9989</td>\n",
       "      <td>0.9982</td>\n",
       "    </tr>\n",
       "    <tr>\n",
       "      <td>3</td>\n",
       "      <td>SVC - rbf</td>\n",
       "      <td>1.0000</td>\n",
       "      <td>0.9982</td>\n",
       "    </tr>\n",
       "    <tr>\n",
       "      <td>4</td>\n",
       "      <td>SVC - poly</td>\n",
       "      <td>1.0000</td>\n",
       "      <td>0.9982</td>\n",
       "    </tr>\n",
       "    <tr>\n",
       "      <td>5</td>\n",
       "      <td>Decision Tree</td>\n",
       "      <td>0.9949</td>\n",
       "      <td>0.9938</td>\n",
       "    </tr>\n",
       "  </tbody>\n",
       "</table>\n",
       "</div>"
      ],
      "text/plain": [
       "      Models before PCA  Train Score  Test_Score\n",
       "0  Logistic Regrerssion       0.9989      0.9973\n",
       "1    KNN classification       1.0000      0.9973\n",
       "2          SVC - linear       0.9989      0.9982\n",
       "3             SVC - rbf       1.0000      0.9982\n",
       "4            SVC - poly       1.0000      0.9982\n",
       "5         Decision Tree       0.9949      0.9938"
      ]
     },
     "execution_count": 112,
     "metadata": {},
     "output_type": "execute_result"
    }
   ],
   "source": [
    "Classifi = {'Models before PCA':['Logistic Regrerssion','KNN classification','SVC - linear','SVC - rbf','SVC - poly','Decision Tree'],'Train Score':[ 0.9989,1.0000,0.9989,1.0000,1.0000,0.9949],'Test_Score':[0.9973,0.9973,0.9982 ,0.9982,0.9982,0.9938]}\n",
    "Classification_score = pd.DataFrame(Classifi)\n",
    "Classification_score"
   ]
  },
  {
   "cell_type": "markdown",
   "metadata": {},
   "source": [
    "From the above information , KNN or SVC-rbf or SVC-Poly can be our best classification model"
   ]
  },
  {
   "cell_type": "markdown",
   "metadata": {},
   "source": [
    "## After PCA"
   ]
  },
  {
   "cell_type": "code",
   "execution_count": 113,
   "metadata": {},
   "outputs": [
    {
     "data": {
      "text/html": [
       "<div>\n",
       "<style scoped>\n",
       "    .dataframe tbody tr th:only-of-type {\n",
       "        vertical-align: middle;\n",
       "    }\n",
       "\n",
       "    .dataframe tbody tr th {\n",
       "        vertical-align: top;\n",
       "    }\n",
       "\n",
       "    .dataframe thead th {\n",
       "        text-align: right;\n",
       "    }\n",
       "</style>\n",
       "<table border=\"1\" class=\"dataframe\">\n",
       "  <thead>\n",
       "    <tr style=\"text-align: right;\">\n",
       "      <th></th>\n",
       "      <th>Models after PCA</th>\n",
       "      <th>Train Score</th>\n",
       "      <th>Test_Score</th>\n",
       "    </tr>\n",
       "  </thead>\n",
       "  <tbody>\n",
       "    <tr>\n",
       "      <td>0</td>\n",
       "      <td>Logistic Regrerssion</td>\n",
       "      <td>0.9860</td>\n",
       "      <td>0.9911</td>\n",
       "    </tr>\n",
       "    <tr>\n",
       "      <td>1</td>\n",
       "      <td>KNN classification</td>\n",
       "      <td>0.9993</td>\n",
       "      <td>0.9991</td>\n",
       "    </tr>\n",
       "    <tr>\n",
       "      <td>2</td>\n",
       "      <td>SVC - linear</td>\n",
       "      <td>0.9823</td>\n",
       "      <td>0.9876</td>\n",
       "    </tr>\n",
       "    <tr>\n",
       "      <td>3</td>\n",
       "      <td>SVC - rbf</td>\n",
       "      <td>1.0000</td>\n",
       "      <td>0.9991</td>\n",
       "    </tr>\n",
       "    <tr>\n",
       "      <td>4</td>\n",
       "      <td>SVC - poly</td>\n",
       "      <td>1.0000</td>\n",
       "      <td>0.9991</td>\n",
       "    </tr>\n",
       "    <tr>\n",
       "      <td>5</td>\n",
       "      <td>Decision Tree</td>\n",
       "      <td>0.9524</td>\n",
       "      <td>0.9460</td>\n",
       "    </tr>\n",
       "  </tbody>\n",
       "</table>\n",
       "</div>"
      ],
      "text/plain": [
       "       Models after PCA  Train Score  Test_Score\n",
       "0  Logistic Regrerssion       0.9860      0.9911\n",
       "1    KNN classification       0.9993      0.9991\n",
       "2          SVC - linear       0.9823      0.9876\n",
       "3             SVC - rbf       1.0000      0.9991\n",
       "4            SVC - poly       1.0000      0.9991\n",
       "5         Decision Tree       0.9524      0.9460"
      ]
     },
     "execution_count": 113,
     "metadata": {},
     "output_type": "execute_result"
    }
   ],
   "source": [
    "Classif = {'Models after PCA':['Logistic Regrerssion','KNN classification','SVC - linear','SVC - rbf','SVC - poly','Decision Tree'],'Train Score':[0.9860,0.9993,0.9823,1.0000,1.0000,0.9524],'Test_Score':[0.9911,0.9991,0.9876,0.9991,0.9991,0.9460]}\n",
    "Classification_score = pd.DataFrame(Classif)\n",
    "Classification_score"
   ]
  },
  {
   "cell_type": "markdown",
   "metadata": {},
   "source": [
    "After performing PCA, From the above information we can see that  SVC - poly and svc rbf are our best classification models"
   ]
  },
  {
   "cell_type": "markdown",
   "metadata": {},
   "source": [
    "#### Before PCA, the models had high accuracies for both test and train. After dimesionality reduction by PCA, there is some loss of information, which resulted in a reduction of the train and test accuracies. So now we have a more genralized model compared to before as we are not considering the components which are not contributing to that much variance (can be considered as noise)."
   ]
  },
  {
   "cell_type": "markdown",
   "metadata": {},
   "source": [
    "# Deep Learning Models"
   ]
  },
  {
   "cell_type": "markdown",
   "metadata": {},
   "source": [
    "## 1. Perceptron"
   ]
  },
  {
   "cell_type": "code",
   "execution_count": 87,
   "metadata": {},
   "outputs": [],
   "source": [
    "import tensorflow as tf\n",
    "from tensorflow.keras import Sequential\n",
    "from tensorflow.keras.layers import Dense"
   ]
  },
  {
   "cell_type": "code",
   "execution_count": 95,
   "metadata": {},
   "outputs": [],
   "source": [
    "#1: build model\n",
    "mod1 = Sequential()\n",
    "#input layer\n",
    "mod1.add(Dense(38, input_dim = 38, activation = 'relu'))\n",
    "#hidden layers\n",
    "mod1.add(Dense(50, activation = 'relu'))\n",
    "#output layer\n",
    "mod1.add(Dense(1, activation = 'sigmoid'))"
   ]
  },
  {
   "cell_type": "code",
   "execution_count": 96,
   "metadata": {},
   "outputs": [],
   "source": [
    "#2: make computational graph :compile\n",
    "mod1.compile(loss= 'binary_crossentropy' , optimizer = 'adam',metrics = ['accuracy'] )"
   ]
  },
  {
   "cell_type": "code",
   "execution_count": 97,
   "metadata": {},
   "outputs": [
    {
     "data": {
      "text/plain": [
       "(4515, 38)"
      ]
     },
     "execution_count": 97,
     "metadata": {},
     "output_type": "execute_result"
    }
   ],
   "source": [
    "X_train.shape"
   ]
  },
  {
   "cell_type": "code",
   "execution_count": 101,
   "metadata": {},
   "outputs": [
    {
     "name": "stdout",
     "output_type": "stream",
     "text": [
      "Epoch 1/200\n",
      "16/16 [==============================] - 0s 3ms/step - loss: 2.3290e-10 - accuracy: 1.0000\n",
      "Epoch 2/200\n",
      "16/16 [==============================] - 0s 3ms/step - loss: 2.3325e-10 - accuracy: 1.0000\n",
      "Epoch 3/200\n",
      "16/16 [==============================] - 0s 3ms/step - loss: 2.3362e-10 - accuracy: 1.0000\n",
      "Epoch 4/200\n",
      "16/16 [==============================] - 0s 2ms/step - loss: 2.3394e-10 - accuracy: 1.0000\n",
      "Epoch 5/200\n",
      "16/16 [==============================] - 0s 3ms/step - loss: 2.3425e-10 - accuracy: 1.0000\n",
      "Epoch 6/200\n",
      "16/16 [==============================] - 0s 3ms/step - loss: 2.3466e-10 - accuracy: 1.0000\n",
      "Epoch 7/200\n",
      "16/16 [==============================] - 0s 3ms/step - loss: 2.3500e-10 - accuracy: 1.0000\n",
      "Epoch 8/200\n",
      "16/16 [==============================] - 0s 3ms/step - loss: 2.3536e-10 - accuracy: 1.0000\n",
      "Epoch 9/200\n",
      "16/16 [==============================] - 0s 2ms/step - loss: 2.3573e-10 - accuracy: 1.0000\n",
      "Epoch 10/200\n",
      "16/16 [==============================] - 0s 3ms/step - loss: 2.3615e-10 - accuracy: 1.0000\n",
      "Epoch 11/200\n",
      "16/16 [==============================] - 0s 3ms/step - loss: 2.3648e-10 - accuracy: 1.0000\n",
      "Epoch 12/200\n",
      "16/16 [==============================] - 0s 3ms/step - loss: 2.3682e-10 - accuracy: 1.0000\n",
      "Epoch 13/200\n",
      "16/16 [==============================] - 0s 3ms/step - loss: 2.3716e-10 - accuracy: 1.0000\n",
      "Epoch 14/200\n",
      "16/16 [==============================] - 0s 3ms/step - loss: 2.3750e-10 - accuracy: 1.0000\n",
      "Epoch 15/200\n",
      "16/16 [==============================] - 0s 3ms/step - loss: 2.3783e-10 - accuracy: 1.0000\n",
      "Epoch 16/200\n",
      "16/16 [==============================] - 0s 3ms/step - loss: 2.3819e-10 - accuracy: 1.0000\n",
      "Epoch 17/200\n",
      "16/16 [==============================] - 0s 3ms/step - loss: 2.3855e-10 - accuracy: 1.0000\n",
      "Epoch 18/200\n",
      "16/16 [==============================] - 0s 3ms/step - loss: 2.3893e-10 - accuracy: 1.0000\n",
      "Epoch 19/200\n",
      "16/16 [==============================] - 0s 4ms/step - loss: 2.3926e-10 - accuracy: 1.0000\n",
      "Epoch 20/200\n",
      "16/16 [==============================] - 0s 3ms/step - loss: 2.3960e-10 - accuracy: 1.0000\n",
      "Epoch 21/200\n",
      "16/16 [==============================] - 0s 3ms/step - loss: 2.3998e-10 - accuracy: 1.0000\n",
      "Epoch 22/200\n",
      "16/16 [==============================] - 0s 3ms/step - loss: 2.4031e-10 - accuracy: 1.0000\n",
      "Epoch 23/200\n",
      "16/16 [==============================] - 0s 3ms/step - loss: 2.4072e-10 - accuracy: 1.0000\n",
      "Epoch 24/200\n",
      "16/16 [==============================] - 0s 3ms/step - loss: 2.4104e-10 - accuracy: 1.0000\n",
      "Epoch 25/200\n",
      "16/16 [==============================] - 0s 3ms/step - loss: 2.4137e-10 - accuracy: 1.0000\n",
      "Epoch 26/200\n",
      "16/16 [==============================] - 0s 3ms/step - loss: 2.4174e-10 - accuracy: 1.0000\n",
      "Epoch 27/200\n",
      "16/16 [==============================] - 0s 3ms/step - loss: 2.4209e-10 - accuracy: 1.0000\n",
      "Epoch 28/200\n",
      "16/16 [==============================] - 0s 3ms/step - loss: 2.4247e-10 - accuracy: 1.0000\n",
      "Epoch 29/200\n",
      "16/16 [==============================] - 0s 3ms/step - loss: 2.4282e-10 - accuracy: 1.0000\n",
      "Epoch 30/200\n",
      "16/16 [==============================] - 0s 4ms/step - loss: 2.4320e-10 - accuracy: 1.0000\n",
      "Epoch 31/200\n",
      "16/16 [==============================] - 0s 3ms/step - loss: 2.4357e-10 - accuracy: 1.0000\n",
      "Epoch 32/200\n",
      "16/16 [==============================] - 0s 3ms/step - loss: 2.4387e-10 - accuracy: 1.0000\n",
      "Epoch 33/200\n",
      "16/16 [==============================] - 0s 3ms/step - loss: 2.4429e-10 - accuracy: 1.0000\n",
      "Epoch 34/200\n",
      "16/16 [==============================] - 0s 3ms/step - loss: 2.4465e-10 - accuracy: 1.0000\n",
      "Epoch 35/200\n",
      "16/16 [==============================] - 0s 3ms/step - loss: 2.4505e-10 - accuracy: 1.0000\n",
      "Epoch 36/200\n",
      "16/16 [==============================] - 0s 4ms/step - loss: 2.4541e-10 - accuracy: 1.0000\n",
      "Epoch 37/200\n",
      "16/16 [==============================] - 0s 3ms/step - loss: 2.4576e-10 - accuracy: 1.0000\n",
      "Epoch 38/200\n",
      "16/16 [==============================] - 0s 3ms/step - loss: 2.4612e-10 - accuracy: 1.0000\n",
      "Epoch 39/200\n",
      "16/16 [==============================] - 0s 3ms/step - loss: 2.4643e-10 - accuracy: 1.0000\n",
      "Epoch 40/200\n",
      "16/16 [==============================] - 0s 2ms/step - loss: 2.4685e-10 - accuracy: 1.0000\n",
      "Epoch 41/200\n",
      "16/16 [==============================] - 0s 3ms/step - loss: 2.4714e-10 - accuracy: 1.0000\n",
      "Epoch 42/200\n",
      "16/16 [==============================] - 0s 3ms/step - loss: 2.4745e-10 - accuracy: 1.0000\n",
      "Epoch 43/200\n",
      "16/16 [==============================] - 0s 3ms/step - loss: 2.4780e-10 - accuracy: 1.0000\n",
      "Epoch 44/200\n",
      "16/16 [==============================] - 0s 3ms/step - loss: 2.4816e-10 - accuracy: 1.0000\n",
      "Epoch 45/200\n",
      "16/16 [==============================] - 0s 3ms/step - loss: 2.4851e-10 - accuracy: 1.0000\n",
      "Epoch 46/200\n",
      "16/16 [==============================] - 0s 3ms/step - loss: 2.4893e-10 - accuracy: 1.0000\n",
      "Epoch 47/200\n",
      "16/16 [==============================] - 0s 3ms/step - loss: 2.4936e-10 - accuracy: 1.0000\n",
      "Epoch 48/200\n",
      "16/16 [==============================] - 0s 3ms/step - loss: 2.4974e-10 - accuracy: 1.0000\n",
      "Epoch 49/200\n",
      "16/16 [==============================] - 0s 3ms/step - loss: 2.5004e-10 - accuracy: 1.0000\n",
      "Epoch 50/200\n",
      "16/16 [==============================] - 0s 4ms/step - loss: 2.5036e-10 - accuracy: 1.0000\n",
      "Epoch 51/200\n",
      "16/16 [==============================] - 0s 3ms/step - loss: 2.5098e-10 - accuracy: 1.0000\n",
      "Epoch 52/200\n",
      "16/16 [==============================] - 0s 3ms/step - loss: 2.5147e-10 - accuracy: 1.0000\n",
      "Epoch 53/200\n",
      "16/16 [==============================] - 0s 3ms/step - loss: 2.5190e-10 - accuracy: 1.0000\n",
      "Epoch 54/200\n",
      "16/16 [==============================] - 0s 3ms/step - loss: 2.5226e-10 - accuracy: 1.0000\n",
      "Epoch 55/200\n",
      "16/16 [==============================] - 0s 3ms/step - loss: 2.5262e-10 - accuracy: 1.0000\n",
      "Epoch 56/200\n",
      "16/16 [==============================] - 0s 3ms/step - loss: 2.5298e-10 - accuracy: 1.0000\n",
      "Epoch 57/200\n",
      "16/16 [==============================] - 0s 3ms/step - loss: 2.5329e-10 - accuracy: 1.0000\n",
      "Epoch 58/200\n",
      "16/16 [==============================] - 0s 3ms/step - loss: 2.5362e-10 - accuracy: 1.0000\n",
      "Epoch 59/200\n",
      "16/16 [==============================] - 0s 3ms/step - loss: 2.5399e-10 - accuracy: 1.0000\n",
      "Epoch 60/200\n",
      "16/16 [==============================] - 0s 3ms/step - loss: 2.5436e-10 - accuracy: 1.0000\n",
      "Epoch 61/200\n",
      "16/16 [==============================] - 0s 3ms/step - loss: 2.5471e-10 - accuracy: 1.0000\n",
      "Epoch 62/200\n",
      "16/16 [==============================] - 0s 4ms/step - loss: 2.5502e-10 - accuracy: 1.0000\n",
      "Epoch 63/200\n",
      "16/16 [==============================] - 0s 3ms/step - loss: 2.5536e-10 - accuracy: 1.0000\n",
      "Epoch 64/200\n",
      "16/16 [==============================] - 0s 3ms/step - loss: 2.5571e-10 - accuracy: 1.0000\n",
      "Epoch 65/200\n",
      "16/16 [==============================] - 0s 3ms/step - loss: 2.5605e-10 - accuracy: 1.0000\n",
      "Epoch 66/200\n",
      "16/16 [==============================] - 0s 3ms/step - loss: 2.5643e-10 - accuracy: 1.0000\n",
      "Epoch 67/200\n",
      "16/16 [==============================] - 0s 3ms/step - loss: 2.5674e-10 - accuracy: 1.0000\n",
      "Epoch 68/200\n",
      "16/16 [==============================] - 0s 3ms/step - loss: 2.5712e-10 - accuracy: 1.0000\n",
      "Epoch 69/200\n",
      "16/16 [==============================] - 0s 3ms/step - loss: 2.5745e-10 - accuracy: 1.0000\n",
      "Epoch 70/200\n",
      "16/16 [==============================] - 0s 3ms/step - loss: 2.5780e-10 - accuracy: 1.0000\n",
      "Epoch 71/200\n",
      "16/16 [==============================] - 0s 4ms/step - loss: 2.5816e-10 - accuracy: 1.0000\n",
      "Epoch 72/200\n",
      "16/16 [==============================] - 0s 3ms/step - loss: 2.5852e-10 - accuracy: 1.0000\n",
      "Epoch 73/200\n",
      "16/16 [==============================] - 0s 2ms/step - loss: 2.5887e-10 - accuracy: 1.0000\n",
      "Epoch 74/200\n",
      "16/16 [==============================] - 0s 3ms/step - loss: 2.5917e-10 - accuracy: 1.0000\n",
      "Epoch 75/200\n",
      "16/16 [==============================] - 0s 3ms/step - loss: 2.5948e-10 - accuracy: 1.0000\n",
      "Epoch 76/200\n",
      "16/16 [==============================] - 0s 3ms/step - loss: 2.5988e-10 - accuracy: 1.0000\n",
      "Epoch 77/200\n",
      "16/16 [==============================] - 0s 3ms/step - loss: 2.6027e-10 - accuracy: 1.0000\n",
      "Epoch 78/200\n",
      "16/16 [==============================] - 0s 2ms/step - loss: 2.6056e-10 - accuracy: 1.0000\n",
      "Epoch 79/200\n"
     ]
    },
    {
     "name": "stdout",
     "output_type": "stream",
     "text": [
      "16/16 [==============================] - 0s 3ms/step - loss: 2.6088e-10 - accuracy: 1.0000\n",
      "Epoch 80/200\n",
      "16/16 [==============================] - 0s 3ms/step - loss: 2.6136e-10 - accuracy: 1.0000\n",
      "Epoch 81/200\n",
      "16/16 [==============================] - 0s 3ms/step - loss: 2.6170e-10 - accuracy: 1.0000\n",
      "Epoch 82/200\n",
      "16/16 [==============================] - 0s 3ms/step - loss: 2.6203e-10 - accuracy: 1.0000\n",
      "Epoch 83/200\n",
      "16/16 [==============================] - 0s 3ms/step - loss: 2.6249e-10 - accuracy: 1.0000\n",
      "Epoch 84/200\n",
      "16/16 [==============================] - 0s 2ms/step - loss: 2.6295e-10 - accuracy: 1.0000\n",
      "Epoch 85/200\n",
      "16/16 [==============================] - 0s 3ms/step - loss: 2.6349e-10 - accuracy: 1.0000\n",
      "Epoch 86/200\n",
      "16/16 [==============================] - 0s 3ms/step - loss: 2.6399e-10 - accuracy: 1.0000\n",
      "Epoch 87/200\n",
      "16/16 [==============================] - 0s 3ms/step - loss: 2.6434e-10 - accuracy: 1.0000\n",
      "Epoch 88/200\n",
      "16/16 [==============================] - 0s 3ms/step - loss: 2.6470e-10 - accuracy: 1.0000\n",
      "Epoch 89/200\n",
      "16/16 [==============================] - 0s 2ms/step - loss: 2.6505e-10 - accuracy: 1.0000\n",
      "Epoch 90/200\n",
      "16/16 [==============================] - 0s 2ms/step - loss: 2.6496e-10 - accuracy: 1.0000\n",
      "Epoch 91/200\n",
      "16/16 [==============================] - 0s 3ms/step - loss: 2.6514e-10 - accuracy: 1.0000\n",
      "Epoch 92/200\n",
      "16/16 [==============================] - ETA: 0s - loss: 2.4329e-10 - accuracy: 1.00 - 0s 2ms/step - loss: 2.6542e-10 - accuracy: 1.0000\n",
      "Epoch 93/200\n",
      "16/16 [==============================] - 0s 2ms/step - loss: 2.6577e-10 - accuracy: 1.0000\n",
      "Epoch 94/200\n",
      "16/16 [==============================] - 0s 3ms/step - loss: 2.6612e-10 - accuracy: 1.0000\n",
      "Epoch 95/200\n",
      "16/16 [==============================] - 0s 3ms/step - loss: 2.6646e-10 - accuracy: 1.0000\n",
      "Epoch 96/200\n",
      "16/16 [==============================] - 0s 3ms/step - loss: 2.6686e-10 - accuracy: 1.0000\n",
      "Epoch 97/200\n",
      "16/16 [==============================] - 0s 3ms/step - loss: 2.6714e-10 - accuracy: 1.0000\n",
      "Epoch 98/200\n",
      "16/16 [==============================] - 0s 3ms/step - loss: 2.6820e-10 - accuracy: 1.0000\n",
      "Epoch 99/200\n",
      "16/16 [==============================] - 0s 3ms/step - loss: 2.6899e-10 - accuracy: 1.0000\n",
      "Epoch 100/200\n",
      "16/16 [==============================] - 0s 3ms/step - loss: 2.6950e-10 - accuracy: 1.0000\n",
      "Epoch 101/200\n",
      "16/16 [==============================] - 0s 3ms/step - loss: 2.6988e-10 - accuracy: 1.0000\n",
      "Epoch 102/200\n",
      "16/16 [==============================] - 0s 3ms/step - loss: 2.7020e-10 - accuracy: 1.0000\n",
      "Epoch 103/200\n",
      "16/16 [==============================] - 0s 3ms/step - loss: 2.7053e-10 - accuracy: 1.0000\n",
      "Epoch 104/200\n",
      "16/16 [==============================] - 0s 3ms/step - loss: 2.7085e-10 - accuracy: 1.0000\n",
      "Epoch 105/200\n",
      "16/16 [==============================] - 0s 3ms/step - loss: 2.7118e-10 - accuracy: 1.0000\n",
      "Epoch 106/200\n",
      "16/16 [==============================] - 0s 3ms/step - loss: 2.7157e-10 - accuracy: 1.0000\n",
      "Epoch 107/200\n",
      "16/16 [==============================] - 0s 3ms/step - loss: 2.7189e-10 - accuracy: 1.0000\n",
      "Epoch 108/200\n",
      "16/16 [==============================] - 0s 2ms/step - loss: 2.7178e-10 - accuracy: 1.0000\n",
      "Epoch 109/200\n",
      "16/16 [==============================] - 0s 2ms/step - loss: 2.7191e-10 - accuracy: 1.0000\n",
      "Epoch 110/200\n",
      "16/16 [==============================] - 0s 3ms/step - loss: 2.7219e-10 - accuracy: 1.0000\n",
      "Epoch 111/200\n",
      "16/16 [==============================] - 0s 3ms/step - loss: 2.7255e-10 - accuracy: 1.0000\n",
      "Epoch 112/200\n",
      "16/16 [==============================] - 0s 3ms/step - loss: 2.7287e-10 - accuracy: 1.0000\n",
      "Epoch 113/200\n",
      "16/16 [==============================] - 0s 2ms/step - loss: 2.7324e-10 - accuracy: 1.0000\n",
      "Epoch 114/200\n",
      "16/16 [==============================] - 0s 3ms/step - loss: 2.7319e-10 - accuracy: 1.0000\n",
      "Epoch 115/200\n",
      "16/16 [==============================] - 0s 3ms/step - loss: 2.7338e-10 - accuracy: 1.0000\n",
      "Epoch 116/200\n",
      "16/16 [==============================] - 0s 3ms/step - loss: 2.7365e-10 - accuracy: 1.0000\n",
      "Epoch 117/200\n",
      "16/16 [==============================] - 0s 3ms/step - loss: 2.7395e-10 - accuracy: 1.0000\n",
      "Epoch 118/200\n",
      "16/16 [==============================] - 0s 3ms/step - loss: 2.7431e-10 - accuracy: 1.0000\n",
      "Epoch 119/200\n",
      "16/16 [==============================] - 0s 3ms/step - loss: 2.7468e-10 - accuracy: 1.0000\n",
      "Epoch 120/200\n",
      "16/16 [==============================] - 0s 3ms/step - loss: 2.7467e-10 - accuracy: 1.0000\n",
      "Epoch 121/200\n",
      "16/16 [==============================] - 0s 4ms/step - loss: 2.7495e-10 - accuracy: 1.0000\n",
      "Epoch 122/200\n",
      "16/16 [==============================] - 0s 3ms/step - loss: 2.7526e-10 - accuracy: 1.0000\n",
      "Epoch 123/200\n",
      "16/16 [==============================] - 0s 3ms/step - loss: 2.7558e-10 - accuracy: 1.0000\n",
      "Epoch 124/200\n",
      "16/16 [==============================] - 0s 3ms/step - loss: 2.7585e-10 - accuracy: 1.0000\n",
      "Epoch 125/200\n",
      "16/16 [==============================] - 0s 3ms/step - loss: 2.7579e-10 - accuracy: 1.0000\n",
      "Epoch 126/200\n",
      "16/16 [==============================] - 0s 3ms/step - loss: 2.7611e-10 - accuracy: 1.0000\n",
      "Epoch 127/200\n",
      "16/16 [==============================] - 0s 3ms/step - loss: 2.7658e-10 - accuracy: 1.0000\n",
      "Epoch 128/200\n",
      "16/16 [==============================] - 0s 3ms/step - loss: 2.7693e-10 - accuracy: 1.0000\n",
      "Epoch 129/200\n",
      "16/16 [==============================] - 0s 3ms/step - loss: 2.7722e-10 - accuracy: 1.0000\n",
      "Epoch 130/200\n",
      "16/16 [==============================] - 0s 3ms/step - loss: 2.7710e-10 - accuracy: 1.0000\n",
      "Epoch 131/200\n",
      "16/16 [==============================] - 0s 3ms/step - loss: 2.7732e-10 - accuracy: 1.0000\n",
      "Epoch 132/200\n",
      "16/16 [==============================] - 0s 3ms/step - loss: 2.7764e-10 - accuracy: 1.0000\n",
      "Epoch 133/200\n",
      "16/16 [==============================] - 0s 3ms/step - loss: 2.7752e-10 - accuracy: 1.0000\n",
      "Epoch 134/200\n",
      "16/16 [==============================] - 0s 2ms/step - loss: 2.7765e-10 - accuracy: 1.0000\n",
      "Epoch 135/200\n",
      "16/16 [==============================] - 0s 2ms/step - loss: 2.7795e-10 - accuracy: 1.0000\n",
      "Epoch 136/200\n",
      "16/16 [==============================] - 0s 3ms/step - loss: 2.7828e-10 - accuracy: 1.0000\n",
      "Epoch 137/200\n",
      "16/16 [==============================] - 0s 3ms/step - loss: 2.7838e-10 - accuracy: 1.0000\n",
      "Epoch 138/200\n",
      "16/16 [==============================] - 0s 3ms/step - loss: 2.7842e-10 - accuracy: 1.0000\n",
      "Epoch 139/200\n",
      "16/16 [==============================] - 0s 2ms/step - loss: 2.7871e-10 - accuracy: 1.0000\n",
      "Epoch 140/200\n",
      "16/16 [==============================] - 0s 3ms/step - loss: 2.7920e-10 - accuracy: 1.0000\n",
      "Epoch 141/200\n",
      "16/16 [==============================] - 0s 3ms/step - loss: 2.7964e-10 - accuracy: 1.0000\n",
      "Epoch 142/200\n",
      "16/16 [==============================] - 0s 3ms/step - loss: 2.7963e-10 - accuracy: 1.0000\n",
      "Epoch 143/200\n",
      "16/16 [==============================] - 0s 3ms/step - loss: 2.7976e-10 - accuracy: 1.0000\n",
      "Epoch 144/200\n",
      "16/16 [==============================] - 0s 3ms/step - loss: 2.8002e-10 - accuracy: 1.0000\n",
      "Epoch 145/200\n",
      "16/16 [==============================] - 0s 3ms/step - loss: 2.8030e-10 - accuracy: 1.0000\n",
      "Epoch 146/200\n",
      "16/16 [==============================] - 0s 3ms/step - loss: 2.8069e-10 - accuracy: 1.0000\n",
      "Epoch 147/200\n",
      "16/16 [==============================] - 0s 3ms/step - loss: 2.8105e-10 - accuracy: 1.0000\n",
      "Epoch 148/200\n",
      "16/16 [==============================] - 0s 3ms/step - loss: 2.8102e-10 - accuracy: 1.0000\n",
      "Epoch 149/200\n",
      "16/16 [==============================] - 0s 3ms/step - loss: 2.8108e-10 - accuracy: 1.0000\n",
      "Epoch 150/200\n",
      "16/16 [==============================] - 0s 3ms/step - loss: 2.8139e-10 - accuracy: 1.0000\n",
      "Epoch 151/200\n",
      "16/16 [==============================] - 0s 3ms/step - loss: 2.8173e-10 - accuracy: 1.0000\n",
      "Epoch 152/200\n",
      "16/16 [==============================] - 0s 3ms/step - loss: 2.8209e-10 - accuracy: 1.0000\n",
      "Epoch 153/200\n",
      "16/16 [==============================] - 0s 3ms/step - loss: 2.8243e-10 - accuracy: 1.0000\n",
      "Epoch 154/200\n",
      "16/16 [==============================] - 0s 2ms/step - loss: 2.8259e-10 - accuracy: 1.0000\n",
      "Epoch 155/200\n",
      "16/16 [==============================] - 0s 3ms/step - loss: 2.8254e-10 - accuracy: 1.0000\n",
      "Epoch 156/200\n"
     ]
    },
    {
     "name": "stdout",
     "output_type": "stream",
     "text": [
      "16/16 [==============================] - 0s 3ms/step - loss: 2.8235e-10 - accuracy: 1.0000\n",
      "Epoch 157/200\n",
      "16/16 [==============================] - 0s 3ms/step - loss: 2.8243e-10 - accuracy: 1.0000\n",
      "Epoch 158/200\n",
      "16/16 [==============================] - 0s 3ms/step - loss: 2.8275e-10 - accuracy: 1.0000\n",
      "Epoch 159/200\n",
      "16/16 [==============================] - 0s 3ms/step - loss: 2.8313e-10 - accuracy: 1.0000\n",
      "Epoch 160/200\n",
      "16/16 [==============================] - 0s 3ms/step - loss: 2.8340e-10 - accuracy: 1.0000\n",
      "Epoch 161/200\n",
      "16/16 [==============================] - 0s 2ms/step - loss: 2.8355e-10 - accuracy: 1.0000\n",
      "Epoch 162/200\n",
      "16/16 [==============================] - 0s 2ms/step - loss: 2.8351e-10 - accuracy: 1.0000\n",
      "Epoch 163/200\n",
      "16/16 [==============================] - 0s 2ms/step - loss: 2.8377e-10 - accuracy: 1.0000\n",
      "Epoch 164/200\n",
      "16/16 [==============================] - 0s 3ms/step - loss: 2.8410e-10 - accuracy: 1.0000\n",
      "Epoch 165/200\n",
      "16/16 [==============================] - 0s 3ms/step - loss: 2.8391e-10 - accuracy: 1.0000\n",
      "Epoch 166/200\n",
      "16/16 [==============================] - 0s 3ms/step - loss: 2.8407e-10 - accuracy: 1.0000\n",
      "Epoch 167/200\n",
      "16/16 [==============================] - 0s 3ms/step - loss: 2.8438e-10 - accuracy: 1.0000\n",
      "Epoch 168/200\n",
      "16/16 [==============================] - 0s 2ms/step - loss: 2.8470e-10 - accuracy: 1.0000\n",
      "Epoch 169/200\n",
      "16/16 [==============================] - 0s 3ms/step - loss: 2.8454e-10 - accuracy: 1.0000\n",
      "Epoch 170/200\n",
      "16/16 [==============================] - 0s 3ms/step - loss: 2.8466e-10 - accuracy: 1.0000\n",
      "Epoch 171/200\n",
      "16/16 [==============================] - 0s 3ms/step - loss: 2.8490e-10 - accuracy: 1.0000\n",
      "Epoch 172/200\n",
      "16/16 [==============================] - 0s 2ms/step - loss: 2.8529e-10 - accuracy: 1.0000\n",
      "Epoch 173/200\n",
      "16/16 [==============================] - 0s 3ms/step - loss: 2.8557e-10 - accuracy: 1.0000\n",
      "Epoch 174/200\n",
      "16/16 [==============================] - 0s 2ms/step - loss: 2.8537e-10 - accuracy: 1.0000\n",
      "Epoch 175/200\n",
      "16/16 [==============================] - 0s 3ms/step - loss: 2.8548e-10 - accuracy: 1.0000\n",
      "Epoch 176/200\n",
      "16/16 [==============================] - 0s 3ms/step - loss: 2.8582e-10 - accuracy: 1.0000\n",
      "Epoch 177/200\n",
      "16/16 [==============================] - 0s 3ms/step - loss: 2.8624e-10 - accuracy: 1.0000\n",
      "Epoch 178/200\n",
      "16/16 [==============================] - 0s 3ms/step - loss: 2.8618e-10 - accuracy: 1.0000\n",
      "Epoch 179/200\n",
      "16/16 [==============================] - 0s 2ms/step - loss: 2.8626e-10 - accuracy: 1.0000\n",
      "Epoch 180/200\n",
      "16/16 [==============================] - 0s 3ms/step - loss: 2.8651e-10 - accuracy: 1.0000\n",
      "Epoch 181/200\n",
      "16/16 [==============================] - 0s 3ms/step - loss: 2.8657e-10 - accuracy: 1.0000\n",
      "Epoch 182/200\n",
      "16/16 [==============================] - 0s 3ms/step - loss: 2.8597e-10 - accuracy: 1.0000\n",
      "Epoch 183/200\n",
      "16/16 [==============================] - 0s 3ms/step - loss: 2.8616e-10 - accuracy: 1.0000\n",
      "Epoch 184/200\n",
      "16/16 [==============================] - 0s 3ms/step - loss: 2.8643e-10 - accuracy: 1.0000\n",
      "Epoch 185/200\n",
      "16/16 [==============================] - 0s 2ms/step - loss: 2.8680e-10 - accuracy: 1.0000\n",
      "Epoch 186/200\n",
      "16/16 [==============================] - 0s 3ms/step - loss: 2.8718e-10 - accuracy: 1.0000\n",
      "Epoch 187/200\n",
      "16/16 [==============================] - 0s 3ms/step - loss: 2.8702e-10 - accuracy: 1.0000\n",
      "Epoch 188/200\n",
      "16/16 [==============================] - 0s 3ms/step - loss: 2.8727e-10 - accuracy: 1.0000\n",
      "Epoch 189/200\n",
      "16/16 [==============================] - 0s 3ms/step - loss: 2.8736e-10 - accuracy: 1.0000\n",
      "Epoch 190/200\n",
      "16/16 [==============================] - 0s 3ms/step - loss: 2.8719e-10 - accuracy: 1.0000\n",
      "Epoch 191/200\n",
      "16/16 [==============================] - 0s 3ms/step - loss: 2.8739e-10 - accuracy: 1.0000\n",
      "Epoch 192/200\n",
      "16/16 [==============================] - 0s 3ms/step - loss: 2.8768e-10 - accuracy: 1.0000\n",
      "Epoch 193/200\n",
      "16/16 [==============================] - 0s 2ms/step - loss: 2.8759e-10 - accuracy: 1.0000\n",
      "Epoch 194/200\n",
      "16/16 [==============================] - 0s 3ms/step - loss: 2.8775e-10 - accuracy: 1.0000\n",
      "Epoch 195/200\n",
      "16/16 [==============================] - 0s 3ms/step - loss: 2.8804e-10 - accuracy: 1.0000\n",
      "Epoch 196/200\n",
      "16/16 [==============================] - 0s 3ms/step - loss: 2.8832e-10 - accuracy: 1.0000\n",
      "Epoch 197/200\n",
      "16/16 [==============================] - 0s 3ms/step - loss: 2.8799e-10 - accuracy: 1.0000\n",
      "Epoch 198/200\n",
      "16/16 [==============================] - 0s 3ms/step - loss: 2.8815e-10 - accuracy: 1.0000\n",
      "Epoch 199/200\n",
      "16/16 [==============================] - 0s 3ms/step - loss: 2.8850e-10 - accuracy: 1.0000\n",
      "Epoch 200/200\n",
      "16/16 [==============================] - 0s 3ms/step - loss: 2.8871e-10 - accuracy: 1.0000\n"
     ]
    },
    {
     "data": {
      "text/plain": [
       "<tensorflow.python.keras.callbacks.History at 0x2beb2bc1b88>"
      ]
     },
     "execution_count": 101,
     "metadata": {},
     "output_type": "execute_result"
    }
   ],
   "source": [
    "#3: train the model: fit\n",
    "mod1.fit(X_train, y_train, epochs = 200, batch_size = 300)"
   ]
  },
  {
   "cell_type": "code",
   "execution_count": 102,
   "metadata": {},
   "outputs": [
    {
     "name": "stdout",
     "output_type": "stream",
     "text": [
      "36/36 [==============================] - 0s 1ms/step - loss: 0.0067 - accuracy: 0.9991\n",
      "Test Loss 0.00666241766884923\n",
      "Test Accuracy 0.9991142749786377\n"
     ]
    }
   ],
   "source": [
    "#4: evaluation\n",
    "loss_and_metrics = mod1.evaluate(X_test, y_test)\n",
    "print(\"Test Loss\", loss_and_metrics[0])\n",
    "print(\"Test Accuracy\", loss_and_metrics[1])"
   ]
  },
  {
   "cell_type": "markdown",
   "metadata": {},
   "source": [
    "## 2. MLP"
   ]
  },
  {
   "cell_type": "code",
   "execution_count": 103,
   "metadata": {},
   "outputs": [],
   "source": [
    "#1: build model\n",
    "mod2 = Sequential()\n",
    "#input layer\n",
    "mod2.add(Dense(38, input_dim = 38, activation = 'relu'))\n",
    "#hidden layers\n",
    "mod2.add(Dense(10, activation = 'relu'))\n",
    "mod2.add(Dense(5, activation = 'relu'))\n",
    "#output layer\n",
    "mod2.add(Dense(1, activation = 'sigmoid'))"
   ]
  },
  {
   "cell_type": "code",
   "execution_count": 104,
   "metadata": {},
   "outputs": [],
   "source": [
    "#2: compile the model\n",
    "mod2.compile(loss= 'binary_crossentropy' , optimizer = 'adam',metrics = ['accuracy'] )"
   ]
  },
  {
   "cell_type": "code",
   "execution_count": 105,
   "metadata": {},
   "outputs": [
    {
     "name": "stdout",
     "output_type": "stream",
     "text": [
      "Epoch 1/200\n",
      "16/16 [==============================] - 0s 2ms/step - loss: 0.6761 - accuracy: 0.7415\n",
      "Epoch 2/200\n",
      "16/16 [==============================] - 0s 2ms/step - loss: 0.6402 - accuracy: 0.8671\n",
      "Epoch 3/200\n",
      "16/16 [==============================] - 0s 2ms/step - loss: 0.5862 - accuracy: 0.8915\n",
      "Epoch 4/200\n",
      "16/16 [==============================] - 0s 2ms/step - loss: 0.5105 - accuracy: 0.9025\n",
      "Epoch 5/200\n",
      "16/16 [==============================] - 0s 2ms/step - loss: 0.4140 - accuracy: 0.9262\n",
      "Epoch 6/200\n",
      "16/16 [==============================] - 0s 2ms/step - loss: 0.3085 - accuracy: 0.9530\n",
      "Epoch 7/200\n",
      "16/16 [==============================] - 0s 2ms/step - loss: 0.2162 - accuracy: 0.9654\n",
      "Epoch 8/200\n",
      "16/16 [==============================] - 0s 2ms/step - loss: 0.1483 - accuracy: 0.9745\n",
      "Epoch 9/200\n",
      "16/16 [==============================] - 0s 2ms/step - loss: 0.1036 - accuracy: 0.9827\n",
      "Epoch 10/200\n",
      "16/16 [==============================] - 0s 2ms/step - loss: 0.0751 - accuracy: 0.9863\n",
      "Epoch 11/200\n",
      "16/16 [==============================] - 0s 2ms/step - loss: 0.0576 - accuracy: 0.9896\n",
      "Epoch 12/200\n",
      "16/16 [==============================] - 0s 2ms/step - loss: 0.0460 - accuracy: 0.9911\n",
      "Epoch 13/200\n",
      "16/16 [==============================] - 0s 2ms/step - loss: 0.0381 - accuracy: 0.9920\n",
      "Epoch 14/200\n",
      "16/16 [==============================] - 0s 2ms/step - loss: 0.0325 - accuracy: 0.9931\n",
      "Epoch 15/200\n",
      "16/16 [==============================] - 0s 2ms/step - loss: 0.0282 - accuracy: 0.9934\n",
      "Epoch 16/200\n",
      "16/16 [==============================] - 0s 2ms/step - loss: 0.0250 - accuracy: 0.9942\n",
      "Epoch 17/200\n",
      "16/16 [==============================] - 0s 2ms/step - loss: 0.0223 - accuracy: 0.9947\n",
      "Epoch 18/200\n",
      "16/16 [==============================] - 0s 2ms/step - loss: 0.0203 - accuracy: 0.9953\n",
      "Epoch 19/200\n",
      "16/16 [==============================] - 0s 2ms/step - loss: 0.0182 - accuracy: 0.9960\n",
      "Epoch 20/200\n",
      "16/16 [==============================] - 0s 2ms/step - loss: 0.0164 - accuracy: 0.9960\n",
      "Epoch 21/200\n",
      "16/16 [==============================] - ETA: 0s - loss: 0.0339 - accuracy: 0.99 - 0s 2ms/step - loss: 0.0149 - accuracy: 0.9965\n",
      "Epoch 22/200\n",
      "16/16 [==============================] - 0s 2ms/step - loss: 0.0141 - accuracy: 0.9962\n",
      "Epoch 23/200\n",
      "16/16 [==============================] - 0s 2ms/step - loss: 0.0125 - accuracy: 0.9978\n",
      "Epoch 24/200\n",
      "16/16 [==============================] - 0s 2ms/step - loss: 0.0114 - accuracy: 0.9978\n",
      "Epoch 25/200\n",
      "16/16 [==============================] - 0s 2ms/step - loss: 0.0102 - accuracy: 0.9980\n",
      "Epoch 26/200\n",
      "16/16 [==============================] - 0s 2ms/step - loss: 0.0094 - accuracy: 0.9980\n",
      "Epoch 27/200\n",
      "16/16 [==============================] - 0s 2ms/step - loss: 0.0085 - accuracy: 0.9980\n",
      "Epoch 28/200\n",
      "16/16 [==============================] - 0s 2ms/step - loss: 0.0077 - accuracy: 0.9987\n",
      "Epoch 29/200\n",
      "16/16 [==============================] - 0s 2ms/step - loss: 0.0069 - accuracy: 0.9989\n",
      "Epoch 30/200\n",
      "16/16 [==============================] - 0s 2ms/step - loss: 0.0063 - accuracy: 0.9989\n",
      "Epoch 31/200\n",
      "16/16 [==============================] - 0s 2ms/step - loss: 0.0058 - accuracy: 0.9989\n",
      "Epoch 32/200\n",
      "16/16 [==============================] - 0s 2ms/step - loss: 0.0053 - accuracy: 0.9993\n",
      "Epoch 33/200\n",
      "16/16 [==============================] - 0s 2ms/step - loss: 0.0048 - accuracy: 0.9993\n",
      "Epoch 34/200\n",
      "16/16 [==============================] - 0s 2ms/step - loss: 0.0045 - accuracy: 0.9996\n",
      "Epoch 35/200\n",
      "16/16 [==============================] - 0s 2ms/step - loss: 0.0041 - accuracy: 1.0000\n",
      "Epoch 36/200\n",
      "16/16 [==============================] - 0s 2ms/step - loss: 0.0038 - accuracy: 0.9998\n",
      "Epoch 37/200\n",
      "16/16 [==============================] - 0s 2ms/step - loss: 0.0035 - accuracy: 1.0000\n",
      "Epoch 38/200\n",
      "16/16 [==============================] - 0s 2ms/step - loss: 0.0032 - accuracy: 1.0000\n",
      "Epoch 39/200\n",
      "16/16 [==============================] - 0s 3ms/step - loss: 0.0030 - accuracy: 1.0000\n",
      "Epoch 40/200\n",
      "16/16 [==============================] - 0s 2ms/step - loss: 0.0028 - accuracy: 1.0000\n",
      "Epoch 41/200\n",
      "16/16 [==============================] - 0s 2ms/step - loss: 0.0026 - accuracy: 1.0000\n",
      "Epoch 42/200\n",
      "16/16 [==============================] - 0s 2ms/step - loss: 0.0024 - accuracy: 1.0000\n",
      "Epoch 43/200\n",
      "16/16 [==============================] - 0s 2ms/step - loss: 0.0023 - accuracy: 1.0000\n",
      "Epoch 44/200\n",
      "16/16 [==============================] - 0s 2ms/step - loss: 0.0021 - accuracy: 1.0000\n",
      "Epoch 45/200\n",
      "16/16 [==============================] - 0s 3ms/step - loss: 0.0021 - accuracy: 1.0000\n",
      "Epoch 46/200\n",
      "16/16 [==============================] - 0s 3ms/step - loss: 0.0020 - accuracy: 1.0000\n",
      "Epoch 47/200\n",
      "16/16 [==============================] - 0s 2ms/step - loss: 0.0018 - accuracy: 1.0000\n",
      "Epoch 48/200\n",
      "16/16 [==============================] - 0s 2ms/step - loss: 0.0017 - accuracy: 1.0000\n",
      "Epoch 49/200\n",
      "16/16 [==============================] - 0s 2ms/step - loss: 0.0016 - accuracy: 1.0000\n",
      "Epoch 50/200\n",
      "16/16 [==============================] - 0s 2ms/step - loss: 0.0015 - accuracy: 1.0000\n",
      "Epoch 51/200\n",
      "16/16 [==============================] - 0s 2ms/step - loss: 0.0015 - accuracy: 0.9998\n",
      "Epoch 52/200\n",
      "16/16 [==============================] - 0s 2ms/step - loss: 0.0014 - accuracy: 1.0000\n",
      "Epoch 53/200\n",
      "16/16 [==============================] - 0s 2ms/step - loss: 0.0013 - accuracy: 1.0000\n",
      "Epoch 54/200\n",
      "16/16 [==============================] - 0s 2ms/step - loss: 0.0012 - accuracy: 1.0000\n",
      "Epoch 55/200\n",
      "16/16 [==============================] - 0s 2ms/step - loss: 0.0011 - accuracy: 1.0000\n",
      "Epoch 56/200\n",
      "16/16 [==============================] - 0s 2ms/step - loss: 0.0011 - accuracy: 1.0000\n",
      "Epoch 57/200\n",
      "16/16 [==============================] - 0s 2ms/step - loss: 0.0010 - accuracy: 1.0000\n",
      "Epoch 58/200\n",
      "16/16 [==============================] - 0s 2ms/step - loss: 9.6188e-04 - accuracy: 1.0000\n",
      "Epoch 59/200\n",
      "16/16 [==============================] - 0s 2ms/step - loss: 9.2435e-04 - accuracy: 1.0000\n",
      "Epoch 60/200\n",
      "16/16 [==============================] - 0s 2ms/step - loss: 8.7371e-04 - accuracy: 1.0000\n",
      "Epoch 61/200\n",
      "16/16 [==============================] - 0s 2ms/step - loss: 8.5801e-04 - accuracy: 1.0000\n",
      "Epoch 62/200\n",
      "16/16 [==============================] - 0s 2ms/step - loss: 8.0371e-04 - accuracy: 1.0000\n",
      "Epoch 63/200\n",
      "16/16 [==============================] - 0s 2ms/step - loss: 7.6807e-04 - accuracy: 1.0000\n",
      "Epoch 64/200\n",
      "16/16 [==============================] - 0s 2ms/step - loss: 7.3382e-04 - accuracy: 1.0000\n",
      "Epoch 65/200\n",
      "16/16 [==============================] - 0s 2ms/step - loss: 7.0475e-04 - accuracy: 1.0000\n",
      "Epoch 66/200\n",
      "16/16 [==============================] - 0s 2ms/step - loss: 6.7483e-04 - accuracy: 1.0000\n",
      "Epoch 67/200\n",
      "16/16 [==============================] - 0s 2ms/step - loss: 6.4736e-04 - accuracy: 1.0000\n",
      "Epoch 68/200\n",
      "16/16 [==============================] - 0s 2ms/step - loss: 6.2923e-04 - accuracy: 1.0000\n",
      "Epoch 69/200\n",
      "16/16 [==============================] - 0s 2ms/step - loss: 6.0040e-04 - accuracy: 1.0000\n",
      "Epoch 70/200\n",
      "16/16 [==============================] - 0s 2ms/step - loss: 5.7676e-04 - accuracy: 1.0000\n",
      "Epoch 71/200\n",
      "16/16 [==============================] - 0s 2ms/step - loss: 5.5662e-04 - accuracy: 1.0000\n",
      "Epoch 72/200\n",
      "16/16 [==============================] - 0s 2ms/step - loss: 5.3585e-04 - accuracy: 1.0000\n",
      "Epoch 73/200\n",
      "16/16 [==============================] - 0s 2ms/step - loss: 5.1916e-04 - accuracy: 1.0000\n",
      "Epoch 74/200\n",
      "16/16 [==============================] - 0s 2ms/step - loss: 4.9964e-04 - accuracy: 1.0000\n",
      "Epoch 75/200\n",
      "16/16 [==============================] - 0s 2ms/step - loss: 4.8380e-04 - accuracy: 1.0000\n",
      "Epoch 76/200\n",
      "16/16 [==============================] - 0s 2ms/step - loss: 4.6850e-04 - accuracy: 1.0000\n",
      "Epoch 77/200\n",
      "16/16 [==============================] - 0s 2ms/step - loss: 4.5079e-04 - accuracy: 1.0000\n",
      "Epoch 78/200\n",
      "16/16 [==============================] - 0s 2ms/step - loss: 4.3595e-04 - accuracy: 1.0000\n",
      "Epoch 79/200\n",
      "16/16 [==============================] - 0s 2ms/step - loss: 4.2107e-04 - accuracy: 1.0000\n",
      "Epoch 80/200\n",
      "16/16 [==============================] - 0s 2ms/step - loss: 4.0688e-04 - accuracy: 1.0000\n",
      "Epoch 81/200\n"
     ]
    },
    {
     "name": "stdout",
     "output_type": "stream",
     "text": [
      "16/16 [==============================] - 0s 2ms/step - loss: 3.9394e-04 - accuracy: 1.0000\n",
      "Epoch 82/200\n",
      "16/16 [==============================] - 0s 2ms/step - loss: 3.8246e-04 - accuracy: 1.0000\n",
      "Epoch 83/200\n",
      "16/16 [==============================] - 0s 2ms/step - loss: 3.7013e-04 - accuracy: 1.0000\n",
      "Epoch 84/200\n",
      "16/16 [==============================] - 0s 2ms/step - loss: 3.5682e-04 - accuracy: 1.0000\n",
      "Epoch 85/200\n",
      "16/16 [==============================] - 0s 2ms/step - loss: 3.4798e-04 - accuracy: 1.0000\n",
      "Epoch 86/200\n",
      "16/16 [==============================] - 0s 1ms/step - loss: 3.3669e-04 - accuracy: 1.0000\n",
      "Epoch 87/200\n",
      "16/16 [==============================] - 0s 2ms/step - loss: 3.2704e-04 - accuracy: 1.0000\n",
      "Epoch 88/200\n",
      "16/16 [==============================] - 0s 2ms/step - loss: 3.1770e-04 - accuracy: 1.0000\n",
      "Epoch 89/200\n",
      "16/16 [==============================] - 0s 2ms/step - loss: 3.0895e-04 - accuracy: 1.0000\n",
      "Epoch 90/200\n",
      "16/16 [==============================] - 0s 2ms/step - loss: 3.0224e-04 - accuracy: 1.0000\n",
      "Epoch 91/200\n",
      "16/16 [==============================] - 0s 2ms/step - loss: 2.9157e-04 - accuracy: 1.0000\n",
      "Epoch 92/200\n",
      "16/16 [==============================] - 0s 2ms/step - loss: 2.8209e-04 - accuracy: 1.0000\n",
      "Epoch 93/200\n",
      "16/16 [==============================] - 0s 2ms/step - loss: 2.7334e-04 - accuracy: 1.0000\n",
      "Epoch 94/200\n",
      "16/16 [==============================] - 0s 2ms/step - loss: 2.6671e-04 - accuracy: 1.0000\n",
      "Epoch 95/200\n",
      "16/16 [==============================] - 0s 2ms/step - loss: 2.5838e-04 - accuracy: 1.0000\n",
      "Epoch 96/200\n",
      "16/16 [==============================] - 0s 2ms/step - loss: 2.5198e-04 - accuracy: 1.0000\n",
      "Epoch 97/200\n",
      "16/16 [==============================] - 0s 2ms/step - loss: 2.4429e-04 - accuracy: 1.0000\n",
      "Epoch 98/200\n",
      "16/16 [==============================] - 0s 2ms/step - loss: 2.3822e-04 - accuracy: 1.0000\n",
      "Epoch 99/200\n",
      "16/16 [==============================] - 0s 2ms/step - loss: 2.3190e-04 - accuracy: 1.0000\n",
      "Epoch 100/200\n",
      "16/16 [==============================] - 0s 2ms/step - loss: 2.2587e-04 - accuracy: 1.0000\n",
      "Epoch 101/200\n",
      "16/16 [==============================] - 0s 2ms/step - loss: 2.1921e-04 - accuracy: 1.0000\n",
      "Epoch 102/200\n",
      "16/16 [==============================] - 0s 2ms/step - loss: 2.1508e-04 - accuracy: 1.0000\n",
      "Epoch 103/200\n",
      "16/16 [==============================] - 0s 2ms/step - loss: 2.0953e-04 - accuracy: 1.0000\n",
      "Epoch 104/200\n",
      "16/16 [==============================] - 0s 2ms/step - loss: 2.0428e-04 - accuracy: 1.0000\n",
      "Epoch 105/200\n",
      "16/16 [==============================] - 0s 2ms/step - loss: 2.0192e-04 - accuracy: 1.0000\n",
      "Epoch 106/200\n",
      "16/16 [==============================] - 0s 2ms/step - loss: 1.9568e-04 - accuracy: 1.0000\n",
      "Epoch 107/200\n",
      "16/16 [==============================] - 0s 2ms/step - loss: 1.8903e-04 - accuracy: 1.0000\n",
      "Epoch 108/200\n",
      "16/16 [==============================] - 0s 2ms/step - loss: 1.8370e-04 - accuracy: 1.0000\n",
      "Epoch 109/200\n",
      "16/16 [==============================] - 0s 2ms/step - loss: 1.7870e-04 - accuracy: 1.0000\n",
      "Epoch 110/200\n",
      "16/16 [==============================] - 0s 2ms/step - loss: 1.7432e-04 - accuracy: 1.0000\n",
      "Epoch 111/200\n",
      "16/16 [==============================] - 0s 2ms/step - loss: 1.7042e-04 - accuracy: 1.0000\n",
      "Epoch 112/200\n",
      "16/16 [==============================] - 0s 2ms/step - loss: 1.6592e-04 - accuracy: 1.0000\n",
      "Epoch 113/200\n",
      "16/16 [==============================] - 0s 2ms/step - loss: 1.6328e-04 - accuracy: 1.0000\n",
      "Epoch 114/200\n",
      "16/16 [==============================] - 0s 2ms/step - loss: 1.5869e-04 - accuracy: 1.0000\n",
      "Epoch 115/200\n",
      "16/16 [==============================] - 0s 2ms/step - loss: 1.7714e-04 - accuracy: 1.0000\n",
      "Epoch 116/200\n",
      "16/16 [==============================] - 0s 2ms/step - loss: 1.8347e-04 - accuracy: 1.0000\n",
      "Epoch 117/200\n",
      "16/16 [==============================] - 0s 3ms/step - loss: 1.5676e-04 - accuracy: 1.0000\n",
      "Epoch 118/200\n",
      "16/16 [==============================] - 0s 2ms/step - loss: 1.4756e-04 - accuracy: 1.0000\n",
      "Epoch 119/200\n",
      "16/16 [==============================] - 0s 2ms/step - loss: 1.4091e-04 - accuracy: 1.0000\n",
      "Epoch 120/200\n",
      "16/16 [==============================] - 0s 2ms/step - loss: 1.3702e-04 - accuracy: 1.0000\n",
      "Epoch 121/200\n",
      "16/16 [==============================] - 0s 2ms/step - loss: 1.3396e-04 - accuracy: 1.0000\n",
      "Epoch 122/200\n",
      "16/16 [==============================] - 0s 2ms/step - loss: 1.3051e-04 - accuracy: 1.0000\n",
      "Epoch 123/200\n",
      "16/16 [==============================] - 0s 2ms/step - loss: 1.2728e-04 - accuracy: 1.0000\n",
      "Epoch 124/200\n",
      "16/16 [==============================] - 0s 2ms/step - loss: 1.2461e-04 - accuracy: 1.0000\n",
      "Epoch 125/200\n",
      "16/16 [==============================] - 0s 2ms/step - loss: 1.2245e-04 - accuracy: 1.0000\n",
      "Epoch 126/200\n",
      "16/16 [==============================] - 0s 2ms/step - loss: 1.1955e-04 - accuracy: 1.0000\n",
      "Epoch 127/200\n",
      "16/16 [==============================] - 0s 2ms/step - loss: 1.1679e-04 - accuracy: 1.0000\n",
      "Epoch 128/200\n",
      "16/16 [==============================] - 0s 2ms/step - loss: 1.1423e-04 - accuracy: 1.0000\n",
      "Epoch 129/200\n",
      "16/16 [==============================] - 0s 2ms/step - loss: 1.1217e-04 - accuracy: 1.0000\n",
      "Epoch 130/200\n",
      "16/16 [==============================] - 0s 2ms/step - loss: 1.0958e-04 - accuracy: 1.0000\n",
      "Epoch 131/200\n",
      "16/16 [==============================] - 0s 2ms/step - loss: 1.0698e-04 - accuracy: 1.0000\n",
      "Epoch 132/200\n",
      "16/16 [==============================] - 0s 2ms/step - loss: 1.0514e-04 - accuracy: 1.0000\n",
      "Epoch 133/200\n",
      "16/16 [==============================] - 0s 2ms/step - loss: 1.0295e-04 - accuracy: 1.0000\n",
      "Epoch 134/200\n",
      "16/16 [==============================] - 0s 2ms/step - loss: 1.0093e-04 - accuracy: 1.0000\n",
      "Epoch 135/200\n",
      "16/16 [==============================] - 0s 2ms/step - loss: 9.8813e-05 - accuracy: 1.0000\n",
      "Epoch 136/200\n",
      "16/16 [==============================] - 0s 2ms/step - loss: 9.7406e-05 - accuracy: 1.0000\n",
      "Epoch 137/200\n",
      "16/16 [==============================] - 0s 2ms/step - loss: 9.5432e-05 - accuracy: 1.0000\n",
      "Epoch 138/200\n",
      "16/16 [==============================] - 0s 2ms/step - loss: 9.3512e-05 - accuracy: 1.0000\n",
      "Epoch 139/200\n",
      "16/16 [==============================] - 0s 2ms/step - loss: 9.1750e-05 - accuracy: 1.0000\n",
      "Epoch 140/200\n",
      "16/16 [==============================] - 0s 2ms/step - loss: 9.0646e-05 - accuracy: 1.0000\n",
      "Epoch 141/200\n",
      "16/16 [==============================] - 0s 2ms/step - loss: 8.8555e-05 - accuracy: 1.0000\n",
      "Epoch 142/200\n",
      "16/16 [==============================] - 0s 2ms/step - loss: 8.6961e-05 - accuracy: 1.0000\n",
      "Epoch 143/200\n",
      "16/16 [==============================] - 0s 2ms/step - loss: 8.5148e-05 - accuracy: 1.0000\n",
      "Epoch 144/200\n",
      "16/16 [==============================] - 0s 2ms/step - loss: 8.3415e-05 - accuracy: 1.0000\n",
      "Epoch 145/200\n",
      "16/16 [==============================] - 0s 2ms/step - loss: 8.1896e-05 - accuracy: 1.0000\n",
      "Epoch 146/200\n",
      "16/16 [==============================] - 0s 2ms/step - loss: 8.0240e-05 - accuracy: 1.0000\n",
      "Epoch 147/200\n",
      "16/16 [==============================] - 0s 2ms/step - loss: 7.8717e-05 - accuracy: 1.0000\n",
      "Epoch 148/200\n",
      "16/16 [==============================] - 0s 2ms/step - loss: 7.7314e-05 - accuracy: 1.0000\n",
      "Epoch 149/200\n",
      "16/16 [==============================] - 0s 2ms/step - loss: 7.6050e-05 - accuracy: 1.0000\n",
      "Epoch 150/200\n",
      "16/16 [==============================] - 0s 2ms/step - loss: 7.4721e-05 - accuracy: 1.0000\n",
      "Epoch 151/200\n",
      "16/16 [==============================] - 0s 2ms/step - loss: 7.3327e-05 - accuracy: 1.0000\n",
      "Epoch 152/200\n",
      "16/16 [==============================] - 0s 2ms/step - loss: 7.2168e-05 - accuracy: 1.0000\n",
      "Epoch 153/200\n",
      "16/16 [==============================] - 0s 2ms/step - loss: 7.0922e-05 - accuracy: 1.0000\n",
      "Epoch 154/200\n",
      "16/16 [==============================] - 0s 2ms/step - loss: 6.9756e-05 - accuracy: 1.0000\n",
      "Epoch 155/200\n",
      "16/16 [==============================] - 0s 2ms/step - loss: 6.8577e-05 - accuracy: 1.0000\n",
      "Epoch 156/200\n",
      "16/16 [==============================] - 0s 2ms/step - loss: 6.7337e-05 - accuracy: 1.0000\n",
      "Epoch 157/200\n",
      "16/16 [==============================] - 0s 2ms/step - loss: 6.6290e-05 - accuracy: 1.0000\n",
      "Epoch 158/200\n",
      "16/16 [==============================] - 0s 1ms/step - loss: 6.5243e-05 - accuracy: 1.0000\n",
      "Epoch 159/200\n"
     ]
    },
    {
     "name": "stdout",
     "output_type": "stream",
     "text": [
      "16/16 [==============================] - 0s 2ms/step - loss: 6.4284e-05 - accuracy: 1.0000\n",
      "Epoch 160/200\n",
      "16/16 [==============================] - 0s 2ms/step - loss: 6.3283e-05 - accuracy: 1.0000\n",
      "Epoch 161/200\n",
      "16/16 [==============================] - 0s 2ms/step - loss: 6.2057e-05 - accuracy: 1.0000\n",
      "Epoch 162/200\n",
      "16/16 [==============================] - 0s 2ms/step - loss: 6.1123e-05 - accuracy: 1.0000\n",
      "Epoch 163/200\n",
      "16/16 [==============================] - 0s 2ms/step - loss: 5.9940e-05 - accuracy: 1.0000\n",
      "Epoch 164/200\n",
      "16/16 [==============================] - 0s 2ms/step - loss: 5.8996e-05 - accuracy: 1.0000\n",
      "Epoch 165/200\n",
      "16/16 [==============================] - 0s 2ms/step - loss: 5.7851e-05 - accuracy: 1.0000\n",
      "Epoch 166/200\n",
      "16/16 [==============================] - 0s 2ms/step - loss: 5.8912e-05 - accuracy: 1.0000\n",
      "Epoch 167/200\n",
      "16/16 [==============================] - 0s 2ms/step - loss: 5.6943e-05 - accuracy: 1.0000\n",
      "Epoch 168/200\n",
      "16/16 [==============================] - 0s 1ms/step - loss: 5.5543e-05 - accuracy: 1.0000\n",
      "Epoch 169/200\n",
      "16/16 [==============================] - 0s 2ms/step - loss: 5.4339e-05 - accuracy: 1.0000\n",
      "Epoch 170/200\n",
      "16/16 [==============================] - 0s 2ms/step - loss: 5.3277e-05 - accuracy: 1.0000\n",
      "Epoch 171/200\n",
      "16/16 [==============================] - 0s 2ms/step - loss: 5.2406e-05 - accuracy: 1.0000\n",
      "Epoch 172/200\n",
      "16/16 [==============================] - 0s 2ms/step - loss: 5.1400e-05 - accuracy: 1.0000\n",
      "Epoch 173/200\n",
      "16/16 [==============================] - 0s 2ms/step - loss: 5.0518e-05 - accuracy: 1.0000\n",
      "Epoch 174/200\n",
      "16/16 [==============================] - 0s 2ms/step - loss: 4.9682e-05 - accuracy: 1.0000\n",
      "Epoch 175/200\n",
      "16/16 [==============================] - 0s 2ms/step - loss: 4.8822e-05 - accuracy: 1.0000\n",
      "Epoch 176/200\n",
      "16/16 [==============================] - 0s 2ms/step - loss: 4.9018e-05 - accuracy: 1.0000\n",
      "Epoch 177/200\n",
      "16/16 [==============================] - 0s 2ms/step - loss: 4.7863e-05 - accuracy: 1.0000\n",
      "Epoch 178/200\n",
      "16/16 [==============================] - 0s 2ms/step - loss: 4.6879e-05 - accuracy: 1.0000\n",
      "Epoch 179/200\n",
      "16/16 [==============================] - 0s 2ms/step - loss: 4.5630e-05 - accuracy: 1.0000\n",
      "Epoch 180/200\n",
      "16/16 [==============================] - 0s 2ms/step - loss: 4.4948e-05 - accuracy: 1.0000\n",
      "Epoch 181/200\n",
      "16/16 [==============================] - 0s 2ms/step - loss: 4.4185e-05 - accuracy: 1.0000\n",
      "Epoch 182/200\n",
      "16/16 [==============================] - 0s 2ms/step - loss: 4.3489e-05 - accuracy: 1.0000\n",
      "Epoch 183/200\n",
      "16/16 [==============================] - 0s 2ms/step - loss: 4.2892e-05 - accuracy: 1.0000\n",
      "Epoch 184/200\n",
      "16/16 [==============================] - 0s 2ms/step - loss: 4.2190e-05 - accuracy: 1.0000\n",
      "Epoch 185/200\n",
      "16/16 [==============================] - 0s 2ms/step - loss: 4.1394e-05 - accuracy: 1.0000\n",
      "Epoch 186/200\n",
      "16/16 [==============================] - 0s 2ms/step - loss: 4.0883e-05 - accuracy: 1.0000\n",
      "Epoch 187/200\n",
      "16/16 [==============================] - 0s 2ms/step - loss: 4.0258e-05 - accuracy: 1.0000\n",
      "Epoch 188/200\n",
      "16/16 [==============================] - 0s 2ms/step - loss: 3.9635e-05 - accuracy: 1.0000\n",
      "Epoch 189/200\n",
      "16/16 [==============================] - 0s 2ms/step - loss: 3.9012e-05 - accuracy: 1.0000\n",
      "Epoch 190/200\n",
      "16/16 [==============================] - 0s 2ms/step - loss: 3.8314e-05 - accuracy: 1.0000\n",
      "Epoch 191/200\n",
      "16/16 [==============================] - 0s 2ms/step - loss: 3.7772e-05 - accuracy: 1.0000\n",
      "Epoch 192/200\n",
      "16/16 [==============================] - 0s 2ms/step - loss: 3.7221e-05 - accuracy: 1.0000\n",
      "Epoch 193/200\n",
      "16/16 [==============================] - 0s 2ms/step - loss: 3.6649e-05 - accuracy: 1.0000\n",
      "Epoch 194/200\n",
      "16/16 [==============================] - 0s 2ms/step - loss: 3.6178e-05 - accuracy: 1.0000\n",
      "Epoch 195/200\n",
      "16/16 [==============================] - 0s 2ms/step - loss: 3.5573e-05 - accuracy: 1.0000\n",
      "Epoch 196/200\n",
      "16/16 [==============================] - 0s 2ms/step - loss: 3.5360e-05 - accuracy: 1.0000\n",
      "Epoch 197/200\n",
      "16/16 [==============================] - 0s 2ms/step - loss: 3.4615e-05 - accuracy: 1.0000\n",
      "Epoch 198/200\n",
      "16/16 [==============================] - 0s 2ms/step - loss: 3.4420e-05 - accuracy: 1.0000\n",
      "Epoch 199/200\n",
      "16/16 [==============================] - 0s 2ms/step - loss: 3.3894e-05 - accuracy: 1.0000\n",
      "Epoch 200/200\n",
      "16/16 [==============================] - 0s 2ms/step - loss: 3.3169e-05 - accuracy: 1.0000\n"
     ]
    },
    {
     "data": {
      "text/plain": [
       "<tensorflow.python.keras.callbacks.History at 0x2beb2caa208>"
      ]
     },
     "execution_count": 105,
     "metadata": {},
     "output_type": "execute_result"
    }
   ],
   "source": [
    "#3: train the model\n",
    "mod2.fit(X_train, y_train, epochs = 200, batch_size = 300)"
   ]
  },
  {
   "cell_type": "code",
   "execution_count": 106,
   "metadata": {},
   "outputs": [
    {
     "name": "stdout",
     "output_type": "stream",
     "text": [
      "36/36 [==============================] - 0s 1ms/step - loss: 0.0076 - accuracy: 0.9973\n",
      "Test Loss 0.00666241766884923\n",
      "Test Accuracy 0.9991142749786377\n"
     ]
    }
   ],
   "source": [
    "#4: evaluate\n",
    "mod2.evaluate(X_test, y_test) \n",
    "print(\"Test Loss\", loss_and_metrics[0]) \n",
    "print(\"Test Accuracy\", loss_and_metrics[1]) "
   ]
  },
  {
   "cell_type": "code",
   "execution_count": null,
   "metadata": {},
   "outputs": [],
   "source": []
  },
  {
   "cell_type": "code",
   "execution_count": null,
   "metadata": {},
   "outputs": [],
   "source": []
  }
 ],
 "metadata": {
  "kernelspec": {
   "display_name": "Python 3",
   "language": "python",
   "name": "python3"
  },
  "language_info": {
   "codemirror_mode": {
    "name": "ipython",
    "version": 3
   },
   "file_extension": ".py",
   "mimetype": "text/x-python",
   "name": "python",
   "nbconvert_exporter": "python",
   "pygments_lexer": "ipython3",
   "version": "3.7.4"
  }
 },
 "nbformat": 4,
 "nbformat_minor": 2
}
